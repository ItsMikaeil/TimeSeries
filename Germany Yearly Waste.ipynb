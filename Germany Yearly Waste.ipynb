{
 "cells": [
  {
   "cell_type": "code",
   "execution_count": 1,
   "metadata": {},
   "outputs": [],
   "source": [
    "import pandas as pd\n",
    "import numpy as np\n",
    "import matplotlib.pyplot as plt"
   ]
  },
  {
   "cell_type": "code",
   "execution_count": 2,
   "metadata": {},
   "outputs": [
    {
     "data": {
      "text/html": [
       "<div>\n",
       "<style scoped>\n",
       "    .dataframe tbody tr th:only-of-type {\n",
       "        vertical-align: middle;\n",
       "    }\n",
       "\n",
       "    .dataframe tbody tr th {\n",
       "        vertical-align: top;\n",
       "    }\n",
       "\n",
       "    .dataframe thead th {\n",
       "        text-align: right;\n",
       "    }\n",
       "</style>\n",
       "<table border=\"1\" class=\"dataframe\">\n",
       "  <thead>\n",
       "    <tr style=\"text-align: right;\">\n",
       "      <th></th>\n",
       "      <th>Jahre</th>\n",
       "      <th>Anteil der behandelten und stofflich verwerteten Siedlungsabfälle am gesamten Siedlungsabfallaufkommen (Percent share of processed and recycled municipal waste in the total amount of municipal waste)</th>\n",
       "      <th>Percent Municipal waste generation</th>\n",
       "      <th>Total Recyclable waste (Tonne) Hazardous</th>\n",
       "      <th>Total Recyclable waste (Tonne) Non-Hazardous</th>\n",
       "      <th>Total Recyclable waste (Tonne) Hazardous .1</th>\n",
       "      <th>Total waste (Tonne)</th>\n",
       "    </tr>\n",
       "  </thead>\n",
       "  <tbody>\n",
       "    <tr>\n",
       "      <th>0</th>\n",
       "      <td>2002</td>\n",
       "      <td>56.100000</td>\n",
       "      <td>52.772</td>\n",
       "      <td>NaN</td>\n",
       "      <td>NaN</td>\n",
       "      <td>NaN</td>\n",
       "      <td>NaN</td>\n",
       "    </tr>\n",
       "    <tr>\n",
       "      <th>1</th>\n",
       "      <td>NaN</td>\n",
       "      <td>57.800000</td>\n",
       "      <td>49.622</td>\n",
       "      <td>NaN</td>\n",
       "      <td>NaN</td>\n",
       "      <td>NaN</td>\n",
       "      <td>NaN</td>\n",
       "    </tr>\n",
       "    <tr>\n",
       "      <th>2</th>\n",
       "      <td>NaN</td>\n",
       "      <td>56.700000</td>\n",
       "      <td>48.434</td>\n",
       "      <td>446313.0</td>\n",
       "      <td>30886843.0</td>\n",
       "      <td>?</td>\n",
       "      <td>364021937.0</td>\n",
       "    </tr>\n",
       "    <tr>\n",
       "      <th>3</th>\n",
       "      <td>2005</td>\n",
       "      <td>60.900000</td>\n",
       "      <td>46.555</td>\n",
       "      <td>NaN</td>\n",
       "      <td>NaN</td>\n",
       "      <td>NaN</td>\n",
       "      <td>NaN</td>\n",
       "    </tr>\n",
       "    <tr>\n",
       "      <th>4</th>\n",
       "      <td>NaN</td>\n",
       "      <td>62.000000</td>\n",
       "      <td>46.426</td>\n",
       "      <td>586837.0</td>\n",
       "      <td>29425141.0</td>\n",
       "      <td>?</td>\n",
       "      <td>363786069.0</td>\n",
       "    </tr>\n",
       "    <tr>\n",
       "      <th>5</th>\n",
       "      <td>NaN</td>\n",
       "      <td>63.200000</td>\n",
       "      <td>47.887</td>\n",
       "      <td>NaN</td>\n",
       "      <td>NaN</td>\n",
       "      <td>NaN</td>\n",
       "      <td>NaN</td>\n",
       "    </tr>\n",
       "    <tr>\n",
       "      <th>6</th>\n",
       "      <td>NaN</td>\n",
       "      <td>63.750000</td>\n",
       "      <td>48.367</td>\n",
       "      <td>816544.0</td>\n",
       "      <td>34525004.0</td>\n",
       "      <td>?</td>\n",
       "      <td>372796355.0</td>\n",
       "    </tr>\n",
       "    <tr>\n",
       "      <th>7</th>\n",
       "      <td>NaN</td>\n",
       "      <td>63.120000</td>\n",
       "      <td>48.466</td>\n",
       "      <td>NaN</td>\n",
       "      <td>NaN</td>\n",
       "      <td>NaN</td>\n",
       "      <td>NaN</td>\n",
       "    </tr>\n",
       "    <tr>\n",
       "      <th>8</th>\n",
       "      <td>2010</td>\n",
       "      <td>62.500000</td>\n",
       "      <td>49.237</td>\n",
       "      <td>1085701.0</td>\n",
       "      <td>33464087.0</td>\n",
       "      <td>?</td>\n",
       "      <td>363544995.0</td>\n",
       "    </tr>\n",
       "    <tr>\n",
       "      <th>9</th>\n",
       "      <td>NaN</td>\n",
       "      <td>62.970000</td>\n",
       "      <td>50.237</td>\n",
       "      <td>NaN</td>\n",
       "      <td>NaN</td>\n",
       "      <td>NaN</td>\n",
       "      <td>NaN</td>\n",
       "    </tr>\n",
       "    <tr>\n",
       "      <th>10</th>\n",
       "      <td>NaN</td>\n",
       "      <td>65.230000</td>\n",
       "      <td>49.759</td>\n",
       "      <td>1316111.0</td>\n",
       "      <td>35967574.0</td>\n",
       "      <td>?</td>\n",
       "      <td>368022172.0</td>\n",
       "    </tr>\n",
       "    <tr>\n",
       "      <th>11</th>\n",
       "      <td>NaN</td>\n",
       "      <td>63.806738</td>\n",
       "      <td>49.570</td>\n",
       "      <td>NaN</td>\n",
       "      <td>NaN</td>\n",
       "      <td>NaN</td>\n",
       "      <td>NaN</td>\n",
       "    </tr>\n",
       "    <tr>\n",
       "      <th>12</th>\n",
       "      <td>NaN</td>\n",
       "      <td>65.600000</td>\n",
       "      <td>51.102</td>\n",
       "      <td>1081826.0</td>\n",
       "      <td>37778910.0</td>\n",
       "      <td>?</td>\n",
       "      <td>387504241.0</td>\n",
       "    </tr>\n",
       "    <tr>\n",
       "      <th>13</th>\n",
       "      <td>2015</td>\n",
       "      <td>66.700000</td>\n",
       "      <td>51.600</td>\n",
       "      <td>NaN</td>\n",
       "      <td>NaN</td>\n",
       "      <td>NaN</td>\n",
       "      <td>NaN</td>\n",
       "    </tr>\n",
       "    <tr>\n",
       "      <th>14</th>\n",
       "      <td>NaN</td>\n",
       "      <td>67.100000</td>\n",
       "      <td>52.100</td>\n",
       "      <td>1052041.0</td>\n",
       "      <td>38328828.0</td>\n",
       "      <td>?</td>\n",
       "      <td>400071672.0</td>\n",
       "    </tr>\n",
       "    <tr>\n",
       "      <th>15</th>\n",
       "      <td>2017</td>\n",
       "      <td>67.200000</td>\n",
       "      <td>51.790</td>\n",
       "      <td>NaN</td>\n",
       "      <td>NaN</td>\n",
       "      <td>NaN</td>\n",
       "      <td>NaN</td>\n",
       "    </tr>\n",
       "    <tr>\n",
       "      <th>16</th>\n",
       "      <td>NaN</td>\n",
       "      <td>NaN</td>\n",
       "      <td>NaN</td>\n",
       "      <td>NaN</td>\n",
       "      <td>NaN</td>\n",
       "      <td>NaN</td>\n",
       "      <td>NaN</td>\n",
       "    </tr>\n",
       "    <tr>\n",
       "      <th>17</th>\n",
       "      <td>NaN</td>\n",
       "      <td>NaN</td>\n",
       "      <td>NaN</td>\n",
       "      <td>NaN</td>\n",
       "      <td>NaN</td>\n",
       "      <td>NaN</td>\n",
       "      <td>NaN</td>\n",
       "    </tr>\n",
       "    <tr>\n",
       "      <th>18</th>\n",
       "      <td>Ziel\\n2020</td>\n",
       "      <td>65.000000</td>\n",
       "      <td>NaN</td>\n",
       "      <td>NaN</td>\n",
       "      <td>NaN</td>\n",
       "      <td>NaN</td>\n",
       "      <td>NaN</td>\n",
       "    </tr>\n",
       "  </tbody>\n",
       "</table>\n",
       "</div>"
      ],
      "text/plain": [
       "         Jahre  \\\n",
       "0         2002   \n",
       "1          NaN   \n",
       "2          NaN   \n",
       "3         2005   \n",
       "4          NaN   \n",
       "5          NaN   \n",
       "6          NaN   \n",
       "7          NaN   \n",
       "8         2010   \n",
       "9          NaN   \n",
       "10         NaN   \n",
       "11         NaN   \n",
       "12         NaN   \n",
       "13        2015   \n",
       "14         NaN   \n",
       "15        2017   \n",
       "16         NaN   \n",
       "17         NaN   \n",
       "18  Ziel\\n2020   \n",
       "\n",
       "    Anteil der behandelten und stofflich verwerteten Siedlungsabfälle am gesamten Siedlungsabfallaufkommen (Percent share of processed and recycled municipal waste in the total amount of municipal waste)  \\\n",
       "0                                           56.100000                                                                                                                                                         \n",
       "1                                           57.800000                                                                                                                                                         \n",
       "2                                           56.700000                                                                                                                                                         \n",
       "3                                           60.900000                                                                                                                                                         \n",
       "4                                           62.000000                                                                                                                                                         \n",
       "5                                           63.200000                                                                                                                                                         \n",
       "6                                           63.750000                                                                                                                                                         \n",
       "7                                           63.120000                                                                                                                                                         \n",
       "8                                           62.500000                                                                                                                                                         \n",
       "9                                           62.970000                                                                                                                                                         \n",
       "10                                          65.230000                                                                                                                                                         \n",
       "11                                          63.806738                                                                                                                                                         \n",
       "12                                          65.600000                                                                                                                                                         \n",
       "13                                          66.700000                                                                                                                                                         \n",
       "14                                          67.100000                                                                                                                                                         \n",
       "15                                          67.200000                                                                                                                                                         \n",
       "16                                                NaN                                                                                                                                                         \n",
       "17                                                NaN                                                                                                                                                         \n",
       "18                                          65.000000                                                                                                                                                         \n",
       "\n",
       "    Percent Municipal waste generation  \\\n",
       "0                               52.772   \n",
       "1                               49.622   \n",
       "2                               48.434   \n",
       "3                               46.555   \n",
       "4                               46.426   \n",
       "5                               47.887   \n",
       "6                               48.367   \n",
       "7                               48.466   \n",
       "8                               49.237   \n",
       "9                               50.237   \n",
       "10                              49.759   \n",
       "11                              49.570   \n",
       "12                              51.102   \n",
       "13                              51.600   \n",
       "14                              52.100   \n",
       "15                              51.790   \n",
       "16                                 NaN   \n",
       "17                                 NaN   \n",
       "18                                 NaN   \n",
       "\n",
       "    Total Recyclable waste (Tonne) Hazardous   \\\n",
       "0                                         NaN   \n",
       "1                                         NaN   \n",
       "2                                    446313.0   \n",
       "3                                         NaN   \n",
       "4                                    586837.0   \n",
       "5                                         NaN   \n",
       "6                                    816544.0   \n",
       "7                                         NaN   \n",
       "8                                   1085701.0   \n",
       "9                                         NaN   \n",
       "10                                  1316111.0   \n",
       "11                                        NaN   \n",
       "12                                  1081826.0   \n",
       "13                                        NaN   \n",
       "14                                  1052041.0   \n",
       "15                                        NaN   \n",
       "16                                        NaN   \n",
       "17                                        NaN   \n",
       "18                                        NaN   \n",
       "\n",
       "    Total Recyclable waste (Tonne) Non-Hazardous  \\\n",
       "0                                            NaN   \n",
       "1                                            NaN   \n",
       "2                                     30886843.0   \n",
       "3                                            NaN   \n",
       "4                                     29425141.0   \n",
       "5                                            NaN   \n",
       "6                                     34525004.0   \n",
       "7                                            NaN   \n",
       "8                                     33464087.0   \n",
       "9                                            NaN   \n",
       "10                                    35967574.0   \n",
       "11                                           NaN   \n",
       "12                                    37778910.0   \n",
       "13                                           NaN   \n",
       "14                                    38328828.0   \n",
       "15                                           NaN   \n",
       "16                                           NaN   \n",
       "17                                           NaN   \n",
       "18                                           NaN   \n",
       "\n",
       "   Total Recyclable waste (Tonne) Hazardous .1  Total waste (Tonne)  \n",
       "0                                          NaN                  NaN  \n",
       "1                                          NaN                  NaN  \n",
       "2                                            ?          364021937.0  \n",
       "3                                          NaN                  NaN  \n",
       "4                                            ?          363786069.0  \n",
       "5                                          NaN                  NaN  \n",
       "6                                            ?          372796355.0  \n",
       "7                                          NaN                  NaN  \n",
       "8                                            ?          363544995.0  \n",
       "9                                          NaN                  NaN  \n",
       "10                                           ?          368022172.0  \n",
       "11                                         NaN                  NaN  \n",
       "12                                           ?          387504241.0  \n",
       "13                                         NaN                  NaN  \n",
       "14                                           ?          400071672.0  \n",
       "15                                         NaN                  NaN  \n",
       "16                                         NaN                  NaN  \n",
       "17                                         NaN                  NaN  \n",
       "18                                         NaN                  NaN  "
      ]
     },
     "execution_count": 2,
     "metadata": {},
     "output_type": "execute_result"
    }
   ],
   "source": [
    "gyw=pd.read_excel('D:/Germany Yearly Waste.xlsx')\n",
    "gyw"
   ]
  },
  {
   "cell_type": "code",
   "execution_count": 3,
   "metadata": {},
   "outputs": [],
   "source": [
    "# dropping not useful column Total Recyclable waste (Tonne) Hazardous .1 and Jahre\n",
    "\n",
    "gyw.drop(columns=['Jahre','Total Recyclable waste (Tonne) Hazardous .1'],inplace=True)\n"
   ]
  },
  {
   "cell_type": "code",
   "execution_count": 4,
   "metadata": {},
   "outputs": [],
   "source": [
    "# define new Index base of years\n",
    "\n",
    "Index=pd.Series(range(2002,2021,1))\n",
    "gyw.rename(index=Index,inplace=True)"
   ]
  },
  {
   "cell_type": "code",
   "execution_count": 5,
   "metadata": {},
   "outputs": [
    {
     "data": {
      "text/html": [
       "<div>\n",
       "<style scoped>\n",
       "    .dataframe tbody tr th:only-of-type {\n",
       "        vertical-align: middle;\n",
       "    }\n",
       "\n",
       "    .dataframe tbody tr th {\n",
       "        vertical-align: top;\n",
       "    }\n",
       "\n",
       "    .dataframe thead th {\n",
       "        text-align: right;\n",
       "    }\n",
       "</style>\n",
       "<table border=\"1\" class=\"dataframe\">\n",
       "  <thead>\n",
       "    <tr style=\"text-align: right;\">\n",
       "      <th></th>\n",
       "      <th>Anteil der behandelten und stofflich verwerteten Siedlungsabfälle am gesamten Siedlungsabfallaufkommen (Percent share of processed and recycled municipal waste in the total amount of municipal waste)</th>\n",
       "      <th>Percent Municipal waste generation</th>\n",
       "      <th>Total Recyclable waste (Tonne) Hazardous</th>\n",
       "      <th>Total Recyclable waste (Tonne) Non-Hazardous</th>\n",
       "      <th>Total waste (Tonne)</th>\n",
       "    </tr>\n",
       "  </thead>\n",
       "  <tbody>\n",
       "    <tr>\n",
       "      <th>2002</th>\n",
       "      <td>56.100000</td>\n",
       "      <td>52.772</td>\n",
       "      <td>NaN</td>\n",
       "      <td>NaN</td>\n",
       "      <td>NaN</td>\n",
       "    </tr>\n",
       "    <tr>\n",
       "      <th>2003</th>\n",
       "      <td>57.800000</td>\n",
       "      <td>49.622</td>\n",
       "      <td>NaN</td>\n",
       "      <td>NaN</td>\n",
       "      <td>NaN</td>\n",
       "    </tr>\n",
       "    <tr>\n",
       "      <th>2004</th>\n",
       "      <td>56.700000</td>\n",
       "      <td>48.434</td>\n",
       "      <td>446313.0</td>\n",
       "      <td>30886843.0</td>\n",
       "      <td>364021937.0</td>\n",
       "    </tr>\n",
       "    <tr>\n",
       "      <th>2005</th>\n",
       "      <td>60.900000</td>\n",
       "      <td>46.555</td>\n",
       "      <td>NaN</td>\n",
       "      <td>NaN</td>\n",
       "      <td>NaN</td>\n",
       "    </tr>\n",
       "    <tr>\n",
       "      <th>2006</th>\n",
       "      <td>62.000000</td>\n",
       "      <td>46.426</td>\n",
       "      <td>586837.0</td>\n",
       "      <td>29425141.0</td>\n",
       "      <td>363786069.0</td>\n",
       "    </tr>\n",
       "    <tr>\n",
       "      <th>2007</th>\n",
       "      <td>63.200000</td>\n",
       "      <td>47.887</td>\n",
       "      <td>NaN</td>\n",
       "      <td>NaN</td>\n",
       "      <td>NaN</td>\n",
       "    </tr>\n",
       "    <tr>\n",
       "      <th>2008</th>\n",
       "      <td>63.750000</td>\n",
       "      <td>48.367</td>\n",
       "      <td>816544.0</td>\n",
       "      <td>34525004.0</td>\n",
       "      <td>372796355.0</td>\n",
       "    </tr>\n",
       "    <tr>\n",
       "      <th>2009</th>\n",
       "      <td>63.120000</td>\n",
       "      <td>48.466</td>\n",
       "      <td>NaN</td>\n",
       "      <td>NaN</td>\n",
       "      <td>NaN</td>\n",
       "    </tr>\n",
       "    <tr>\n",
       "      <th>2010</th>\n",
       "      <td>62.500000</td>\n",
       "      <td>49.237</td>\n",
       "      <td>1085701.0</td>\n",
       "      <td>33464087.0</td>\n",
       "      <td>363544995.0</td>\n",
       "    </tr>\n",
       "    <tr>\n",
       "      <th>2011</th>\n",
       "      <td>62.970000</td>\n",
       "      <td>50.237</td>\n",
       "      <td>NaN</td>\n",
       "      <td>NaN</td>\n",
       "      <td>NaN</td>\n",
       "    </tr>\n",
       "    <tr>\n",
       "      <th>2012</th>\n",
       "      <td>65.230000</td>\n",
       "      <td>49.759</td>\n",
       "      <td>1316111.0</td>\n",
       "      <td>35967574.0</td>\n",
       "      <td>368022172.0</td>\n",
       "    </tr>\n",
       "    <tr>\n",
       "      <th>2013</th>\n",
       "      <td>63.806738</td>\n",
       "      <td>49.570</td>\n",
       "      <td>NaN</td>\n",
       "      <td>NaN</td>\n",
       "      <td>NaN</td>\n",
       "    </tr>\n",
       "    <tr>\n",
       "      <th>2014</th>\n",
       "      <td>65.600000</td>\n",
       "      <td>51.102</td>\n",
       "      <td>1081826.0</td>\n",
       "      <td>37778910.0</td>\n",
       "      <td>387504241.0</td>\n",
       "    </tr>\n",
       "    <tr>\n",
       "      <th>2015</th>\n",
       "      <td>66.700000</td>\n",
       "      <td>51.600</td>\n",
       "      <td>NaN</td>\n",
       "      <td>NaN</td>\n",
       "      <td>NaN</td>\n",
       "    </tr>\n",
       "    <tr>\n",
       "      <th>2016</th>\n",
       "      <td>67.100000</td>\n",
       "      <td>52.100</td>\n",
       "      <td>1052041.0</td>\n",
       "      <td>38328828.0</td>\n",
       "      <td>400071672.0</td>\n",
       "    </tr>\n",
       "    <tr>\n",
       "      <th>2017</th>\n",
       "      <td>67.200000</td>\n",
       "      <td>51.790</td>\n",
       "      <td>NaN</td>\n",
       "      <td>NaN</td>\n",
       "      <td>NaN</td>\n",
       "    </tr>\n",
       "    <tr>\n",
       "      <th>2018</th>\n",
       "      <td>NaN</td>\n",
       "      <td>NaN</td>\n",
       "      <td>NaN</td>\n",
       "      <td>NaN</td>\n",
       "      <td>NaN</td>\n",
       "    </tr>\n",
       "    <tr>\n",
       "      <th>2019</th>\n",
       "      <td>NaN</td>\n",
       "      <td>NaN</td>\n",
       "      <td>NaN</td>\n",
       "      <td>NaN</td>\n",
       "      <td>NaN</td>\n",
       "    </tr>\n",
       "    <tr>\n",
       "      <th>2020</th>\n",
       "      <td>65.000000</td>\n",
       "      <td>NaN</td>\n",
       "      <td>NaN</td>\n",
       "      <td>NaN</td>\n",
       "      <td>NaN</td>\n",
       "    </tr>\n",
       "  </tbody>\n",
       "</table>\n",
       "</div>"
      ],
      "text/plain": [
       "      Anteil der behandelten und stofflich verwerteten Siedlungsabfälle am gesamten Siedlungsabfallaufkommen (Percent share of processed and recycled municipal waste in the total amount of municipal waste)  \\\n",
       "2002                                          56.100000                                                                                                                                                         \n",
       "2003                                          57.800000                                                                                                                                                         \n",
       "2004                                          56.700000                                                                                                                                                         \n",
       "2005                                          60.900000                                                                                                                                                         \n",
       "2006                                          62.000000                                                                                                                                                         \n",
       "2007                                          63.200000                                                                                                                                                         \n",
       "2008                                          63.750000                                                                                                                                                         \n",
       "2009                                          63.120000                                                                                                                                                         \n",
       "2010                                          62.500000                                                                                                                                                         \n",
       "2011                                          62.970000                                                                                                                                                         \n",
       "2012                                          65.230000                                                                                                                                                         \n",
       "2013                                          63.806738                                                                                                                                                         \n",
       "2014                                          65.600000                                                                                                                                                         \n",
       "2015                                          66.700000                                                                                                                                                         \n",
       "2016                                          67.100000                                                                                                                                                         \n",
       "2017                                          67.200000                                                                                                                                                         \n",
       "2018                                                NaN                                                                                                                                                         \n",
       "2019                                                NaN                                                                                                                                                         \n",
       "2020                                          65.000000                                                                                                                                                         \n",
       "\n",
       "      Percent Municipal waste generation  \\\n",
       "2002                              52.772   \n",
       "2003                              49.622   \n",
       "2004                              48.434   \n",
       "2005                              46.555   \n",
       "2006                              46.426   \n",
       "2007                              47.887   \n",
       "2008                              48.367   \n",
       "2009                              48.466   \n",
       "2010                              49.237   \n",
       "2011                              50.237   \n",
       "2012                              49.759   \n",
       "2013                              49.570   \n",
       "2014                              51.102   \n",
       "2015                              51.600   \n",
       "2016                              52.100   \n",
       "2017                              51.790   \n",
       "2018                                 NaN   \n",
       "2019                                 NaN   \n",
       "2020                                 NaN   \n",
       "\n",
       "      Total Recyclable waste (Tonne) Hazardous   \\\n",
       "2002                                        NaN   \n",
       "2003                                        NaN   \n",
       "2004                                   446313.0   \n",
       "2005                                        NaN   \n",
       "2006                                   586837.0   \n",
       "2007                                        NaN   \n",
       "2008                                   816544.0   \n",
       "2009                                        NaN   \n",
       "2010                                  1085701.0   \n",
       "2011                                        NaN   \n",
       "2012                                  1316111.0   \n",
       "2013                                        NaN   \n",
       "2014                                  1081826.0   \n",
       "2015                                        NaN   \n",
       "2016                                  1052041.0   \n",
       "2017                                        NaN   \n",
       "2018                                        NaN   \n",
       "2019                                        NaN   \n",
       "2020                                        NaN   \n",
       "\n",
       "      Total Recyclable waste (Tonne) Non-Hazardous  Total waste (Tonne)  \n",
       "2002                                           NaN                  NaN  \n",
       "2003                                           NaN                  NaN  \n",
       "2004                                    30886843.0          364021937.0  \n",
       "2005                                           NaN                  NaN  \n",
       "2006                                    29425141.0          363786069.0  \n",
       "2007                                           NaN                  NaN  \n",
       "2008                                    34525004.0          372796355.0  \n",
       "2009                                           NaN                  NaN  \n",
       "2010                                    33464087.0          363544995.0  \n",
       "2011                                           NaN                  NaN  \n",
       "2012                                    35967574.0          368022172.0  \n",
       "2013                                           NaN                  NaN  \n",
       "2014                                    37778910.0          387504241.0  \n",
       "2015                                           NaN                  NaN  \n",
       "2016                                    38328828.0          400071672.0  \n",
       "2017                                           NaN                  NaN  \n",
       "2018                                           NaN                  NaN  \n",
       "2019                                           NaN                  NaN  \n",
       "2020                                           NaN                  NaN  "
      ]
     },
     "execution_count": 5,
     "metadata": {},
     "output_type": "execute_result"
    }
   ],
   "source": [
    "gyw"
   ]
  },
  {
   "cell_type": "markdown",
   "metadata": {},
   "source": [
    "Q1) Using python, compute Total Recyclable Waste for each available year.\n",
    "Formula : Total Recyclable Waste = Hazardous (column 4) + Non-Hazardous (column 5)\n",
    "\n",
    "Q2) Visualize using python in one plot with 3 y-axes.\n",
    "Hint: Use 3 bar-plots per year, each with different color\n",
    "\n",
    "\n",
    "Q3) Using python, develop a model of your choice to predict the following:\n",
    "\n",
    "Q3a) Total Hazardous Waste in Tonne for year 2020\n",
    "\n",
    "Q3b) Total Non-Hazardous Waste in Tonne for year 2020\n",
    "\n",
    "Q3c) Total Recyclable Waste in Tonne for year 2020\n",
    "\n",
    "Q3d) Plot these as points Q3a, Q3b, and Q3c to your bar-plot in Q2. Do not create bar-plots for 2020."
   ]
  },
  {
   "cell_type": "code",
   "execution_count": 6,
   "metadata": {},
   "outputs": [
    {
     "data": {
      "text/plain": [
       "2002           NaN\n",
       "2003           NaN\n",
       "2004    31333156.0\n",
       "2005           NaN\n",
       "2006    30011978.0\n",
       "2007           NaN\n",
       "2008    35341548.0\n",
       "2009           NaN\n",
       "2010    34549788.0\n",
       "2011           NaN\n",
       "2012    37283685.0\n",
       "2013           NaN\n",
       "2014    38860736.0\n",
       "2015           NaN\n",
       "2016    39380869.0\n",
       "2017           NaN\n",
       "2018           NaN\n",
       "2019           NaN\n",
       "2020           NaN\n",
       "dtype: float64"
      ]
     },
     "execution_count": 6,
     "metadata": {},
     "output_type": "execute_result"
    }
   ],
   "source": [
    "# define a new column for our total recyclable waste\n",
    "\n",
    "Total_Recyclable_Waste=gyw.iloc[:,3]+ gyw.iloc[:,2]\n",
    "Total_Recyclable_Waste"
   ]
  },
  {
   "cell_type": "code",
   "execution_count": 7,
   "metadata": {},
   "outputs": [],
   "source": [
    "# adding total recyclable columns to our dataframe\n",
    "\n",
    "gyw=pd.concat([gyw,Total_Recyclable_Waste],axis=1)"
   ]
  },
  {
   "cell_type": "code",
   "execution_count": 8,
   "metadata": {},
   "outputs": [
    {
     "data": {
      "text/html": [
       "<div>\n",
       "<style scoped>\n",
       "    .dataframe tbody tr th:only-of-type {\n",
       "        vertical-align: middle;\n",
       "    }\n",
       "\n",
       "    .dataframe tbody tr th {\n",
       "        vertical-align: top;\n",
       "    }\n",
       "\n",
       "    .dataframe thead th {\n",
       "        text-align: right;\n",
       "    }\n",
       "</style>\n",
       "<table border=\"1\" class=\"dataframe\">\n",
       "  <thead>\n",
       "    <tr style=\"text-align: right;\">\n",
       "      <th></th>\n",
       "      <th>Anteil der behandelten und stofflich verwerteten Siedlungsabfälle am gesamten Siedlungsabfallaufkommen (Percent share of processed and recycled municipal waste in the total amount of municipal waste)</th>\n",
       "      <th>Percent Municipal waste generation</th>\n",
       "      <th>Total Recyclable waste (Tonne) Hazardous</th>\n",
       "      <th>Total Recyclable waste (Tonne) Non-Hazardous</th>\n",
       "      <th>Total waste (Tonne)</th>\n",
       "      <th>T_R_W</th>\n",
       "    </tr>\n",
       "  </thead>\n",
       "  <tbody>\n",
       "    <tr>\n",
       "      <th>2002</th>\n",
       "      <td>56.100000</td>\n",
       "      <td>52.772</td>\n",
       "      <td>NaN</td>\n",
       "      <td>NaN</td>\n",
       "      <td>NaN</td>\n",
       "      <td>NaN</td>\n",
       "    </tr>\n",
       "    <tr>\n",
       "      <th>2003</th>\n",
       "      <td>57.800000</td>\n",
       "      <td>49.622</td>\n",
       "      <td>NaN</td>\n",
       "      <td>NaN</td>\n",
       "      <td>NaN</td>\n",
       "      <td>NaN</td>\n",
       "    </tr>\n",
       "    <tr>\n",
       "      <th>2004</th>\n",
       "      <td>56.700000</td>\n",
       "      <td>48.434</td>\n",
       "      <td>446313.0</td>\n",
       "      <td>30886843.0</td>\n",
       "      <td>364021937.0</td>\n",
       "      <td>31333156.0</td>\n",
       "    </tr>\n",
       "    <tr>\n",
       "      <th>2005</th>\n",
       "      <td>60.900000</td>\n",
       "      <td>46.555</td>\n",
       "      <td>NaN</td>\n",
       "      <td>NaN</td>\n",
       "      <td>NaN</td>\n",
       "      <td>NaN</td>\n",
       "    </tr>\n",
       "    <tr>\n",
       "      <th>2006</th>\n",
       "      <td>62.000000</td>\n",
       "      <td>46.426</td>\n",
       "      <td>586837.0</td>\n",
       "      <td>29425141.0</td>\n",
       "      <td>363786069.0</td>\n",
       "      <td>30011978.0</td>\n",
       "    </tr>\n",
       "    <tr>\n",
       "      <th>2007</th>\n",
       "      <td>63.200000</td>\n",
       "      <td>47.887</td>\n",
       "      <td>NaN</td>\n",
       "      <td>NaN</td>\n",
       "      <td>NaN</td>\n",
       "      <td>NaN</td>\n",
       "    </tr>\n",
       "    <tr>\n",
       "      <th>2008</th>\n",
       "      <td>63.750000</td>\n",
       "      <td>48.367</td>\n",
       "      <td>816544.0</td>\n",
       "      <td>34525004.0</td>\n",
       "      <td>372796355.0</td>\n",
       "      <td>35341548.0</td>\n",
       "    </tr>\n",
       "    <tr>\n",
       "      <th>2009</th>\n",
       "      <td>63.120000</td>\n",
       "      <td>48.466</td>\n",
       "      <td>NaN</td>\n",
       "      <td>NaN</td>\n",
       "      <td>NaN</td>\n",
       "      <td>NaN</td>\n",
       "    </tr>\n",
       "    <tr>\n",
       "      <th>2010</th>\n",
       "      <td>62.500000</td>\n",
       "      <td>49.237</td>\n",
       "      <td>1085701.0</td>\n",
       "      <td>33464087.0</td>\n",
       "      <td>363544995.0</td>\n",
       "      <td>34549788.0</td>\n",
       "    </tr>\n",
       "    <tr>\n",
       "      <th>2011</th>\n",
       "      <td>62.970000</td>\n",
       "      <td>50.237</td>\n",
       "      <td>NaN</td>\n",
       "      <td>NaN</td>\n",
       "      <td>NaN</td>\n",
       "      <td>NaN</td>\n",
       "    </tr>\n",
       "    <tr>\n",
       "      <th>2012</th>\n",
       "      <td>65.230000</td>\n",
       "      <td>49.759</td>\n",
       "      <td>1316111.0</td>\n",
       "      <td>35967574.0</td>\n",
       "      <td>368022172.0</td>\n",
       "      <td>37283685.0</td>\n",
       "    </tr>\n",
       "    <tr>\n",
       "      <th>2013</th>\n",
       "      <td>63.806738</td>\n",
       "      <td>49.570</td>\n",
       "      <td>NaN</td>\n",
       "      <td>NaN</td>\n",
       "      <td>NaN</td>\n",
       "      <td>NaN</td>\n",
       "    </tr>\n",
       "    <tr>\n",
       "      <th>2014</th>\n",
       "      <td>65.600000</td>\n",
       "      <td>51.102</td>\n",
       "      <td>1081826.0</td>\n",
       "      <td>37778910.0</td>\n",
       "      <td>387504241.0</td>\n",
       "      <td>38860736.0</td>\n",
       "    </tr>\n",
       "    <tr>\n",
       "      <th>2015</th>\n",
       "      <td>66.700000</td>\n",
       "      <td>51.600</td>\n",
       "      <td>NaN</td>\n",
       "      <td>NaN</td>\n",
       "      <td>NaN</td>\n",
       "      <td>NaN</td>\n",
       "    </tr>\n",
       "    <tr>\n",
       "      <th>2016</th>\n",
       "      <td>67.100000</td>\n",
       "      <td>52.100</td>\n",
       "      <td>1052041.0</td>\n",
       "      <td>38328828.0</td>\n",
       "      <td>400071672.0</td>\n",
       "      <td>39380869.0</td>\n",
       "    </tr>\n",
       "    <tr>\n",
       "      <th>2017</th>\n",
       "      <td>67.200000</td>\n",
       "      <td>51.790</td>\n",
       "      <td>NaN</td>\n",
       "      <td>NaN</td>\n",
       "      <td>NaN</td>\n",
       "      <td>NaN</td>\n",
       "    </tr>\n",
       "    <tr>\n",
       "      <th>2018</th>\n",
       "      <td>NaN</td>\n",
       "      <td>NaN</td>\n",
       "      <td>NaN</td>\n",
       "      <td>NaN</td>\n",
       "      <td>NaN</td>\n",
       "      <td>NaN</td>\n",
       "    </tr>\n",
       "    <tr>\n",
       "      <th>2019</th>\n",
       "      <td>NaN</td>\n",
       "      <td>NaN</td>\n",
       "      <td>NaN</td>\n",
       "      <td>NaN</td>\n",
       "      <td>NaN</td>\n",
       "      <td>NaN</td>\n",
       "    </tr>\n",
       "    <tr>\n",
       "      <th>2020</th>\n",
       "      <td>65.000000</td>\n",
       "      <td>NaN</td>\n",
       "      <td>NaN</td>\n",
       "      <td>NaN</td>\n",
       "      <td>NaN</td>\n",
       "      <td>NaN</td>\n",
       "    </tr>\n",
       "  </tbody>\n",
       "</table>\n",
       "</div>"
      ],
      "text/plain": [
       "      Anteil der behandelten und stofflich verwerteten Siedlungsabfälle am gesamten Siedlungsabfallaufkommen (Percent share of processed and recycled municipal waste in the total amount of municipal waste)  \\\n",
       "2002                                          56.100000                                                                                                                                                         \n",
       "2003                                          57.800000                                                                                                                                                         \n",
       "2004                                          56.700000                                                                                                                                                         \n",
       "2005                                          60.900000                                                                                                                                                         \n",
       "2006                                          62.000000                                                                                                                                                         \n",
       "2007                                          63.200000                                                                                                                                                         \n",
       "2008                                          63.750000                                                                                                                                                         \n",
       "2009                                          63.120000                                                                                                                                                         \n",
       "2010                                          62.500000                                                                                                                                                         \n",
       "2011                                          62.970000                                                                                                                                                         \n",
       "2012                                          65.230000                                                                                                                                                         \n",
       "2013                                          63.806738                                                                                                                                                         \n",
       "2014                                          65.600000                                                                                                                                                         \n",
       "2015                                          66.700000                                                                                                                                                         \n",
       "2016                                          67.100000                                                                                                                                                         \n",
       "2017                                          67.200000                                                                                                                                                         \n",
       "2018                                                NaN                                                                                                                                                         \n",
       "2019                                                NaN                                                                                                                                                         \n",
       "2020                                          65.000000                                                                                                                                                         \n",
       "\n",
       "      Percent Municipal waste generation  \\\n",
       "2002                              52.772   \n",
       "2003                              49.622   \n",
       "2004                              48.434   \n",
       "2005                              46.555   \n",
       "2006                              46.426   \n",
       "2007                              47.887   \n",
       "2008                              48.367   \n",
       "2009                              48.466   \n",
       "2010                              49.237   \n",
       "2011                              50.237   \n",
       "2012                              49.759   \n",
       "2013                              49.570   \n",
       "2014                              51.102   \n",
       "2015                              51.600   \n",
       "2016                              52.100   \n",
       "2017                              51.790   \n",
       "2018                                 NaN   \n",
       "2019                                 NaN   \n",
       "2020                                 NaN   \n",
       "\n",
       "      Total Recyclable waste (Tonne) Hazardous   \\\n",
       "2002                                        NaN   \n",
       "2003                                        NaN   \n",
       "2004                                   446313.0   \n",
       "2005                                        NaN   \n",
       "2006                                   586837.0   \n",
       "2007                                        NaN   \n",
       "2008                                   816544.0   \n",
       "2009                                        NaN   \n",
       "2010                                  1085701.0   \n",
       "2011                                        NaN   \n",
       "2012                                  1316111.0   \n",
       "2013                                        NaN   \n",
       "2014                                  1081826.0   \n",
       "2015                                        NaN   \n",
       "2016                                  1052041.0   \n",
       "2017                                        NaN   \n",
       "2018                                        NaN   \n",
       "2019                                        NaN   \n",
       "2020                                        NaN   \n",
       "\n",
       "      Total Recyclable waste (Tonne) Non-Hazardous  Total waste (Tonne)  \\\n",
       "2002                                           NaN                  NaN   \n",
       "2003                                           NaN                  NaN   \n",
       "2004                                    30886843.0          364021937.0   \n",
       "2005                                           NaN                  NaN   \n",
       "2006                                    29425141.0          363786069.0   \n",
       "2007                                           NaN                  NaN   \n",
       "2008                                    34525004.0          372796355.0   \n",
       "2009                                           NaN                  NaN   \n",
       "2010                                    33464087.0          363544995.0   \n",
       "2011                                           NaN                  NaN   \n",
       "2012                                    35967574.0          368022172.0   \n",
       "2013                                           NaN                  NaN   \n",
       "2014                                    37778910.0          387504241.0   \n",
       "2015                                           NaN                  NaN   \n",
       "2016                                    38328828.0          400071672.0   \n",
       "2017                                           NaN                  NaN   \n",
       "2018                                           NaN                  NaN   \n",
       "2019                                           NaN                  NaN   \n",
       "2020                                           NaN                  NaN   \n",
       "\n",
       "           T_R_W  \n",
       "2002         NaN  \n",
       "2003         NaN  \n",
       "2004  31333156.0  \n",
       "2005         NaN  \n",
       "2006  30011978.0  \n",
       "2007         NaN  \n",
       "2008  35341548.0  \n",
       "2009         NaN  \n",
       "2010  34549788.0  \n",
       "2011         NaN  \n",
       "2012  37283685.0  \n",
       "2013         NaN  \n",
       "2014  38860736.0  \n",
       "2015         NaN  \n",
       "2016  39380869.0  \n",
       "2017         NaN  \n",
       "2018         NaN  \n",
       "2019         NaN  \n",
       "2020         NaN  "
      ]
     },
     "execution_count": 8,
     "metadata": {},
     "output_type": "execute_result"
    }
   ],
   "source": [
    "# define new name for our column ( by T_R_W i mean Total Recyclable Waste)\n",
    "\n",
    "gyw.rename(columns={0:'T_R_W'},inplace=True)   \n",
    "gyw"
   ]
  },
  {
   "cell_type": "markdown",
   "metadata": {},
   "source": [
    "Q2) Visualize using python in one plot with 3 y-axes."
   ]
  },
  {
   "cell_type": "code",
   "execution_count": 9,
   "metadata": {},
   "outputs": [
    {
     "data": {
      "text/html": [
       "<div>\n",
       "<style scoped>\n",
       "    .dataframe tbody tr th:only-of-type {\n",
       "        vertical-align: middle;\n",
       "    }\n",
       "\n",
       "    .dataframe tbody tr th {\n",
       "        vertical-align: top;\n",
       "    }\n",
       "\n",
       "    .dataframe thead th {\n",
       "        text-align: right;\n",
       "    }\n",
       "</style>\n",
       "<table border=\"1\" class=\"dataframe\">\n",
       "  <thead>\n",
       "    <tr style=\"text-align: right;\">\n",
       "      <th></th>\n",
       "      <th>Anteil der behandelten und stofflich verwerteten Siedlungsabfälle am gesamten Siedlungsabfallaufkommen (Percent share of processed and recycled municipal waste in the total amount of municipal waste)</th>\n",
       "      <th>Percent Municipal waste generation</th>\n",
       "      <th>Total Recyclable waste (Tonne) Hazardous</th>\n",
       "      <th>Total Recyclable waste (Tonne) Non-Hazardous</th>\n",
       "      <th>Total waste (Tonne)</th>\n",
       "      <th>T_R_W</th>\n",
       "    </tr>\n",
       "  </thead>\n",
       "  <tbody>\n",
       "    <tr>\n",
       "      <th>2004</th>\n",
       "      <td>56.70</td>\n",
       "      <td>48.434</td>\n",
       "      <td>446313.0</td>\n",
       "      <td>30886843.0</td>\n",
       "      <td>364021937.0</td>\n",
       "      <td>31333156.0</td>\n",
       "    </tr>\n",
       "    <tr>\n",
       "      <th>2006</th>\n",
       "      <td>62.00</td>\n",
       "      <td>46.426</td>\n",
       "      <td>586837.0</td>\n",
       "      <td>29425141.0</td>\n",
       "      <td>363786069.0</td>\n",
       "      <td>30011978.0</td>\n",
       "    </tr>\n",
       "    <tr>\n",
       "      <th>2008</th>\n",
       "      <td>63.75</td>\n",
       "      <td>48.367</td>\n",
       "      <td>816544.0</td>\n",
       "      <td>34525004.0</td>\n",
       "      <td>372796355.0</td>\n",
       "      <td>35341548.0</td>\n",
       "    </tr>\n",
       "    <tr>\n",
       "      <th>2010</th>\n",
       "      <td>62.50</td>\n",
       "      <td>49.237</td>\n",
       "      <td>1085701.0</td>\n",
       "      <td>33464087.0</td>\n",
       "      <td>363544995.0</td>\n",
       "      <td>34549788.0</td>\n",
       "    </tr>\n",
       "    <tr>\n",
       "      <th>2012</th>\n",
       "      <td>65.23</td>\n",
       "      <td>49.759</td>\n",
       "      <td>1316111.0</td>\n",
       "      <td>35967574.0</td>\n",
       "      <td>368022172.0</td>\n",
       "      <td>37283685.0</td>\n",
       "    </tr>\n",
       "    <tr>\n",
       "      <th>2014</th>\n",
       "      <td>65.60</td>\n",
       "      <td>51.102</td>\n",
       "      <td>1081826.0</td>\n",
       "      <td>37778910.0</td>\n",
       "      <td>387504241.0</td>\n",
       "      <td>38860736.0</td>\n",
       "    </tr>\n",
       "    <tr>\n",
       "      <th>2016</th>\n",
       "      <td>67.10</td>\n",
       "      <td>52.100</td>\n",
       "      <td>1052041.0</td>\n",
       "      <td>38328828.0</td>\n",
       "      <td>400071672.0</td>\n",
       "      <td>39380869.0</td>\n",
       "    </tr>\n",
       "  </tbody>\n",
       "</table>\n",
       "</div>"
      ],
      "text/plain": [
       "      Anteil der behandelten und stofflich verwerteten Siedlungsabfälle am gesamten Siedlungsabfallaufkommen (Percent share of processed and recycled municipal waste in the total amount of municipal waste)  \\\n",
       "2004                                              56.70                                                                                                                                                         \n",
       "2006                                              62.00                                                                                                                                                         \n",
       "2008                                              63.75                                                                                                                                                         \n",
       "2010                                              62.50                                                                                                                                                         \n",
       "2012                                              65.23                                                                                                                                                         \n",
       "2014                                              65.60                                                                                                                                                         \n",
       "2016                                              67.10                                                                                                                                                         \n",
       "\n",
       "      Percent Municipal waste generation  \\\n",
       "2004                              48.434   \n",
       "2006                              46.426   \n",
       "2008                              48.367   \n",
       "2010                              49.237   \n",
       "2012                              49.759   \n",
       "2014                              51.102   \n",
       "2016                              52.100   \n",
       "\n",
       "      Total Recyclable waste (Tonne) Hazardous   \\\n",
       "2004                                   446313.0   \n",
       "2006                                   586837.0   \n",
       "2008                                   816544.0   \n",
       "2010                                  1085701.0   \n",
       "2012                                  1316111.0   \n",
       "2014                                  1081826.0   \n",
       "2016                                  1052041.0   \n",
       "\n",
       "      Total Recyclable waste (Tonne) Non-Hazardous  Total waste (Tonne)  \\\n",
       "2004                                    30886843.0          364021937.0   \n",
       "2006                                    29425141.0          363786069.0   \n",
       "2008                                    34525004.0          372796355.0   \n",
       "2010                                    33464087.0          363544995.0   \n",
       "2012                                    35967574.0          368022172.0   \n",
       "2014                                    37778910.0          387504241.0   \n",
       "2016                                    38328828.0          400071672.0   \n",
       "\n",
       "           T_R_W  \n",
       "2004  31333156.0  \n",
       "2006  30011978.0  \n",
       "2008  35341548.0  \n",
       "2010  34549788.0  \n",
       "2012  37283685.0  \n",
       "2014  38860736.0  \n",
       "2016  39380869.0  "
      ]
     },
     "execution_count": 9,
     "metadata": {},
     "output_type": "execute_result"
    }
   ],
   "source": [
    "# make dataframe for visualization\n",
    "\n",
    "gyw_q1=gyw.dropna()\n",
    "gyw_q1"
   ]
  },
  {
   "cell_type": "code",
   "execution_count": 10,
   "metadata": {},
   "outputs": [
    {
     "data": {
      "image/png": "[encoded data removed]",
      "text/plain": [
       "<Figure size 1440x1080 with 1 Axes>"
      ]
     },
     "metadata": {
      "needs_background": "light"
     },
     "output_type": "display_data"
    }
   ],
   "source": [
    "#plotting our DataFrame\n",
    "\n",
    "plt.figure(figsize=(20,15))\n",
    "\n",
    "plt.bar(gyw_q1.index-0.6,gyw_q1.iloc[:,2],width=0.6,color='r')\n",
    "plt.bar(gyw_q1.index+0.0,gyw_q1.iloc[:,3],width=0.6,color='b')\n",
    "plt.bar(gyw_q1.index+0.6,gyw_q1.iloc[:,5],width=0.6,color='g')\n",
    "\n",
    "\n",
    "plt.legend(['Total Hazardous','Total Non-Hazardous','Total Recyclable Waste'],loc='best')\n",
    "plt.xlabel('Jear',color='black',fontsize=20)\n",
    "plt.ylabel('Tonn',color='black',fontsize=20)\n",
    "plt.title('Germany Yearly Waste',fontsize='25')\n",
    "plt.grid(which='major');"
   ]
  },
  {
   "cell_type": "markdown",
   "metadata": {},
   "source": [
    "\n",
    "Q3) Using python, develop a model of your choice to predict the following:\n",
    "\n",
    "Q3a) Total Hazardous Waste in Tonne for year 2020\n",
    "\n",
    "Q3b) Total Non-Hazardous Waste in Tonne for year 2020\n",
    "\n",
    "Q3c) Total Recyclable Waste in Tonne for year 2020"
   ]
  },
  {
   "cell_type": "markdown",
   "metadata": {},
   "source": [
    "# Q3a) Total Hazardous Waste in Tonne for year 2020"
   ]
  },
  {
   "cell_type": "code",
   "execution_count": 12,
   "metadata": {},
   "outputs": [
    {
     "data": {
      "text/plain": [
       "[446313.0, 586837.0, 816544.0, 1085701.0, 1316111.0, 1081826.0, 1052041.0]"
      ]
     },
     "execution_count": 12,
     "metadata": {},
     "output_type": "execute_result"
    }
   ],
   "source": [
    "t_h_w=gyw_q1.iloc[:,2]    # by t_h_w i mean Total Hazardous Waste\n",
    "t_h_w_df=pd.DataFrame(t_h_w)\n",
    "t_h_w_list=t_h_w.values.tolist()\n",
    "t_h_w_list"
   ]
  },
  {
   "cell_type": "code",
   "execution_count": 13,
   "metadata": {},
   "outputs": [
    {
     "data": {
      "text/plain": [
       "dtype('float64')"
      ]
     },
     "execution_count": 13,
     "metadata": {},
     "output_type": "execute_result"
    }
   ],
   "source": [
    "#type(t_h_w)\n",
    "t_h_w.dtype"
   ]
  },
  {
   "cell_type": "code",
   "execution_count": 14,
   "metadata": {},
   "outputs": [
    {
     "data": {
      "image/png": "[encoded data removed]",
      "text/plain": [
       "<Figure size 432x288 with 1 Axes>"
      ]
     },
     "metadata": {
      "needs_background": "light"
     },
     "output_type": "display_data"
    }
   ],
   "source": [
    "t_h_w.plot();"
   ]
  },
  {
   "cell_type": "markdown",
   "metadata": {},
   "source": [
    " before we can build a model, we must ensure that the time series is stationary.\n",
    " \n",
    " As you can see, the rolling mean and rolling standard deviation increase with time. Therefore, we can conclude that the time series is not stationary."
   ]
  },
  {
   "cell_type": "code",
   "execution_count": 14,
   "metadata": {},
   "outputs": [
    {
     "data": {
      "image/png": "[encoded data removed]",
      "text/plain": [
       "<Figure size 432x288 with 1 Axes>"
      ]
     },
     "metadata": {
      "needs_background": "light"
     },
     "output_type": "display_data"
    }
   ],
   "source": [
    "rolling_mean = t_h_w.rolling(window = 2).mean()\n",
    "rolling_std = t_h_w.rolling(window = 2).std()\n",
    "\n",
    "plt.plot(t_h_w, color = 'blue', label = 'Original')\n",
    "plt.plot(rolling_mean, color = 'red', label = 'Rolling Mean')\n",
    "plt.plot(rolling_std, color = 'black', label = 'Rolling Std')\n",
    "plt.legend(loc = 'best')\n",
    "plt.title('Rolling Mean & Rolling Standard Deviation')\n",
    "plt.show()"
   ]
  },
  {
   "cell_type": "code",
   "execution_count": 19,
   "metadata": {},
   "outputs": [
    {
     "name": "stdout",
     "output_type": "stream",
     "text": [
      "ADF Statistic: -1.7076925658901192\n",
      "p-value: 0.4271534574560633\n",
      "Critical Values:\n",
      "\t1%: -5.354256481481482\n",
      "\t5%: -3.6462381481481483\n",
      "\t10%: -2.901197777777778\n"
     ]
    }
   ],
   "source": [
    "result = adfuller(t_h_w)\n",
    "print('ADF Statistic: {}'.format(result[0]))\n",
    "print('p-value: {}'.format(result[1]))\n",
    "print('Critical Values:')\n",
    "for key, value in result[4].items():\n",
    "    print('\\t{}: {}'.format(key, value))"
   ]
  },
  {
   "cell_type": "markdown",
   "metadata": {},
   "source": [
    "Taking the log of the dependent variable is as simple way of lowering the rate at which rolling mean increases."
   ]
  },
  {
   "cell_type": "code",
   "execution_count": 20,
   "metadata": {},
   "outputs": [
    {
     "data": {
      "image/png": "[encoded data removed]",
      "text/plain": [
       "<Figure size 432x288 with 1 Axes>"
      ]
     },
     "metadata": {
      "needs_background": "light"
     },
     "output_type": "display_data"
    }
   ],
   "source": [
    "t_h_w_log = np.log(t_h_w)\n",
    "#t_h_w_log=pd.DataFrame(t_h_w_log)\n",
    "plt.plot(t_h_w_log);"
   ]
  },
  {
   "cell_type": "code",
   "execution_count": 21,
   "metadata": {},
   "outputs": [],
   "source": [
    "import numpy as np\n",
    "import pandas as pd\n",
    "from matplotlib import pyplot as plt\n",
    "from statsmodels.tsa.stattools import adfuller\n",
    "from statsmodels.tsa.seasonal import seasonal_decompose\n",
    "from statsmodels.tsa.arima_model import ARIMA\n",
    "from pandas.plotting import register_matplotlib_converters\n",
    "register_matplotlib_converters()"
   ]
  },
  {
   "cell_type": "code",
   "execution_count": 22,
   "metadata": {},
   "outputs": [],
   "source": [
    "def get_stationarity(timeseries):\n",
    "    \n",
    "    # rolling statistics\n",
    "    rolling_mean = timeseries.rolling(window=2).mean()\n",
    "    rolling_std = timeseries.rolling(window=2).std()\n",
    "    \n",
    "    # rolling statistics plot\n",
    "    original = plt.plot(timeseries, color='blue', label='Original')\n",
    "    mean = plt.plot(rolling_mean, color='red', label='Rolling Mean')\n",
    "    std = plt.plot(rolling_std, color='black', label='Rolling Std')\n",
    "    plt.legend(loc='best')\n",
    "    plt.title('Rolling Mean & Standard Deviation')\n",
    "    plt.show(block=False);\n",
    "    \n",
    "    # Dickey–Fuller test:\n",
    "    result = adfuller(t_h_w_log_minus_mean)\n",
    "    print('ADF Statistic: {}'.format(result[0]))\n",
    "    print('p-value: {}'.format(result[1]))\n",
    "    print('Critical Values:')\n",
    "    for key, value in result[4].items():\n",
    "        print('\\t{}: {}'.format(key, value))"
   ]
  },
  {
   "cell_type": "markdown",
   "metadata": {},
   "source": [
    "There are multiple transformations that we can apply to a time series to render it stationary. \n",
    "For instance, we subtract the rolling mean."
   ]
  },
  {
   "cell_type": "code",
   "execution_count": 23,
   "metadata": {},
   "outputs": [
    {
     "data": {
      "image/png": "[encoded data removed]",
      "text/plain": [
       "<Figure size 432x288 with 1 Axes>"
      ]
     },
     "metadata": {
      "needs_background": "light"
     },
     "output_type": "display_data"
    },
    {
     "name": "stdout",
     "output_type": "stream",
     "text": [
      "ADF Statistic: -2.0000000000000004\n",
      "p-value: 0.28657309916843143\n",
      "Critical Values:\n",
      "\t1%: -5.354256481481482\n",
      "\t5%: -3.6462381481481483\n",
      "\t10%: -2.901197777777778\n"
     ]
    }
   ],
   "source": [
    "rolling_mean = t_h_w_log.rolling(window=1).mean()\n",
    "t_h_w_log_minus_mean = t_h_w_log - rolling_mean  # we will remove this increasing trend to make our time series stationary.\n",
    "t_h_w_log_minus_mean.dropna(inplace=True)  #Since we took the average of 24 values, rolling mean is  \n",
    "get_stationarity(t_h_w_log_minus_mean);    # not defined for the first 23 values. So let’s drop those null values."
   ]
  },
  {
   "cell_type": "markdown",
   "metadata": {},
   "source": [
    "As we can see, after subtracting the mean, the rolling mean and standard deviation are approximately horizontal. The p-value is below the threshold of 0.05 and the ADF Statistic is close to the critical values. Therefore, the time series is stationary\n"
   ]
  },
  {
   "cell_type": "markdown",
   "metadata": {},
   "source": [
    "Applying exponential decay is another way of transforming a time series such that it is stationary."
   ]
  },
  {
   "cell_type": "code",
   "execution_count": 24,
   "metadata": {},
   "outputs": [
    {
     "data": {
      "image/png": "[encoded data removed]",
      "text/plain": [
       "<Figure size 432x288 with 1 Axes>"
      ]
     },
     "metadata": {
      "needs_background": "light"
     },
     "output_type": "display_data"
    },
    {
     "name": "stdout",
     "output_type": "stream",
     "text": [
      "ADF Statistic: -2.0000000000000004\n",
      "p-value: 0.28657309916843143\n",
      "Critical Values:\n",
      "\t1%: -5.354256481481482\n",
      "\t5%: -3.6462381481481483\n",
      "\t10%: -2.901197777777778\n"
     ]
    }
   ],
   "source": [
    "rolling_mean_exp_decay = t_h_w_log.ewm(halflife=2, min_periods=0, adjust=True).mean()\n",
    "t_h_w_log_exp_decay = t_h_w_log - rolling_mean_exp_decay\n",
    "t_h_w_log_exp_decay.dropna(inplace=True)\n",
    "get_stationarity(t_h_w_log_exp_decay)"
   ]
  },
  {
   "cell_type": "markdown",
   "metadata": {},
   "source": [
    "Let’s try one more method to determine whether an even better solution exists. When applying time shifting,\n",
    "we subtract every the point by the one that preceded it."
   ]
  },
  {
   "cell_type": "code",
   "execution_count": 25,
   "metadata": {},
   "outputs": [
    {
     "data": {
      "image/png": "[encoded data removed]",
      "text/plain": [
       "<Figure size 432x288 with 1 Axes>"
      ]
     },
     "metadata": {
      "needs_background": "light"
     },
     "output_type": "display_data"
    },
    {
     "name": "stdout",
     "output_type": "stream",
     "text": [
      "ADF Statistic: -2.0000000000000004\n",
      "p-value: 0.28657309916843143\n",
      "Critical Values:\n",
      "\t1%: -5.354256481481482\n",
      "\t5%: -3.6462381481481483\n",
      "\t10%: -2.901197777777778\n"
     ]
    }
   ],
   "source": [
    "t_h_w_log_shift = t_h_w_log - t_h_w_log.shift()\n",
    "t_h_w_log_shift.dropna(inplace=True)\n",
    "get_stationarity(t_h_w_log_shift)"
   ]
  },
  {
   "cell_type": "markdown",
   "metadata": {},
   "source": [
    "we can create and fit an ARIMA model with AR of order 2, differencing of order 1 and MA of order 2."
   ]
  },
  {
   "cell_type": "code",
   "execution_count": 26,
   "metadata": {},
   "outputs": [],
   "source": [
    "from statsmodels.tsa.arima_model import ARIMA\n",
    "from sklearn.metrics import mean_squared_error"
   ]
  },
  {
   "cell_type": "code",
   "execution_count": 27,
   "metadata": {},
   "outputs": [
    {
     "name": "stderr",
     "output_type": "stream",
     "text": [
      "C:\\anacondra\\lib\\site-packages\\ipykernel_launcher.py:1: FutureWarning: the 'freq'' keyword is deprecated, use 'period' instead\n",
      "  \"\"\"Entry point for launching an IPython kernel.\n",
      "C:\\anacondra\\lib\\site-packages\\statsmodels\\tsa\\base\\tsa_model.py:214: ValueWarning: An unsupported index was provided and will be ignored when e.g. forecasting.\n",
      "  ' ignored when e.g. forecasting.', ValueWarning)\n"
     ]
    },
    {
     "data": {
      "text/plain": [
       "[<matplotlib.lines.Line2D at 0x136cd500688>]"
      ]
     },
     "execution_count": 27,
     "metadata": {},
     "output_type": "execute_result"
    },
    {
     "data": {
      "image/png": "[encoded data removed]",
      "text/plain": [
       "<Figure size 432x288 with 1 Axes>"
      ]
     },
     "metadata": {
      "needs_background": "light"
     },
     "output_type": "display_data"
    }
   ],
   "source": [
    "decomposition = seasonal_decompose(t_h_w_log,freq=2) \n",
    "model = ARIMA(t_h_w_log, order=(2,0,0))\n",
    "results = model.fit(disp=-1)\n",
    "plt.plot(t_h_w_log_exp_decay)\n",
    "plt.plot(results.fittedvalues, color='red')"
   ]
  },
  {
   "cell_type": "markdown",
   "metadata": {},
   "source": [
    "Then, we can see how the model compares to the original time series."
   ]
  },
  {
   "cell_type": "code",
   "execution_count": 28,
   "metadata": {},
   "outputs": [
    {
     "data": {
      "image/png": "[encoded data removed]",
      "text/plain": [
       "<Figure size 432x288 with 1 Axes>"
      ]
     },
     "metadata": {
      "needs_background": "light"
     },
     "output_type": "display_data"
    }
   ],
   "source": [
    "predictions_ARIMA_diff = pd.Series(results.fittedvalues, copy=True)\n",
    "predictions_ARIMA_diff_cumsum = predictions_ARIMA_diff.cumsum()\n",
    "predictions_ARIMA_log = pd.Series(t_h_w_log, index=t_h_w_log.index)\n",
    "predictions_ARIMA_log = predictions_ARIMA_log.add(predictions_ARIMA_diff_cumsum, fill_value=0)\n",
    "predictions_ARIMA = np.exp(predictions_ARIMA_log)\n",
    "plt.plot(t_h_w)\n",
    "plt.plot(predictions_ARIMA);"
   ]
  },
  {
   "cell_type": "code",
   "execution_count": 29,
   "metadata": {},
   "outputs": [
    {
     "name": "stderr",
     "output_type": "stream",
     "text": [
      "C:\\anacondra\\lib\\site-packages\\statsmodels\\tsa\\base\\tsa_model.py:583: ValueWarning: No supported index is available. Prediction results will be given with an integer index beginning at `start`.\n",
      "  ValueWarning)\n",
      "C:\\anacondra\\lib\\site-packages\\statsmodels\\tsa\\base\\tsa_model.py:583: ValueWarning: No supported index is available. Prediction results will be given with an integer index beginning at `start`.\n",
      "  ValueWarning)\n"
     ]
    },
    {
     "data": {
      "image/png": "[encoded data removed]",
      "text/plain": [
       "<Figure size 432x288 with 1 Axes>"
      ]
     },
     "execution_count": 29,
     "metadata": {},
     "output_type": "execute_result"
    },
    {
     "data": {
      "image/png": "[encoded data removed]",
      "text/plain": [
       "<Figure size 432x288 with 1 Axes>"
      ]
     },
     "metadata": {
      "needs_background": "light"
     },
     "output_type": "display_data"
    }
   ],
   "source": [
    "results.plot_predict(1,10)      # Number 8 is our goal"
   ]
  },
  {
   "cell_type": "code",
   "execution_count": 30,
   "metadata": {},
   "outputs": [
    {
     "data": {
      "text/plain": [
       "2004    13.561353\n",
       "2006    13.102688\n",
       "2008    13.569179\n",
       "2010    13.843718\n",
       "2012    14.010263\n",
       "2014    14.076750\n",
       "2016    13.649377\n",
       "dtype: float64"
      ]
     },
     "execution_count": 30,
     "metadata": {},
     "output_type": "execute_result"
    }
   ],
   "source": [
    "predictions_ARIMA_diff = pd.Series(results.fittedvalues)\n",
    "predictions_ARIMA_diff"
   ]
  },
  {
   "cell_type": "code",
   "execution_count": 31,
   "metadata": {},
   "outputs": [
    {
     "data": {
      "text/plain": [
       "array([941293.24268401, 818055.94447589, 725273.34095544])"
      ]
     },
     "execution_count": 31,
     "metadata": {},
     "output_type": "execute_result"
    }
   ],
   "source": [
    "np.exp(results.forecast(steps=3)[0])"
   ]
  },
  {
   "cell_type": "code",
   "execution_count": 32,
   "metadata": {},
   "outputs": [
    {
     "data": {
      "text/plain": [
       "2004     446313.0\n",
       "2006     586837.0\n",
       "2008     816544.0\n",
       "2010    1085701.0\n",
       "2012    1316111.0\n",
       "2014    1081826.0\n",
       "2016    1052041.0\n",
       "Name: Total Recyclable waste (Tonne) Hazardous , dtype: float64"
      ]
     },
     "execution_count": 32,
     "metadata": {},
     "output_type": "execute_result"
    }
   ],
   "source": [
    "np.exp(t_h_w_log)"
   ]
  },
  {
   "cell_type": "markdown",
   "metadata": {},
   "source": [
    "# Q3b) Total Non-Hazardous Waste in Tonne for year 2020"
   ]
  },
  {
   "cell_type": "code",
   "execution_count": 33,
   "metadata": {},
   "outputs": [
    {
     "data": {
      "text/html": [
       "<div>\n",
       "<style scoped>\n",
       "    .dataframe tbody tr th:only-of-type {\n",
       "        vertical-align: middle;\n",
       "    }\n",
       "\n",
       "    .dataframe tbody tr th {\n",
       "        vertical-align: top;\n",
       "    }\n",
       "\n",
       "    .dataframe thead th {\n",
       "        text-align: right;\n",
       "    }\n",
       "</style>\n",
       "<table border=\"1\" class=\"dataframe\">\n",
       "  <thead>\n",
       "    <tr style=\"text-align: right;\">\n",
       "      <th></th>\n",
       "      <th>Anteil der behandelten und stofflich verwerteten Siedlungsabfälle am gesamten Siedlungsabfallaufkommen (Percent share of processed and recycled municipal waste in the total amount of municipal waste)</th>\n",
       "      <th>Percent Municipal waste generation</th>\n",
       "      <th>Total Recyclable waste (Tonne) Hazardous</th>\n",
       "      <th>Total Recyclable waste (Tonne) Non-Hazardous</th>\n",
       "      <th>Total waste (Tonne)</th>\n",
       "      <th>T_R_W</th>\n",
       "    </tr>\n",
       "  </thead>\n",
       "  <tbody>\n",
       "    <tr>\n",
       "      <th>2002</th>\n",
       "      <td>56.100000</td>\n",
       "      <td>52.772</td>\n",
       "      <td>NaN</td>\n",
       "      <td>NaN</td>\n",
       "      <td>NaN</td>\n",
       "      <td>NaN</td>\n",
       "    </tr>\n",
       "    <tr>\n",
       "      <th>2003</th>\n",
       "      <td>57.800000</td>\n",
       "      <td>49.622</td>\n",
       "      <td>NaN</td>\n",
       "      <td>NaN</td>\n",
       "      <td>NaN</td>\n",
       "      <td>NaN</td>\n",
       "    </tr>\n",
       "    <tr>\n",
       "      <th>2004</th>\n",
       "      <td>56.700000</td>\n",
       "      <td>48.434</td>\n",
       "      <td>446313.0</td>\n",
       "      <td>30886843.0</td>\n",
       "      <td>364021937.0</td>\n",
       "      <td>31333156.0</td>\n",
       "    </tr>\n",
       "    <tr>\n",
       "      <th>2005</th>\n",
       "      <td>60.900000</td>\n",
       "      <td>46.555</td>\n",
       "      <td>NaN</td>\n",
       "      <td>NaN</td>\n",
       "      <td>NaN</td>\n",
       "      <td>NaN</td>\n",
       "    </tr>\n",
       "    <tr>\n",
       "      <th>2006</th>\n",
       "      <td>62.000000</td>\n",
       "      <td>46.426</td>\n",
       "      <td>586837.0</td>\n",
       "      <td>29425141.0</td>\n",
       "      <td>363786069.0</td>\n",
       "      <td>30011978.0</td>\n",
       "    </tr>\n",
       "    <tr>\n",
       "      <th>2007</th>\n",
       "      <td>63.200000</td>\n",
       "      <td>47.887</td>\n",
       "      <td>NaN</td>\n",
       "      <td>NaN</td>\n",
       "      <td>NaN</td>\n",
       "      <td>NaN</td>\n",
       "    </tr>\n",
       "    <tr>\n",
       "      <th>2008</th>\n",
       "      <td>63.750000</td>\n",
       "      <td>48.367</td>\n",
       "      <td>816544.0</td>\n",
       "      <td>34525004.0</td>\n",
       "      <td>372796355.0</td>\n",
       "      <td>35341548.0</td>\n",
       "    </tr>\n",
       "    <tr>\n",
       "      <th>2009</th>\n",
       "      <td>63.120000</td>\n",
       "      <td>48.466</td>\n",
       "      <td>NaN</td>\n",
       "      <td>NaN</td>\n",
       "      <td>NaN</td>\n",
       "      <td>NaN</td>\n",
       "    </tr>\n",
       "    <tr>\n",
       "      <th>2010</th>\n",
       "      <td>62.500000</td>\n",
       "      <td>49.237</td>\n",
       "      <td>1085701.0</td>\n",
       "      <td>33464087.0</td>\n",
       "      <td>363544995.0</td>\n",
       "      <td>34549788.0</td>\n",
       "    </tr>\n",
       "    <tr>\n",
       "      <th>2011</th>\n",
       "      <td>62.970000</td>\n",
       "      <td>50.237</td>\n",
       "      <td>NaN</td>\n",
       "      <td>NaN</td>\n",
       "      <td>NaN</td>\n",
       "      <td>NaN</td>\n",
       "    </tr>\n",
       "    <tr>\n",
       "      <th>2012</th>\n",
       "      <td>65.230000</td>\n",
       "      <td>49.759</td>\n",
       "      <td>1316111.0</td>\n",
       "      <td>35967574.0</td>\n",
       "      <td>368022172.0</td>\n",
       "      <td>37283685.0</td>\n",
       "    </tr>\n",
       "    <tr>\n",
       "      <th>2013</th>\n",
       "      <td>63.806738</td>\n",
       "      <td>49.570</td>\n",
       "      <td>NaN</td>\n",
       "      <td>NaN</td>\n",
       "      <td>NaN</td>\n",
       "      <td>NaN</td>\n",
       "    </tr>\n",
       "    <tr>\n",
       "      <th>2014</th>\n",
       "      <td>65.600000</td>\n",
       "      <td>51.102</td>\n",
       "      <td>1081826.0</td>\n",
       "      <td>37778910.0</td>\n",
       "      <td>387504241.0</td>\n",
       "      <td>38860736.0</td>\n",
       "    </tr>\n",
       "    <tr>\n",
       "      <th>2015</th>\n",
       "      <td>66.700000</td>\n",
       "      <td>51.600</td>\n",
       "      <td>NaN</td>\n",
       "      <td>NaN</td>\n",
       "      <td>NaN</td>\n",
       "      <td>NaN</td>\n",
       "    </tr>\n",
       "    <tr>\n",
       "      <th>2016</th>\n",
       "      <td>67.100000</td>\n",
       "      <td>52.100</td>\n",
       "      <td>1052041.0</td>\n",
       "      <td>38328828.0</td>\n",
       "      <td>400071672.0</td>\n",
       "      <td>39380869.0</td>\n",
       "    </tr>\n",
       "    <tr>\n",
       "      <th>2017</th>\n",
       "      <td>67.200000</td>\n",
       "      <td>51.790</td>\n",
       "      <td>NaN</td>\n",
       "      <td>NaN</td>\n",
       "      <td>NaN</td>\n",
       "      <td>NaN</td>\n",
       "    </tr>\n",
       "    <tr>\n",
       "      <th>2018</th>\n",
       "      <td>NaN</td>\n",
       "      <td>NaN</td>\n",
       "      <td>NaN</td>\n",
       "      <td>NaN</td>\n",
       "      <td>NaN</td>\n",
       "      <td>NaN</td>\n",
       "    </tr>\n",
       "    <tr>\n",
       "      <th>2019</th>\n",
       "      <td>NaN</td>\n",
       "      <td>NaN</td>\n",
       "      <td>NaN</td>\n",
       "      <td>NaN</td>\n",
       "      <td>NaN</td>\n",
       "      <td>NaN</td>\n",
       "    </tr>\n",
       "    <tr>\n",
       "      <th>2020</th>\n",
       "      <td>65.000000</td>\n",
       "      <td>NaN</td>\n",
       "      <td>NaN</td>\n",
       "      <td>NaN</td>\n",
       "      <td>NaN</td>\n",
       "      <td>NaN</td>\n",
       "    </tr>\n",
       "  </tbody>\n",
       "</table>\n",
       "</div>"
      ],
      "text/plain": [
       "      Anteil der behandelten und stofflich verwerteten Siedlungsabfälle am gesamten Siedlungsabfallaufkommen (Percent share of processed and recycled municipal waste in the total amount of municipal waste)  \\\n",
       "2002                                          56.100000                                                                                                                                                         \n",
       "2003                                          57.800000                                                                                                                                                         \n",
       "2004                                          56.700000                                                                                                                                                         \n",
       "2005                                          60.900000                                                                                                                                                         \n",
       "2006                                          62.000000                                                                                                                                                         \n",
       "2007                                          63.200000                                                                                                                                                         \n",
       "2008                                          63.750000                                                                                                                                                         \n",
       "2009                                          63.120000                                                                                                                                                         \n",
       "2010                                          62.500000                                                                                                                                                         \n",
       "2011                                          62.970000                                                                                                                                                         \n",
       "2012                                          65.230000                                                                                                                                                         \n",
       "2013                                          63.806738                                                                                                                                                         \n",
       "2014                                          65.600000                                                                                                                                                         \n",
       "2015                                          66.700000                                                                                                                                                         \n",
       "2016                                          67.100000                                                                                                                                                         \n",
       "2017                                          67.200000                                                                                                                                                         \n",
       "2018                                                NaN                                                                                                                                                         \n",
       "2019                                                NaN                                                                                                                                                         \n",
       "2020                                          65.000000                                                                                                                                                         \n",
       "\n",
       "      Percent Municipal waste generation  \\\n",
       "2002                              52.772   \n",
       "2003                              49.622   \n",
       "2004                              48.434   \n",
       "2005                              46.555   \n",
       "2006                              46.426   \n",
       "2007                              47.887   \n",
       "2008                              48.367   \n",
       "2009                              48.466   \n",
       "2010                              49.237   \n",
       "2011                              50.237   \n",
       "2012                              49.759   \n",
       "2013                              49.570   \n",
       "2014                              51.102   \n",
       "2015                              51.600   \n",
       "2016                              52.100   \n",
       "2017                              51.790   \n",
       "2018                                 NaN   \n",
       "2019                                 NaN   \n",
       "2020                                 NaN   \n",
       "\n",
       "      Total Recyclable waste (Tonne) Hazardous   \\\n",
       "2002                                        NaN   \n",
       "2003                                        NaN   \n",
       "2004                                   446313.0   \n",
       "2005                                        NaN   \n",
       "2006                                   586837.0   \n",
       "2007                                        NaN   \n",
       "2008                                   816544.0   \n",
       "2009                                        NaN   \n",
       "2010                                  1085701.0   \n",
       "2011                                        NaN   \n",
       "2012                                  1316111.0   \n",
       "2013                                        NaN   \n",
       "2014                                  1081826.0   \n",
       "2015                                        NaN   \n",
       "2016                                  1052041.0   \n",
       "2017                                        NaN   \n",
       "2018                                        NaN   \n",
       "2019                                        NaN   \n",
       "2020                                        NaN   \n",
       "\n",
       "      Total Recyclable waste (Tonne) Non-Hazardous  Total waste (Tonne)  \\\n",
       "2002                                           NaN                  NaN   \n",
       "2003                                           NaN                  NaN   \n",
       "2004                                    30886843.0          364021937.0   \n",
       "2005                                           NaN                  NaN   \n",
       "2006                                    29425141.0          363786069.0   \n",
       "2007                                           NaN                  NaN   \n",
       "2008                                    34525004.0          372796355.0   \n",
       "2009                                           NaN                  NaN   \n",
       "2010                                    33464087.0          363544995.0   \n",
       "2011                                           NaN                  NaN   \n",
       "2012                                    35967574.0          368022172.0   \n",
       "2013                                           NaN                  NaN   \n",
       "2014                                    37778910.0          387504241.0   \n",
       "2015                                           NaN                  NaN   \n",
       "2016                                    38328828.0          400071672.0   \n",
       "2017                                           NaN                  NaN   \n",
       "2018                                           NaN                  NaN   \n",
       "2019                                           NaN                  NaN   \n",
       "2020                                           NaN                  NaN   \n",
       "\n",
       "           T_R_W  \n",
       "2002         NaN  \n",
       "2003         NaN  \n",
       "2004  31333156.0  \n",
       "2005         NaN  \n",
       "2006  30011978.0  \n",
       "2007         NaN  \n",
       "2008  35341548.0  \n",
       "2009         NaN  \n",
       "2010  34549788.0  \n",
       "2011         NaN  \n",
       "2012  37283685.0  \n",
       "2013         NaN  \n",
       "2014  38860736.0  \n",
       "2015         NaN  \n",
       "2016  39380869.0  \n",
       "2017         NaN  \n",
       "2018         NaN  \n",
       "2019         NaN  \n",
       "2020         NaN  "
      ]
     },
     "execution_count": 33,
     "metadata": {},
     "output_type": "execute_result"
    }
   ],
   "source": [
    "gyw"
   ]
  },
  {
   "cell_type": "code",
   "execution_count": 34,
   "metadata": {},
   "outputs": [],
   "source": [
    "t_nh_w=gyw_q1.iloc[:,3]"
   ]
  },
  {
   "cell_type": "code",
   "execution_count": 35,
   "metadata": {},
   "outputs": [
    {
     "data": {
      "image/png": "[encoded data removed]",
      "text/plain": [
       "<Figure size 432x288 with 1 Axes>"
      ]
     },
     "metadata": {
      "needs_background": "light"
     },
     "output_type": "display_data"
    }
   ],
   "source": [
    "t_nh_w.plot();"
   ]
  },
  {
   "cell_type": "code",
   "execution_count": 36,
   "metadata": {},
   "outputs": [
    {
     "data": {
      "image/png": "[encoded data removed]",
      "text/plain": [
       "<Figure size 432x288 with 1 Axes>"
      ]
     },
     "metadata": {
      "needs_background": "light"
     },
     "output_type": "display_data"
    }
   ],
   "source": [
    "t_nh_w_log=np.log(t_nh_w)\n",
    "plt.plot(t_nh_w_log);"
   ]
  },
  {
   "cell_type": "code",
   "execution_count": 37,
   "metadata": {},
   "outputs": [
    {
     "data": {
      "image/png": "[encoded data removed]",
      "text/plain": [
       "<Figure size 432x288 with 1 Axes>"
      ]
     },
     "metadata": {
      "needs_background": "light"
     },
     "output_type": "display_data"
    },
    {
     "name": "stdout",
     "output_type": "stream",
     "text": [
      "ADF Statistic: -2.0000000000000004\n",
      "p-value: 0.28657309916843143\n",
      "Critical Values:\n",
      "\t1%: -5.354256481481482\n",
      "\t5%: -3.6462381481481483\n",
      "\t10%: -2.901197777777778\n"
     ]
    }
   ],
   "source": [
    "rolling_mean_exp_decay = t_nh_w_log.ewm(halflife=3, min_periods=0, adjust=True).mean()\n",
    "t_nh_w_log_exp_decay = t_nh_w_log - rolling_mean_exp_decay\n",
    "t_nh_w_log_exp_decay.dropna(inplace=True)\n",
    "get_stationarity(t_nh_w_log_exp_decay)"
   ]
  },
  {
   "cell_type": "code",
   "execution_count": 38,
   "metadata": {},
   "outputs": [
    {
     "data": {
      "image/png": "[encoded data removed]",
      "text/plain": [
       "<Figure size 432x288 with 1 Axes>"
      ]
     },
     "metadata": {
      "needs_background": "light"
     },
     "output_type": "display_data"
    },
    {
     "name": "stdout",
     "output_type": "stream",
     "text": [
      "ADF Statistic: -2.0000000000000004\n",
      "p-value: 0.28657309916843143\n",
      "Critical Values:\n",
      "\t1%: -5.354256481481482\n",
      "\t5%: -3.6462381481481483\n",
      "\t10%: -2.901197777777778\n"
     ]
    }
   ],
   "source": [
    "rolling_mean = t_nh_w_log.rolling(window=3).mean()\n",
    "t_nh_w_log_minus_mean = t_nh_w_log - rolling_mean  # we will remove this increasing trend to make our time series stationary.\n",
    "t_nh_w_log_minus_mean.dropna(inplace=True)  #Since we took the average of 24 values, rolling mean is  \n",
    "get_stationarity(t_nh_w_log_minus_mean);    # not defined for the first 23 values. So let’s drop those null values."
   ]
  },
  {
   "cell_type": "code",
   "execution_count": 39,
   "metadata": {},
   "outputs": [
    {
     "name": "stderr",
     "output_type": "stream",
     "text": [
      "C:\\anacondra\\lib\\site-packages\\ipykernel_launcher.py:1: FutureWarning: the 'freq'' keyword is deprecated, use 'period' instead\n",
      "  \"\"\"Entry point for launching an IPython kernel.\n",
      "C:\\anacondra\\lib\\site-packages\\statsmodels\\tsa\\base\\tsa_model.py:214: ValueWarning: An unsupported index was provided and will be ignored when e.g. forecasting.\n",
      "  ' ignored when e.g. forecasting.', ValueWarning)\n",
      "C:\\anacondra\\lib\\site-packages\\statsmodels\\tsa\\base\\tsa_model.py:214: ValueWarning: An unsupported index was provided and will be ignored when e.g. forecasting.\n",
      "  ' ignored when e.g. forecasting.', ValueWarning)\n"
     ]
    },
    {
     "data": {
      "image/png": "[encoded data removed]",
      "text/plain": [
       "<Figure size 432x288 with 1 Axes>"
      ]
     },
     "metadata": {
      "needs_background": "light"
     },
     "output_type": "display_data"
    }
   ],
   "source": [
    "decomposition = seasonal_decompose(t_nh_w_log,freq=2) \n",
    "\n",
    "model = ARIMA(t_nh_w_log, order=(1,1,0))\n",
    "results = model.fit(disp=-1)\n",
    "plt.plot(t_nh_w_log_exp_decay)\n",
    "plt.plot(results.fittedvalues, color='red');"
   ]
  },
  {
   "cell_type": "code",
   "execution_count": 40,
   "metadata": {},
   "outputs": [
    {
     "data": {
      "image/png": "[encoded data removed]",
      "text/plain": [
       "<Figure size 432x288 with 1 Axes>"
      ]
     },
     "metadata": {
      "needs_background": "light"
     },
     "output_type": "display_data"
    }
   ],
   "source": [
    "predictions_ARIMA_diff = pd.Series(results.fittedvalues, copy=True)\n",
    "predictions_ARIMA_diff_cumsum = predictions_ARIMA_diff.cumsum()\n",
    "predictions_ARIMA_log = pd.Series(t_nh_w_log, index=t_nh_w_log.index)\n",
    "predictions_ARIMA_log = predictions_ARIMA_log.add(predictions_ARIMA_diff_cumsum, fill_value=0)\n",
    "predictions_ARIMA = np.exp(predictions_ARIMA_log)\n",
    "plt.plot(t_nh_w)\n",
    "plt.plot(predictions_ARIMA);"
   ]
  },
  {
   "cell_type": "code",
   "execution_count": 41,
   "metadata": {},
   "outputs": [
    {
     "name": "stderr",
     "output_type": "stream",
     "text": [
      "C:\\anacondra\\lib\\site-packages\\statsmodels\\tsa\\base\\tsa_model.py:583: ValueWarning: No supported index is available. Prediction results will be given with an integer index beginning at `start`.\n",
      "  ValueWarning)\n",
      "C:\\anacondra\\lib\\site-packages\\statsmodels\\tsa\\base\\tsa_model.py:583: ValueWarning: No supported index is available. Prediction results will be given with an integer index beginning at `start`.\n",
      "  ValueWarning)\n",
      "C:\\anacondra\\lib\\site-packages\\statsmodels\\tsa\\base\\tsa_model.py:583: ValueWarning: No supported index is available. Prediction results will be given with an integer index beginning at `start`.\n",
      "  ValueWarning)\n"
     ]
    },
    {
     "data": {
      "image/png": "[encoded data removed]",
      "text/plain": [
       "<Figure size 432x288 with 1 Axes>"
      ]
     },
     "execution_count": 41,
     "metadata": {},
     "output_type": "execute_result"
    },
    {
     "data": {
      "image/png": "[encoded data removed]",
      "text/plain": [
       "<Figure size 432x288 with 1 Axes>"
      ]
     },
     "metadata": {
      "needs_background": "light"
     },
     "output_type": "display_data"
    }
   ],
   "source": [
    "results.plot_predict(1,8)      # Number 8 is our goal"
   ]
  },
  {
   "cell_type": "code",
   "execution_count": 42,
   "metadata": {},
   "outputs": [
    {
     "data": {
      "text/plain": [
       "2006    0.045764\n",
       "2008    0.128535\n",
       "2010   -0.054420\n",
       "2012    0.113367\n",
       "2014    0.022594\n",
       "2016    0.042804\n",
       "dtype: float64"
      ]
     },
     "execution_count": 42,
     "metadata": {},
     "output_type": "execute_result"
    }
   ],
   "source": [
    "predictions_ARIMA_diff = pd.Series(results.fittedvalues)\n",
    "predictions_ARIMA_diff"
   ]
  },
  {
   "cell_type": "code",
   "execution_count": 43,
   "metadata": {},
   "outputs": [
    {
     "data": {
      "text/plain": [
       "2006    1.046827\n",
       "2008    1.137161\n",
       "2010    0.947034\n",
       "2012    1.120043\n",
       "2014    1.022851\n",
       "2016    1.043733\n",
       "dtype: float64"
      ]
     },
     "execution_count": 43,
     "metadata": {},
     "output_type": "execute_result"
    }
   ],
   "source": [
    "np.exp(predictions_ARIMA_diff)"
   ]
  },
  {
   "cell_type": "code",
   "execution_count": 44,
   "metadata": {},
   "outputs": [
    {
     "data": {
      "text/plain": [
       "array([41242371.15822825, 42143366.6359556 , 45062613.74257312])"
      ]
     },
     "execution_count": 44,
     "metadata": {},
     "output_type": "execute_result"
    }
   ],
   "source": [
    "np.exp(results.forecast(steps=3)[0])"
   ]
  },
  {
   "cell_type": "code",
   "execution_count": 45,
   "metadata": {},
   "outputs": [
    {
     "data": {
      "text/html": [
       "<div>\n",
       "<style scoped>\n",
       "    .dataframe tbody tr th:only-of-type {\n",
       "        vertical-align: middle;\n",
       "    }\n",
       "\n",
       "    .dataframe tbody tr th {\n",
       "        vertical-align: top;\n",
       "    }\n",
       "\n",
       "    .dataframe thead th {\n",
       "        text-align: right;\n",
       "    }\n",
       "</style>\n",
       "<table border=\"1\" class=\"dataframe\">\n",
       "  <thead>\n",
       "    <tr style=\"text-align: right;\">\n",
       "      <th></th>\n",
       "      <th>Anteil der behandelten und stofflich verwerteten Siedlungsabfälle am gesamten Siedlungsabfallaufkommen (Percent share of processed and recycled municipal waste in the total amount of municipal waste)</th>\n",
       "      <th>Percent Municipal waste generation</th>\n",
       "      <th>Total Recyclable waste (Tonne) Hazardous</th>\n",
       "      <th>Total Recyclable waste (Tonne) Non-Hazardous</th>\n",
       "      <th>Total waste (Tonne)</th>\n",
       "      <th>T_R_W</th>\n",
       "    </tr>\n",
       "  </thead>\n",
       "  <tbody>\n",
       "    <tr>\n",
       "      <th>2004</th>\n",
       "      <td>56.70</td>\n",
       "      <td>48.434</td>\n",
       "      <td>446313.0</td>\n",
       "      <td>30886843.0</td>\n",
       "      <td>364021937.0</td>\n",
       "      <td>31333156.0</td>\n",
       "    </tr>\n",
       "    <tr>\n",
       "      <th>2006</th>\n",
       "      <td>62.00</td>\n",
       "      <td>46.426</td>\n",
       "      <td>586837.0</td>\n",
       "      <td>29425141.0</td>\n",
       "      <td>363786069.0</td>\n",
       "      <td>30011978.0</td>\n",
       "    </tr>\n",
       "    <tr>\n",
       "      <th>2008</th>\n",
       "      <td>63.75</td>\n",
       "      <td>48.367</td>\n",
       "      <td>816544.0</td>\n",
       "      <td>34525004.0</td>\n",
       "      <td>372796355.0</td>\n",
       "      <td>35341548.0</td>\n",
       "    </tr>\n",
       "    <tr>\n",
       "      <th>2010</th>\n",
       "      <td>62.50</td>\n",
       "      <td>49.237</td>\n",
       "      <td>1085701.0</td>\n",
       "      <td>33464087.0</td>\n",
       "      <td>363544995.0</td>\n",
       "      <td>34549788.0</td>\n",
       "    </tr>\n",
       "    <tr>\n",
       "      <th>2012</th>\n",
       "      <td>65.23</td>\n",
       "      <td>49.759</td>\n",
       "      <td>1316111.0</td>\n",
       "      <td>35967574.0</td>\n",
       "      <td>368022172.0</td>\n",
       "      <td>37283685.0</td>\n",
       "    </tr>\n",
       "    <tr>\n",
       "      <th>2014</th>\n",
       "      <td>65.60</td>\n",
       "      <td>51.102</td>\n",
       "      <td>1081826.0</td>\n",
       "      <td>37778910.0</td>\n",
       "      <td>387504241.0</td>\n",
       "      <td>38860736.0</td>\n",
       "    </tr>\n",
       "    <tr>\n",
       "      <th>2016</th>\n",
       "      <td>67.10</td>\n",
       "      <td>52.100</td>\n",
       "      <td>1052041.0</td>\n",
       "      <td>38328828.0</td>\n",
       "      <td>400071672.0</td>\n",
       "      <td>39380869.0</td>\n",
       "    </tr>\n",
       "  </tbody>\n",
       "</table>\n",
       "</div>"
      ],
      "text/plain": [
       "      Anteil der behandelten und stofflich verwerteten Siedlungsabfälle am gesamten Siedlungsabfallaufkommen (Percent share of processed and recycled municipal waste in the total amount of municipal waste)  \\\n",
       "2004                                              56.70                                                                                                                                                         \n",
       "2006                                              62.00                                                                                                                                                         \n",
       "2008                                              63.75                                                                                                                                                         \n",
       "2010                                              62.50                                                                                                                                                         \n",
       "2012                                              65.23                                                                                                                                                         \n",
       "2014                                              65.60                                                                                                                                                         \n",
       "2016                                              67.10                                                                                                                                                         \n",
       "\n",
       "      Percent Municipal waste generation  \\\n",
       "2004                              48.434   \n",
       "2006                              46.426   \n",
       "2008                              48.367   \n",
       "2010                              49.237   \n",
       "2012                              49.759   \n",
       "2014                              51.102   \n",
       "2016                              52.100   \n",
       "\n",
       "      Total Recyclable waste (Tonne) Hazardous   \\\n",
       "2004                                   446313.0   \n",
       "2006                                   586837.0   \n",
       "2008                                   816544.0   \n",
       "2010                                  1085701.0   \n",
       "2012                                  1316111.0   \n",
       "2014                                  1081826.0   \n",
       "2016                                  1052041.0   \n",
       "\n",
       "      Total Recyclable waste (Tonne) Non-Hazardous  Total waste (Tonne)  \\\n",
       "2004                                    30886843.0          364021937.0   \n",
       "2006                                    29425141.0          363786069.0   \n",
       "2008                                    34525004.0          372796355.0   \n",
       "2010                                    33464087.0          363544995.0   \n",
       "2012                                    35967574.0          368022172.0   \n",
       "2014                                    37778910.0          387504241.0   \n",
       "2016                                    38328828.0          400071672.0   \n",
       "\n",
       "           T_R_W  \n",
       "2004  31333156.0  \n",
       "2006  30011978.0  \n",
       "2008  35341548.0  \n",
       "2010  34549788.0  \n",
       "2012  37283685.0  \n",
       "2014  38860736.0  \n",
       "2016  39380869.0  "
      ]
     },
     "execution_count": 45,
     "metadata": {},
     "output_type": "execute_result"
    }
   ],
   "source": [
    "gyw_q1"
   ]
  },
  {
   "cell_type": "markdown",
   "metadata": {},
   "source": [
    "# Q3c) Total Recyclable Waste in Tonne for year 2020"
   ]
  },
  {
   "cell_type": "code",
   "execution_count": 46,
   "metadata": {},
   "outputs": [
    {
     "data": {
      "text/html": [
       "<div>\n",
       "<style scoped>\n",
       "    .dataframe tbody tr th:only-of-type {\n",
       "        vertical-align: middle;\n",
       "    }\n",
       "\n",
       "    .dataframe tbody tr th {\n",
       "        vertical-align: top;\n",
       "    }\n",
       "\n",
       "    .dataframe thead th {\n",
       "        text-align: right;\n",
       "    }\n",
       "</style>\n",
       "<table border=\"1\" class=\"dataframe\">\n",
       "  <thead>\n",
       "    <tr style=\"text-align: right;\">\n",
       "      <th></th>\n",
       "      <th>Anteil der behandelten und stofflich verwerteten Siedlungsabfälle am gesamten Siedlungsabfallaufkommen (Percent share of processed and recycled municipal waste in the total amount of municipal waste)</th>\n",
       "      <th>Percent Municipal waste generation</th>\n",
       "      <th>Total Recyclable waste (Tonne) Hazardous</th>\n",
       "      <th>Total Recyclable waste (Tonne) Non-Hazardous</th>\n",
       "      <th>Total waste (Tonne)</th>\n",
       "      <th>T_R_W</th>\n",
       "    </tr>\n",
       "  </thead>\n",
       "  <tbody>\n",
       "    <tr>\n",
       "      <th>2004</th>\n",
       "      <td>56.70</td>\n",
       "      <td>48.434</td>\n",
       "      <td>446313.0</td>\n",
       "      <td>30886843.0</td>\n",
       "      <td>364021937.0</td>\n",
       "      <td>31333156.0</td>\n",
       "    </tr>\n",
       "    <tr>\n",
       "      <th>2006</th>\n",
       "      <td>62.00</td>\n",
       "      <td>46.426</td>\n",
       "      <td>586837.0</td>\n",
       "      <td>29425141.0</td>\n",
       "      <td>363786069.0</td>\n",
       "      <td>30011978.0</td>\n",
       "    </tr>\n",
       "    <tr>\n",
       "      <th>2008</th>\n",
       "      <td>63.75</td>\n",
       "      <td>48.367</td>\n",
       "      <td>816544.0</td>\n",
       "      <td>34525004.0</td>\n",
       "      <td>372796355.0</td>\n",
       "      <td>35341548.0</td>\n",
       "    </tr>\n",
       "    <tr>\n",
       "      <th>2010</th>\n",
       "      <td>62.50</td>\n",
       "      <td>49.237</td>\n",
       "      <td>1085701.0</td>\n",
       "      <td>33464087.0</td>\n",
       "      <td>363544995.0</td>\n",
       "      <td>34549788.0</td>\n",
       "    </tr>\n",
       "    <tr>\n",
       "      <th>2012</th>\n",
       "      <td>65.23</td>\n",
       "      <td>49.759</td>\n",
       "      <td>1316111.0</td>\n",
       "      <td>35967574.0</td>\n",
       "      <td>368022172.0</td>\n",
       "      <td>37283685.0</td>\n",
       "    </tr>\n",
       "    <tr>\n",
       "      <th>2014</th>\n",
       "      <td>65.60</td>\n",
       "      <td>51.102</td>\n",
       "      <td>1081826.0</td>\n",
       "      <td>37778910.0</td>\n",
       "      <td>387504241.0</td>\n",
       "      <td>38860736.0</td>\n",
       "    </tr>\n",
       "    <tr>\n",
       "      <th>2016</th>\n",
       "      <td>67.10</td>\n",
       "      <td>52.100</td>\n",
       "      <td>1052041.0</td>\n",
       "      <td>38328828.0</td>\n",
       "      <td>400071672.0</td>\n",
       "      <td>39380869.0</td>\n",
       "    </tr>\n",
       "  </tbody>\n",
       "</table>\n",
       "</div>"
      ],
      "text/plain": [
       "      Anteil der behandelten und stofflich verwerteten Siedlungsabfälle am gesamten Siedlungsabfallaufkommen (Percent share of processed and recycled municipal waste in the total amount of municipal waste)  \\\n",
       "2004                                              56.70                                                                                                                                                         \n",
       "2006                                              62.00                                                                                                                                                         \n",
       "2008                                              63.75                                                                                                                                                         \n",
       "2010                                              62.50                                                                                                                                                         \n",
       "2012                                              65.23                                                                                                                                                         \n",
       "2014                                              65.60                                                                                                                                                         \n",
       "2016                                              67.10                                                                                                                                                         \n",
       "\n",
       "      Percent Municipal waste generation  \\\n",
       "2004                              48.434   \n",
       "2006                              46.426   \n",
       "2008                              48.367   \n",
       "2010                              49.237   \n",
       "2012                              49.759   \n",
       "2014                              51.102   \n",
       "2016                              52.100   \n",
       "\n",
       "      Total Recyclable waste (Tonne) Hazardous   \\\n",
       "2004                                   446313.0   \n",
       "2006                                   586837.0   \n",
       "2008                                   816544.0   \n",
       "2010                                  1085701.0   \n",
       "2012                                  1316111.0   \n",
       "2014                                  1081826.0   \n",
       "2016                                  1052041.0   \n",
       "\n",
       "      Total Recyclable waste (Tonne) Non-Hazardous  Total waste (Tonne)  \\\n",
       "2004                                    30886843.0          364021937.0   \n",
       "2006                                    29425141.0          363786069.0   \n",
       "2008                                    34525004.0          372796355.0   \n",
       "2010                                    33464087.0          363544995.0   \n",
       "2012                                    35967574.0          368022172.0   \n",
       "2014                                    37778910.0          387504241.0   \n",
       "2016                                    38328828.0          400071672.0   \n",
       "\n",
       "           T_R_W  \n",
       "2004  31333156.0  \n",
       "2006  30011978.0  \n",
       "2008  35341548.0  \n",
       "2010  34549788.0  \n",
       "2012  37283685.0  \n",
       "2014  38860736.0  \n",
       "2016  39380869.0  "
      ]
     },
     "execution_count": 46,
     "metadata": {},
     "output_type": "execute_result"
    }
   ],
   "source": [
    "gyw_q1"
   ]
  },
  {
   "cell_type": "code",
   "execution_count": 47,
   "metadata": {},
   "outputs": [],
   "source": [
    "t_r_w=gyw_q1.iloc[:,5] # by t_r_w i mean Total Recyclable Waste"
   ]
  },
  {
   "cell_type": "code",
   "execution_count": 48,
   "metadata": {},
   "outputs": [
    {
     "data": {
      "image/png": "[encoded data removed]",
      "text/plain": [
       "<Figure size 432x288 with 1 Axes>"
      ]
     },
     "metadata": {
      "needs_background": "light"
     },
     "output_type": "display_data"
    }
   ],
   "source": [
    "t_r_w.plot();"
   ]
  },
  {
   "cell_type": "code",
   "execution_count": 49,
   "metadata": {},
   "outputs": [
    {
     "data": {
      "image/png": "[encoded data removed]",
      "text/plain": [
       "<Figure size 432x288 with 1 Axes>"
      ]
     },
     "metadata": {
      "needs_background": "light"
     },
     "output_type": "display_data"
    }
   ],
   "source": [
    "t_r_w_log=np.log(t_r_w)\n",
    "t_r_w_log.plot();"
   ]
  },
  {
   "cell_type": "code",
   "execution_count": 50,
   "metadata": {},
   "outputs": [
    {
     "data": {
      "image/png": "[encoded data removed]",
      "text/plain": [
       "<Figure size 432x288 with 1 Axes>"
      ]
     },
     "metadata": {
      "needs_background": "light"
     },
     "output_type": "display_data"
    },
    {
     "name": "stdout",
     "output_type": "stream",
     "text": [
      "ADF Statistic: -2.0000000000000004\n",
      "p-value: 0.28657309916843143\n",
      "Critical Values:\n",
      "\t1%: -5.354256481481482\n",
      "\t5%: -3.6462381481481483\n",
      "\t10%: -2.901197777777778\n"
     ]
    }
   ],
   "source": [
    "rolling_mean_exp_decay = t_r_w_log.ewm(halflife=3, min_periods=0, adjust=True).mean()\n",
    "t_r_w_log_exp_decay = t_r_w_log - rolling_mean_exp_decay\n",
    "t_r_w_log_exp_decay.dropna(inplace=True)\n",
    "get_stationarity(t_r_w_log_exp_decay)"
   ]
  },
  {
   "cell_type": "code",
   "execution_count": 51,
   "metadata": {},
   "outputs": [
    {
     "name": "stderr",
     "output_type": "stream",
     "text": [
      "C:\\anacondra\\lib\\site-packages\\ipykernel_launcher.py:1: FutureWarning: the 'freq'' keyword is deprecated, use 'period' instead\n",
      "  \"\"\"Entry point for launching an IPython kernel.\n",
      "C:\\anacondra\\lib\\site-packages\\statsmodels\\tsa\\base\\tsa_model.py:214: ValueWarning: An unsupported index was provided and will be ignored when e.g. forecasting.\n",
      "  ' ignored when e.g. forecasting.', ValueWarning)\n",
      "C:\\anacondra\\lib\\site-packages\\statsmodels\\tsa\\base\\tsa_model.py:214: ValueWarning: An unsupported index was provided and will be ignored when e.g. forecasting.\n",
      "  ' ignored when e.g. forecasting.', ValueWarning)\n"
     ]
    },
    {
     "data": {
      "image/png": "[encoded data removed]",
      "text/plain": [
       "<Figure size 432x288 with 1 Axes>"
      ]
     },
     "metadata": {
      "needs_background": "light"
     },
     "output_type": "display_data"
    }
   ],
   "source": [
    "decomposition = seasonal_decompose(t_r_w_log,freq=2) \n",
    "\n",
    "model = ARIMA(t_r_w_log, order=(1,1,0))\n",
    "results = model.fit(disp=-1)\n",
    "plt.plot(t_r_w_log_exp_decay)\n",
    "plt.plot(results.fittedvalues, color='red');"
   ]
  },
  {
   "cell_type": "code",
   "execution_count": 52,
   "metadata": {},
   "outputs": [
    {
     "data": {
      "image/png": "[encoded data removed]",
      "text/plain": [
       "<Figure size 432x288 with 1 Axes>"
      ]
     },
     "metadata": {
      "needs_background": "light"
     },
     "output_type": "display_data"
    }
   ],
   "source": [
    "predictions_ARIMA_diff = pd.Series(results.fittedvalues, copy=True)\n",
    "predictions_ARIMA_diff_cumsum = predictions_ARIMA_diff.cumsum()\n",
    "predictions_ARIMA_log = pd.Series(t_r_w_log, index=t_r_w_log.index)\n",
    "predictions_ARIMA_log = predictions_ARIMA_log.add(predictions_ARIMA_diff_cumsum, fill_value=0)\n",
    "predictions_ARIMA = np.exp(predictions_ARIMA_log)\n",
    "plt.plot(t_r_w)\n",
    "plt.plot(predictions_ARIMA);"
   ]
  },
  {
   "cell_type": "code",
   "execution_count": 53,
   "metadata": {},
   "outputs": [
    {
     "data": {
      "text/plain": [
       "array([42552397.71491219, 43507271.14265574, 46652266.48892488])"
      ]
     },
     "execution_count": 53,
     "metadata": {},
     "output_type": "execute_result"
    }
   ],
   "source": [
    "t_r_w_original=np.exp(results.forecast(steps=3)[0])\n",
    "t_r_w_original"
   ]
  },
  {
   "cell_type": "code",
   "execution_count": 54,
   "metadata": {},
   "outputs": [
    {
     "data": {
      "text/html": [
       "<div>\n",
       "<style scoped>\n",
       "    .dataframe tbody tr th:only-of-type {\n",
       "        vertical-align: middle;\n",
       "    }\n",
       "\n",
       "    .dataframe tbody tr th {\n",
       "        vertical-align: top;\n",
       "    }\n",
       "\n",
       "    .dataframe thead th {\n",
       "        text-align: right;\n",
       "    }\n",
       "</style>\n",
       "<table border=\"1\" class=\"dataframe\">\n",
       "  <thead>\n",
       "    <tr style=\"text-align: right;\">\n",
       "      <th></th>\n",
       "      <th>Anteil der behandelten und stofflich verwerteten Siedlungsabfälle am gesamten Siedlungsabfallaufkommen (Percent share of processed and recycled municipal waste in the total amount of municipal waste)</th>\n",
       "      <th>Percent Municipal waste generation</th>\n",
       "      <th>Total Recyclable waste (Tonne) Hazardous</th>\n",
       "      <th>Total Recyclable waste (Tonne) Non-Hazardous</th>\n",
       "      <th>Total waste (Tonne)</th>\n",
       "      <th>T_R_W</th>\n",
       "    </tr>\n",
       "  </thead>\n",
       "  <tbody>\n",
       "    <tr>\n",
       "      <th>2004</th>\n",
       "      <td>56.70</td>\n",
       "      <td>48.434</td>\n",
       "      <td>446313.0</td>\n",
       "      <td>30886843.0</td>\n",
       "      <td>364021937.0</td>\n",
       "      <td>31333156.0</td>\n",
       "    </tr>\n",
       "    <tr>\n",
       "      <th>2006</th>\n",
       "      <td>62.00</td>\n",
       "      <td>46.426</td>\n",
       "      <td>586837.0</td>\n",
       "      <td>29425141.0</td>\n",
       "      <td>363786069.0</td>\n",
       "      <td>30011978.0</td>\n",
       "    </tr>\n",
       "    <tr>\n",
       "      <th>2008</th>\n",
       "      <td>63.75</td>\n",
       "      <td>48.367</td>\n",
       "      <td>816544.0</td>\n",
       "      <td>34525004.0</td>\n",
       "      <td>372796355.0</td>\n",
       "      <td>35341548.0</td>\n",
       "    </tr>\n",
       "    <tr>\n",
       "      <th>2010</th>\n",
       "      <td>62.50</td>\n",
       "      <td>49.237</td>\n",
       "      <td>1085701.0</td>\n",
       "      <td>33464087.0</td>\n",
       "      <td>363544995.0</td>\n",
       "      <td>34549788.0</td>\n",
       "    </tr>\n",
       "    <tr>\n",
       "      <th>2012</th>\n",
       "      <td>65.23</td>\n",
       "      <td>49.759</td>\n",
       "      <td>1316111.0</td>\n",
       "      <td>35967574.0</td>\n",
       "      <td>368022172.0</td>\n",
       "      <td>37283685.0</td>\n",
       "    </tr>\n",
       "    <tr>\n",
       "      <th>2014</th>\n",
       "      <td>65.60</td>\n",
       "      <td>51.102</td>\n",
       "      <td>1081826.0</td>\n",
       "      <td>37778910.0</td>\n",
       "      <td>387504241.0</td>\n",
       "      <td>38860736.0</td>\n",
       "    </tr>\n",
       "    <tr>\n",
       "      <th>2016</th>\n",
       "      <td>67.10</td>\n",
       "      <td>52.100</td>\n",
       "      <td>1052041.0</td>\n",
       "      <td>38328828.0</td>\n",
       "      <td>400071672.0</td>\n",
       "      <td>39380869.0</td>\n",
       "    </tr>\n",
       "  </tbody>\n",
       "</table>\n",
       "</div>"
      ],
      "text/plain": [
       "      Anteil der behandelten und stofflich verwerteten Siedlungsabfälle am gesamten Siedlungsabfallaufkommen (Percent share of processed and recycled municipal waste in the total amount of municipal waste)  \\\n",
       "2004                                              56.70                                                                                                                                                         \n",
       "2006                                              62.00                                                                                                                                                         \n",
       "2008                                              63.75                                                                                                                                                         \n",
       "2010                                              62.50                                                                                                                                                         \n",
       "2012                                              65.23                                                                                                                                                         \n",
       "2014                                              65.60                                                                                                                                                         \n",
       "2016                                              67.10                                                                                                                                                         \n",
       "\n",
       "      Percent Municipal waste generation  \\\n",
       "2004                              48.434   \n",
       "2006                              46.426   \n",
       "2008                              48.367   \n",
       "2010                              49.237   \n",
       "2012                              49.759   \n",
       "2014                              51.102   \n",
       "2016                              52.100   \n",
       "\n",
       "      Total Recyclable waste (Tonne) Hazardous   \\\n",
       "2004                                   446313.0   \n",
       "2006                                   586837.0   \n",
       "2008                                   816544.0   \n",
       "2010                                  1085701.0   \n",
       "2012                                  1316111.0   \n",
       "2014                                  1081826.0   \n",
       "2016                                  1052041.0   \n",
       "\n",
       "      Total Recyclable waste (Tonne) Non-Hazardous  Total waste (Tonne)  \\\n",
       "2004                                    30886843.0          364021937.0   \n",
       "2006                                    29425141.0          363786069.0   \n",
       "2008                                    34525004.0          372796355.0   \n",
       "2010                                    33464087.0          363544995.0   \n",
       "2012                                    35967574.0          368022172.0   \n",
       "2014                                    37778910.0          387504241.0   \n",
       "2016                                    38328828.0          400071672.0   \n",
       "\n",
       "           T_R_W  \n",
       "2004  31333156.0  \n",
       "2006  30011978.0  \n",
       "2008  35341548.0  \n",
       "2010  34549788.0  \n",
       "2012  37283685.0  \n",
       "2014  38860736.0  \n",
       "2016  39380869.0  "
      ]
     },
     "execution_count": 54,
     "metadata": {},
     "output_type": "execute_result"
    }
   ],
   "source": [
    "gyw_q1"
   ]
  },
  {
   "cell_type": "markdown",
   "metadata": {},
   "source": [
    "# Q3d) Plot these as points Q3a, Q3b, and Q3c to your bar-plot in Q2. Do not create bar-plots for 2020."
   ]
  },
  {
   "cell_type": "code",
   "execution_count": 55,
   "metadata": {},
   "outputs": [
    {
     "data": {
      "text/html": [
       "<div>\n",
       "<style scoped>\n",
       "    .dataframe tbody tr th:only-of-type {\n",
       "        vertical-align: middle;\n",
       "    }\n",
       "\n",
       "    .dataframe tbody tr th {\n",
       "        vertical-align: top;\n",
       "    }\n",
       "\n",
       "    .dataframe thead th {\n",
       "        text-align: right;\n",
       "    }\n",
       "</style>\n",
       "<table border=\"1\" class=\"dataframe\">\n",
       "  <thead>\n",
       "    <tr style=\"text-align: right;\">\n",
       "      <th></th>\n",
       "      <th>Total Recyclable waste (Tonne) Hazardous</th>\n",
       "      <th>Total Recyclable waste (Tonne) Non-Hazardous</th>\n",
       "      <th>T_R_W</th>\n",
       "    </tr>\n",
       "  </thead>\n",
       "  <tbody>\n",
       "    <tr>\n",
       "      <th>2004</th>\n",
       "      <td>446313.0</td>\n",
       "      <td>30886843.0</td>\n",
       "      <td>31333156.0</td>\n",
       "    </tr>\n",
       "    <tr>\n",
       "      <th>2006</th>\n",
       "      <td>586837.0</td>\n",
       "      <td>29425141.0</td>\n",
       "      <td>30011978.0</td>\n",
       "    </tr>\n",
       "    <tr>\n",
       "      <th>2008</th>\n",
       "      <td>816544.0</td>\n",
       "      <td>34525004.0</td>\n",
       "      <td>35341548.0</td>\n",
       "    </tr>\n",
       "    <tr>\n",
       "      <th>2010</th>\n",
       "      <td>1085701.0</td>\n",
       "      <td>33464087.0</td>\n",
       "      <td>34549788.0</td>\n",
       "    </tr>\n",
       "    <tr>\n",
       "      <th>2012</th>\n",
       "      <td>1316111.0</td>\n",
       "      <td>35967574.0</td>\n",
       "      <td>37283685.0</td>\n",
       "    </tr>\n",
       "    <tr>\n",
       "      <th>2014</th>\n",
       "      <td>1081826.0</td>\n",
       "      <td>37778910.0</td>\n",
       "      <td>38860736.0</td>\n",
       "    </tr>\n",
       "    <tr>\n",
       "      <th>2016</th>\n",
       "      <td>1052041.0</td>\n",
       "      <td>38328828.0</td>\n",
       "      <td>39380869.0</td>\n",
       "    </tr>\n",
       "  </tbody>\n",
       "</table>\n",
       "</div>"
      ],
      "text/plain": [
       "      Total Recyclable waste (Tonne) Hazardous   \\\n",
       "2004                                   446313.0   \n",
       "2006                                   586837.0   \n",
       "2008                                   816544.0   \n",
       "2010                                  1085701.0   \n",
       "2012                                  1316111.0   \n",
       "2014                                  1081826.0   \n",
       "2016                                  1052041.0   \n",
       "\n",
       "      Total Recyclable waste (Tonne) Non-Hazardous       T_R_W  \n",
       "2004                                    30886843.0  31333156.0  \n",
       "2006                                    29425141.0  30011978.0  \n",
       "2008                                    34525004.0  35341548.0  \n",
       "2010                                    33464087.0  34549788.0  \n",
       "2012                                    35967574.0  37283685.0  \n",
       "2014                                    37778910.0  38860736.0  \n",
       "2016                                    38328828.0  39380869.0  "
      ]
     },
     "execution_count": 55,
     "metadata": {},
     "output_type": "execute_result"
    }
   ],
   "source": [
    "gyw_q1=gyw.dropna()\n",
    "gyw_q2=gyw_q1.drop(columns=gyw_q1.columns[[0,1,4]])\n",
    "gyw_q2"
   ]
  },
  {
   "cell_type": "code",
   "execution_count": 58,
   "metadata": {},
   "outputs": [
    {
     "data": {
      "text/plain": [
       "{'2020': [818055.94447589, 42143366.6359556, 43507271.14265574]}"
      ]
     },
     "execution_count": 58,
     "metadata": {},
     "output_type": "execute_result"
    }
   ],
   "source": [
    "pred2020"
   ]
  },
  {
   "cell_type": "code",
   "execution_count": 59,
   "metadata": {},
   "outputs": [
    {
     "data": {
      "text/html": [
       "<div>\n",
       "<style scoped>\n",
       "    .dataframe tbody tr th:only-of-type {\n",
       "        vertical-align: middle;\n",
       "    }\n",
       "\n",
       "    .dataframe tbody tr th {\n",
       "        vertical-align: top;\n",
       "    }\n",
       "\n",
       "    .dataframe thead th {\n",
       "        text-align: right;\n",
       "    }\n",
       "</style>\n",
       "<table border=\"1\" class=\"dataframe\">\n",
       "  <thead>\n",
       "    <tr style=\"text-align: right;\">\n",
       "      <th></th>\n",
       "      <th>Total Recyclable waste (Tonne) Hazardous</th>\n",
       "      <th>Total Recyclable waste (Tonne) Non-Hazardous</th>\n",
       "      <th>T_R_W</th>\n",
       "    </tr>\n",
       "  </thead>\n",
       "  <tbody>\n",
       "    <tr>\n",
       "      <th>2020</th>\n",
       "      <td>818055.944476</td>\n",
       "      <td>4.214337e+07</td>\n",
       "      <td>4.350727e+07</td>\n",
       "    </tr>\n",
       "  </tbody>\n",
       "</table>\n",
       "</div>"
      ],
      "text/plain": [
       "      Total Recyclable waste (Tonne) Hazardous   \\\n",
       "2020                              818055.944476   \n",
       "\n",
       "      Total Recyclable waste (Tonne) Non-Hazardous         T_R_W  \n",
       "2020                                  4.214337e+07  4.350727e+07  "
      ]
     },
     "execution_count": 59,
     "metadata": {},
     "output_type": "execute_result"
    }
   ],
   "source": [
    "pred2020={'2020':[818055.94447589,42143366.6359556,43507271.14265574]}\n",
    "#pred2020.values.reshape(-1,1)\n",
    "y_pred_2020=pd.DataFrame.from_dict(pred2020,orient='index',columns=gyw_q2.columns)\n",
    "#y_pred_2020=y_pred_2020.index.astype(float)\n",
    "y_pred_2020"
   ]
  },
  {
   "cell_type": "code",
   "execution_count": 60,
   "metadata": {},
   "outputs": [
    {
     "data": {
      "text/html": [
       "<div>\n",
       "<style scoped>\n",
       "    .dataframe tbody tr th:only-of-type {\n",
       "        vertical-align: middle;\n",
       "    }\n",
       "\n",
       "    .dataframe tbody tr th {\n",
       "        vertical-align: top;\n",
       "    }\n",
       "\n",
       "    .dataframe thead th {\n",
       "        text-align: right;\n",
       "    }\n",
       "</style>\n",
       "<table border=\"1\" class=\"dataframe\">\n",
       "  <thead>\n",
       "    <tr style=\"text-align: right;\">\n",
       "      <th></th>\n",
       "      <th>Total Recyclable waste (Tonne) Hazardous</th>\n",
       "      <th>Total Recyclable waste (Tonne) Non-Hazardous</th>\n",
       "      <th>T_R_W</th>\n",
       "    </tr>\n",
       "  </thead>\n",
       "  <tbody>\n",
       "    <tr>\n",
       "      <th>2004</th>\n",
       "      <td>4.463130e+05</td>\n",
       "      <td>3.088684e+07</td>\n",
       "      <td>3.133316e+07</td>\n",
       "    </tr>\n",
       "    <tr>\n",
       "      <th>2006</th>\n",
       "      <td>5.868370e+05</td>\n",
       "      <td>2.942514e+07</td>\n",
       "      <td>3.001198e+07</td>\n",
       "    </tr>\n",
       "    <tr>\n",
       "      <th>2008</th>\n",
       "      <td>8.165440e+05</td>\n",
       "      <td>3.452500e+07</td>\n",
       "      <td>3.534155e+07</td>\n",
       "    </tr>\n",
       "    <tr>\n",
       "      <th>2010</th>\n",
       "      <td>1.085701e+06</td>\n",
       "      <td>3.346409e+07</td>\n",
       "      <td>3.454979e+07</td>\n",
       "    </tr>\n",
       "    <tr>\n",
       "      <th>2012</th>\n",
       "      <td>1.316111e+06</td>\n",
       "      <td>3.596757e+07</td>\n",
       "      <td>3.728368e+07</td>\n",
       "    </tr>\n",
       "    <tr>\n",
       "      <th>2014</th>\n",
       "      <td>1.081826e+06</td>\n",
       "      <td>3.777891e+07</td>\n",
       "      <td>3.886074e+07</td>\n",
       "    </tr>\n",
       "    <tr>\n",
       "      <th>2016</th>\n",
       "      <td>1.052041e+06</td>\n",
       "      <td>3.832883e+07</td>\n",
       "      <td>3.938087e+07</td>\n",
       "    </tr>\n",
       "    <tr>\n",
       "      <th>2020</th>\n",
       "      <td>8.180559e+05</td>\n",
       "      <td>4.214337e+07</td>\n",
       "      <td>4.350727e+07</td>\n",
       "    </tr>\n",
       "  </tbody>\n",
       "</table>\n",
       "</div>"
      ],
      "text/plain": [
       "      Total Recyclable waste (Tonne) Hazardous   \\\n",
       "2004                               4.463130e+05   \n",
       "2006                               5.868370e+05   \n",
       "2008                               8.165440e+05   \n",
       "2010                               1.085701e+06   \n",
       "2012                               1.316111e+06   \n",
       "2014                               1.081826e+06   \n",
       "2016                               1.052041e+06   \n",
       "2020                               8.180559e+05   \n",
       "\n",
       "      Total Recyclable waste (Tonne) Non-Hazardous         T_R_W  \n",
       "2004                                  3.088684e+07  3.133316e+07  \n",
       "2006                                  2.942514e+07  3.001198e+07  \n",
       "2008                                  3.452500e+07  3.534155e+07  \n",
       "2010                                  3.346409e+07  3.454979e+07  \n",
       "2012                                  3.596757e+07  3.728368e+07  \n",
       "2014                                  3.777891e+07  3.886074e+07  \n",
       "2016                                  3.832883e+07  3.938087e+07  \n",
       "2020                                  4.214337e+07  4.350727e+07  "
      ]
     },
     "execution_count": 60,
     "metadata": {},
     "output_type": "execute_result"
    }
   ],
   "source": [
    "gyw_Q3d=pd.concat([gyw_q2,y_pred_2020])\n",
    "gyw_Q3d"
   ]
  },
  {
   "cell_type": "code",
   "execution_count": 61,
   "metadata": {},
   "outputs": [],
   "source": [
    "gyw_Q3d.index=gyw_Q3d.index.astype(float)\n",
    "gyw_Q3d=gyw_Q3d.astype(float)"
   ]
  },
  {
   "cell_type": "code",
   "execution_count": 62,
   "metadata": {},
   "outputs": [
    {
     "data": {
      "text/html": [
       "<div>\n",
       "<style scoped>\n",
       "    .dataframe tbody tr th:only-of-type {\n",
       "        vertical-align: middle;\n",
       "    }\n",
       "\n",
       "    .dataframe tbody tr th {\n",
       "        vertical-align: top;\n",
       "    }\n",
       "\n",
       "    .dataframe thead th {\n",
       "        text-align: right;\n",
       "    }\n",
       "</style>\n",
       "<table border=\"1\" class=\"dataframe\">\n",
       "  <thead>\n",
       "    <tr style=\"text-align: right;\">\n",
       "      <th></th>\n",
       "      <th>Total Recyclable waste (Tonne) Hazardous</th>\n",
       "      <th>Total Recyclable waste (Tonne) Non-Hazardous</th>\n",
       "      <th>T_R_W</th>\n",
       "    </tr>\n",
       "  </thead>\n",
       "  <tbody>\n",
       "    <tr>\n",
       "      <th>2004.0</th>\n",
       "      <td>4.463130e+05</td>\n",
       "      <td>3.088684e+07</td>\n",
       "      <td>3.133316e+07</td>\n",
       "    </tr>\n",
       "    <tr>\n",
       "      <th>2006.0</th>\n",
       "      <td>5.868370e+05</td>\n",
       "      <td>2.942514e+07</td>\n",
       "      <td>3.001198e+07</td>\n",
       "    </tr>\n",
       "    <tr>\n",
       "      <th>2008.0</th>\n",
       "      <td>8.165440e+05</td>\n",
       "      <td>3.452500e+07</td>\n",
       "      <td>3.534155e+07</td>\n",
       "    </tr>\n",
       "    <tr>\n",
       "      <th>2010.0</th>\n",
       "      <td>1.085701e+06</td>\n",
       "      <td>3.346409e+07</td>\n",
       "      <td>3.454979e+07</td>\n",
       "    </tr>\n",
       "    <tr>\n",
       "      <th>2012.0</th>\n",
       "      <td>1.316111e+06</td>\n",
       "      <td>3.596757e+07</td>\n",
       "      <td>3.728368e+07</td>\n",
       "    </tr>\n",
       "    <tr>\n",
       "      <th>2014.0</th>\n",
       "      <td>1.081826e+06</td>\n",
       "      <td>3.777891e+07</td>\n",
       "      <td>3.886074e+07</td>\n",
       "    </tr>\n",
       "    <tr>\n",
       "      <th>2016.0</th>\n",
       "      <td>1.052041e+06</td>\n",
       "      <td>3.832883e+07</td>\n",
       "      <td>3.938087e+07</td>\n",
       "    </tr>\n",
       "    <tr>\n",
       "      <th>2020.0</th>\n",
       "      <td>8.180559e+05</td>\n",
       "      <td>4.214337e+07</td>\n",
       "      <td>4.350727e+07</td>\n",
       "    </tr>\n",
       "  </tbody>\n",
       "</table>\n",
       "</div>"
      ],
      "text/plain": [
       "        Total Recyclable waste (Tonne) Hazardous   \\\n",
       "2004.0                               4.463130e+05   \n",
       "2006.0                               5.868370e+05   \n",
       "2008.0                               8.165440e+05   \n",
       "2010.0                               1.085701e+06   \n",
       "2012.0                               1.316111e+06   \n",
       "2014.0                               1.081826e+06   \n",
       "2016.0                               1.052041e+06   \n",
       "2020.0                               8.180559e+05   \n",
       "\n",
       "        Total Recyclable waste (Tonne) Non-Hazardous         T_R_W  \n",
       "2004.0                                  3.088684e+07  3.133316e+07  \n",
       "2006.0                                  2.942514e+07  3.001198e+07  \n",
       "2008.0                                  3.452500e+07  3.534155e+07  \n",
       "2010.0                                  3.346409e+07  3.454979e+07  \n",
       "2012.0                                  3.596757e+07  3.728368e+07  \n",
       "2014.0                                  3.777891e+07  3.886074e+07  \n",
       "2016.0                                  3.832883e+07  3.938087e+07  \n",
       "2020.0                                  4.214337e+07  4.350727e+07  "
      ]
     },
     "execution_count": 62,
     "metadata": {},
     "output_type": "execute_result"
    }
   ],
   "source": [
    "gyw_Q3d"
   ]
  },
  {
   "cell_type": "markdown",
   "metadata": {},
   "source": [
    "# Q3d) Plot these as points Q3a, Q3b, and Q3c to your bar-plot in Q2. Do not create bar-plots for 2020.\n",
    "\n",
    "## Q3e) Add a line connecting the tip of each bar-plot from year 2004 till 2020.\n",
    "\n",
    " Do these for Total Hazardous Waste, Total Non-Hazardous Waste, and Total Recyclable Waste."
   ]
  },
  {
   "cell_type": "code",
   "execution_count": 63,
   "metadata": {},
   "outputs": [
    {
     "data": {
      "image/png": "[encoded data removed]",
      "text/plain": [
       "<Figure size 1440x1080 with 1 Axes>"
      ]
     },
     "metadata": {
      "needs_background": "light"
     },
     "output_type": "display_data"
    }
   ],
   "source": [
    "plt.figure(figsize=(20,15))\n",
    "\n",
    "plt.bar(gyw_Q3d.index-0.6,gyw_Q3d.iloc[:,0],width=0.6,color='r')\n",
    "plt.bar(gyw_Q3d.index+0.0,gyw_Q3d.iloc[:,1],width=0.6,color='b')\n",
    "plt.bar(gyw_Q3d.index+0.6,gyw_Q3d.iloc[:,2],width=0.6,color='g')\n",
    "plt.legend(['Total Hazardous','Total Non-Hazardous','Total Recyclable Waste'],loc='best')\n",
    "\n",
    "\n",
    "plt.plot(gyw_Q3d.index-0.6,gyw_Q3d.iloc[:,0],color='r')\n",
    "plt.plot(gyw_Q3d.index+0.0,gyw_Q3d.iloc[:,1],color='magenta')\n",
    "plt.plot(gyw_Q3d.index+0.6,gyw_Q3d.iloc[:,2],color='black')\n",
    "\n",
    "\n",
    "\n",
    "plt.xticks([2004,2006,2008,2010,2012,2014,2016,2020,2020-0.6,2020+0.6],[2004,2006,2008,2010,2012,2014,2016,'Q3b','Q3a','Q3c'])\n",
    "plt.xlabel('Jear',color='black',fontsize=20)\n",
    "plt.ylabel('Tonn',color='black',fontsize=20)\n",
    "plt.title('Germany Yearly Waste',fontsize='25')\n",
    "plt.grid(which='major');\n",
    "           "
   ]
  },
  {
   "cell_type": "markdown",
   "metadata": {},
   "source": []
  },
  {
   "cell_type": "markdown",
   "metadata": {},
   "source": [
    "Use different line colors of your choice.\n",
    "\n",
    "Q4) Using python, calculate the percent of recyclable waste\n",
    "\n",
    "Hint: percent of recyclable waste = 100*(Total Recyclable Waste/Total Waste)\n",
    "                                                                                                                                                                                                                                                                                                                                                                                                                                                                                                                                                          \n",
    "Q5) Using python, develop a model of your choice to predict the following:\n",
    "\n",
    "Q5a) Total Waste in Tonne for year 2020\n",
    "\n",
    "Q5b) Percent Recyclable Waste for year 2020\n",
    "\n",
    "Hint: percent of recyclable waste for year 2020\n",
    "= 100*(Total Recyclable Waste for year 2020/Total Waste for year 2020)\n",
    "                                                                                                                                                                                                                                                                                                                                                                                                                                                                                                                                            \n",
    "Q6) Using Python calculate\n",
    "Q6a) the Percent Hazardous Waste for each available year. Do this from 2004 till 2020.\n",
    "Q6b) the Percent Non-Hazardous Waste for each available year. Do this from 2004 till 2020.\n",
    "Q6c) the Percent Recyclable Waste for each available year. Do this from 2004 till 2020.\n",
    "\n",
    "Q7 Make a separate bar plot similar to Q2 to visualize Q6a, Q6b, and Q6c."
   ]
  },
  {
   "cell_type": "code",
   "execution_count": 64,
   "metadata": {},
   "outputs": [
    {
     "data": {
      "text/html": [
       "<div>\n",
       "<style scoped>\n",
       "    .dataframe tbody tr th:only-of-type {\n",
       "        vertical-align: middle;\n",
       "    }\n",
       "\n",
       "    .dataframe tbody tr th {\n",
       "        vertical-align: top;\n",
       "    }\n",
       "\n",
       "    .dataframe thead th {\n",
       "        text-align: right;\n",
       "    }\n",
       "</style>\n",
       "<table border=\"1\" class=\"dataframe\">\n",
       "  <thead>\n",
       "    <tr style=\"text-align: right;\">\n",
       "      <th></th>\n",
       "      <th>Anteil der behandelten und stofflich verwerteten Siedlungsabfälle am gesamten Siedlungsabfallaufkommen (Percent share of processed and recycled municipal waste in the total amount of municipal waste)</th>\n",
       "      <th>Percent Municipal waste generation</th>\n",
       "      <th>Total Recyclable waste (Tonne) Hazardous</th>\n",
       "      <th>Total Recyclable waste (Tonne) Non-Hazardous</th>\n",
       "      <th>Total waste (Tonne)</th>\n",
       "      <th>T_R_W</th>\n",
       "    </tr>\n",
       "  </thead>\n",
       "  <tbody>\n",
       "    <tr>\n",
       "      <th>2002</th>\n",
       "      <td>56.100000</td>\n",
       "      <td>52.772</td>\n",
       "      <td>NaN</td>\n",
       "      <td>NaN</td>\n",
       "      <td>NaN</td>\n",
       "      <td>NaN</td>\n",
       "    </tr>\n",
       "    <tr>\n",
       "      <th>2003</th>\n",
       "      <td>57.800000</td>\n",
       "      <td>49.622</td>\n",
       "      <td>NaN</td>\n",
       "      <td>NaN</td>\n",
       "      <td>NaN</td>\n",
       "      <td>NaN</td>\n",
       "    </tr>\n",
       "    <tr>\n",
       "      <th>2004</th>\n",
       "      <td>56.700000</td>\n",
       "      <td>48.434</td>\n",
       "      <td>446313.0</td>\n",
       "      <td>30886843.0</td>\n",
       "      <td>364021937.0</td>\n",
       "      <td>31333156.0</td>\n",
       "    </tr>\n",
       "    <tr>\n",
       "      <th>2005</th>\n",
       "      <td>60.900000</td>\n",
       "      <td>46.555</td>\n",
       "      <td>NaN</td>\n",
       "      <td>NaN</td>\n",
       "      <td>NaN</td>\n",
       "      <td>NaN</td>\n",
       "    </tr>\n",
       "    <tr>\n",
       "      <th>2006</th>\n",
       "      <td>62.000000</td>\n",
       "      <td>46.426</td>\n",
       "      <td>586837.0</td>\n",
       "      <td>29425141.0</td>\n",
       "      <td>363786069.0</td>\n",
       "      <td>30011978.0</td>\n",
       "    </tr>\n",
       "    <tr>\n",
       "      <th>2007</th>\n",
       "      <td>63.200000</td>\n",
       "      <td>47.887</td>\n",
       "      <td>NaN</td>\n",
       "      <td>NaN</td>\n",
       "      <td>NaN</td>\n",
       "      <td>NaN</td>\n",
       "    </tr>\n",
       "    <tr>\n",
       "      <th>2008</th>\n",
       "      <td>63.750000</td>\n",
       "      <td>48.367</td>\n",
       "      <td>816544.0</td>\n",
       "      <td>34525004.0</td>\n",
       "      <td>372796355.0</td>\n",
       "      <td>35341548.0</td>\n",
       "    </tr>\n",
       "    <tr>\n",
       "      <th>2009</th>\n",
       "      <td>63.120000</td>\n",
       "      <td>48.466</td>\n",
       "      <td>NaN</td>\n",
       "      <td>NaN</td>\n",
       "      <td>NaN</td>\n",
       "      <td>NaN</td>\n",
       "    </tr>\n",
       "    <tr>\n",
       "      <th>2010</th>\n",
       "      <td>62.500000</td>\n",
       "      <td>49.237</td>\n",
       "      <td>1085701.0</td>\n",
       "      <td>33464087.0</td>\n",
       "      <td>363544995.0</td>\n",
       "      <td>34549788.0</td>\n",
       "    </tr>\n",
       "    <tr>\n",
       "      <th>2011</th>\n",
       "      <td>62.970000</td>\n",
       "      <td>50.237</td>\n",
       "      <td>NaN</td>\n",
       "      <td>NaN</td>\n",
       "      <td>NaN</td>\n",
       "      <td>NaN</td>\n",
       "    </tr>\n",
       "    <tr>\n",
       "      <th>2012</th>\n",
       "      <td>65.230000</td>\n",
       "      <td>49.759</td>\n",
       "      <td>1316111.0</td>\n",
       "      <td>35967574.0</td>\n",
       "      <td>368022172.0</td>\n",
       "      <td>37283685.0</td>\n",
       "    </tr>\n",
       "    <tr>\n",
       "      <th>2013</th>\n",
       "      <td>63.806738</td>\n",
       "      <td>49.570</td>\n",
       "      <td>NaN</td>\n",
       "      <td>NaN</td>\n",
       "      <td>NaN</td>\n",
       "      <td>NaN</td>\n",
       "    </tr>\n",
       "    <tr>\n",
       "      <th>2014</th>\n",
       "      <td>65.600000</td>\n",
       "      <td>51.102</td>\n",
       "      <td>1081826.0</td>\n",
       "      <td>37778910.0</td>\n",
       "      <td>387504241.0</td>\n",
       "      <td>38860736.0</td>\n",
       "    </tr>\n",
       "    <tr>\n",
       "      <th>2015</th>\n",
       "      <td>66.700000</td>\n",
       "      <td>51.600</td>\n",
       "      <td>NaN</td>\n",
       "      <td>NaN</td>\n",
       "      <td>NaN</td>\n",
       "      <td>NaN</td>\n",
       "    </tr>\n",
       "    <tr>\n",
       "      <th>2016</th>\n",
       "      <td>67.100000</td>\n",
       "      <td>52.100</td>\n",
       "      <td>1052041.0</td>\n",
       "      <td>38328828.0</td>\n",
       "      <td>400071672.0</td>\n",
       "      <td>39380869.0</td>\n",
       "    </tr>\n",
       "    <tr>\n",
       "      <th>2017</th>\n",
       "      <td>67.200000</td>\n",
       "      <td>51.790</td>\n",
       "      <td>NaN</td>\n",
       "      <td>NaN</td>\n",
       "      <td>NaN</td>\n",
       "      <td>NaN</td>\n",
       "    </tr>\n",
       "    <tr>\n",
       "      <th>2018</th>\n",
       "      <td>NaN</td>\n",
       "      <td>NaN</td>\n",
       "      <td>NaN</td>\n",
       "      <td>NaN</td>\n",
       "      <td>NaN</td>\n",
       "      <td>NaN</td>\n",
       "    </tr>\n",
       "    <tr>\n",
       "      <th>2019</th>\n",
       "      <td>NaN</td>\n",
       "      <td>NaN</td>\n",
       "      <td>NaN</td>\n",
       "      <td>NaN</td>\n",
       "      <td>NaN</td>\n",
       "      <td>NaN</td>\n",
       "    </tr>\n",
       "    <tr>\n",
       "      <th>2020</th>\n",
       "      <td>65.000000</td>\n",
       "      <td>NaN</td>\n",
       "      <td>NaN</td>\n",
       "      <td>NaN</td>\n",
       "      <td>NaN</td>\n",
       "      <td>NaN</td>\n",
       "    </tr>\n",
       "  </tbody>\n",
       "</table>\n",
       "</div>"
      ],
      "text/plain": [
       "      Anteil der behandelten und stofflich verwerteten Siedlungsabfälle am gesamten Siedlungsabfallaufkommen (Percent share of processed and recycled municipal waste in the total amount of municipal waste)  \\\n",
       "2002                                          56.100000                                                                                                                                                         \n",
       "2003                                          57.800000                                                                                                                                                         \n",
       "2004                                          56.700000                                                                                                                                                         \n",
       "2005                                          60.900000                                                                                                                                                         \n",
       "2006                                          62.000000                                                                                                                                                         \n",
       "2007                                          63.200000                                                                                                                                                         \n",
       "2008                                          63.750000                                                                                                                                                         \n",
       "2009                                          63.120000                                                                                                                                                         \n",
       "2010                                          62.500000                                                                                                                                                         \n",
       "2011                                          62.970000                                                                                                                                                         \n",
       "2012                                          65.230000                                                                                                                                                         \n",
       "2013                                          63.806738                                                                                                                                                         \n",
       "2014                                          65.600000                                                                                                                                                         \n",
       "2015                                          66.700000                                                                                                                                                         \n",
       "2016                                          67.100000                                                                                                                                                         \n",
       "2017                                          67.200000                                                                                                                                                         \n",
       "2018                                                NaN                                                                                                                                                         \n",
       "2019                                                NaN                                                                                                                                                         \n",
       "2020                                          65.000000                                                                                                                                                         \n",
       "\n",
       "      Percent Municipal waste generation  \\\n",
       "2002                              52.772   \n",
       "2003                              49.622   \n",
       "2004                              48.434   \n",
       "2005                              46.555   \n",
       "2006                              46.426   \n",
       "2007                              47.887   \n",
       "2008                              48.367   \n",
       "2009                              48.466   \n",
       "2010                              49.237   \n",
       "2011                              50.237   \n",
       "2012                              49.759   \n",
       "2013                              49.570   \n",
       "2014                              51.102   \n",
       "2015                              51.600   \n",
       "2016                              52.100   \n",
       "2017                              51.790   \n",
       "2018                                 NaN   \n",
       "2019                                 NaN   \n",
       "2020                                 NaN   \n",
       "\n",
       "      Total Recyclable waste (Tonne) Hazardous   \\\n",
       "2002                                        NaN   \n",
       "2003                                        NaN   \n",
       "2004                                   446313.0   \n",
       "2005                                        NaN   \n",
       "2006                                   586837.0   \n",
       "2007                                        NaN   \n",
       "2008                                   816544.0   \n",
       "2009                                        NaN   \n",
       "2010                                  1085701.0   \n",
       "2011                                        NaN   \n",
       "2012                                  1316111.0   \n",
       "2013                                        NaN   \n",
       "2014                                  1081826.0   \n",
       "2015                                        NaN   \n",
       "2016                                  1052041.0   \n",
       "2017                                        NaN   \n",
       "2018                                        NaN   \n",
       "2019                                        NaN   \n",
       "2020                                        NaN   \n",
       "\n",
       "      Total Recyclable waste (Tonne) Non-Hazardous  Total waste (Tonne)  \\\n",
       "2002                                           NaN                  NaN   \n",
       "2003                                           NaN                  NaN   \n",
       "2004                                    30886843.0          364021937.0   \n",
       "2005                                           NaN                  NaN   \n",
       "2006                                    29425141.0          363786069.0   \n",
       "2007                                           NaN                  NaN   \n",
       "2008                                    34525004.0          372796355.0   \n",
       "2009                                           NaN                  NaN   \n",
       "2010                                    33464087.0          363544995.0   \n",
       "2011                                           NaN                  NaN   \n",
       "2012                                    35967574.0          368022172.0   \n",
       "2013                                           NaN                  NaN   \n",
       "2014                                    37778910.0          387504241.0   \n",
       "2015                                           NaN                  NaN   \n",
       "2016                                    38328828.0          400071672.0   \n",
       "2017                                           NaN                  NaN   \n",
       "2018                                           NaN                  NaN   \n",
       "2019                                           NaN                  NaN   \n",
       "2020                                           NaN                  NaN   \n",
       "\n",
       "           T_R_W  \n",
       "2002         NaN  \n",
       "2003         NaN  \n",
       "2004  31333156.0  \n",
       "2005         NaN  \n",
       "2006  30011978.0  \n",
       "2007         NaN  \n",
       "2008  35341548.0  \n",
       "2009         NaN  \n",
       "2010  34549788.0  \n",
       "2011         NaN  \n",
       "2012  37283685.0  \n",
       "2013         NaN  \n",
       "2014  38860736.0  \n",
       "2015         NaN  \n",
       "2016  39380869.0  \n",
       "2017         NaN  \n",
       "2018         NaN  \n",
       "2019         NaN  \n",
       "2020         NaN  "
      ]
     },
     "execution_count": 64,
     "metadata": {},
     "output_type": "execute_result"
    }
   ],
   "source": [
    "gyw\n"
   ]
  },
  {
   "cell_type": "markdown",
   "metadata": {},
   "source": [
    "# Q4) Using python, calculate the percent of recyclable waste\n",
    "\n",
    "Hint: percent of recyclable waste = 100*(Total Recyclable Waste/Total Waste)"
   ]
  },
  {
   "cell_type": "code",
   "execution_count": 65,
   "metadata": {},
   "outputs": [
    {
     "data": {
      "text/html": [
       "<div>\n",
       "<style scoped>\n",
       "    .dataframe tbody tr th:only-of-type {\n",
       "        vertical-align: middle;\n",
       "    }\n",
       "\n",
       "    .dataframe tbody tr th {\n",
       "        vertical-align: top;\n",
       "    }\n",
       "\n",
       "    .dataframe thead th {\n",
       "        text-align: right;\n",
       "    }\n",
       "</style>\n",
       "<table border=\"1\" class=\"dataframe\">\n",
       "  <thead>\n",
       "    <tr style=\"text-align: right;\">\n",
       "      <th></th>\n",
       "      <th>Total waste (Tonne)</th>\n",
       "      <th>T_R_W</th>\n",
       "    </tr>\n",
       "  </thead>\n",
       "  <tbody>\n",
       "    <tr>\n",
       "      <th>2002</th>\n",
       "      <td>NaN</td>\n",
       "      <td>NaN</td>\n",
       "    </tr>\n",
       "    <tr>\n",
       "      <th>2003</th>\n",
       "      <td>NaN</td>\n",
       "      <td>NaN</td>\n",
       "    </tr>\n",
       "    <tr>\n",
       "      <th>2004</th>\n",
       "      <td>364021937.0</td>\n",
       "      <td>31333156.0</td>\n",
       "    </tr>\n",
       "    <tr>\n",
       "      <th>2005</th>\n",
       "      <td>NaN</td>\n",
       "      <td>NaN</td>\n",
       "    </tr>\n",
       "    <tr>\n",
       "      <th>2006</th>\n",
       "      <td>363786069.0</td>\n",
       "      <td>30011978.0</td>\n",
       "    </tr>\n",
       "    <tr>\n",
       "      <th>2007</th>\n",
       "      <td>NaN</td>\n",
       "      <td>NaN</td>\n",
       "    </tr>\n",
       "    <tr>\n",
       "      <th>2008</th>\n",
       "      <td>372796355.0</td>\n",
       "      <td>35341548.0</td>\n",
       "    </tr>\n",
       "    <tr>\n",
       "      <th>2009</th>\n",
       "      <td>NaN</td>\n",
       "      <td>NaN</td>\n",
       "    </tr>\n",
       "    <tr>\n",
       "      <th>2010</th>\n",
       "      <td>363544995.0</td>\n",
       "      <td>34549788.0</td>\n",
       "    </tr>\n",
       "    <tr>\n",
       "      <th>2011</th>\n",
       "      <td>NaN</td>\n",
       "      <td>NaN</td>\n",
       "    </tr>\n",
       "    <tr>\n",
       "      <th>2012</th>\n",
       "      <td>368022172.0</td>\n",
       "      <td>37283685.0</td>\n",
       "    </tr>\n",
       "    <tr>\n",
       "      <th>2013</th>\n",
       "      <td>NaN</td>\n",
       "      <td>NaN</td>\n",
       "    </tr>\n",
       "    <tr>\n",
       "      <th>2014</th>\n",
       "      <td>387504241.0</td>\n",
       "      <td>38860736.0</td>\n",
       "    </tr>\n",
       "    <tr>\n",
       "      <th>2015</th>\n",
       "      <td>NaN</td>\n",
       "      <td>NaN</td>\n",
       "    </tr>\n",
       "    <tr>\n",
       "      <th>2016</th>\n",
       "      <td>400071672.0</td>\n",
       "      <td>39380869.0</td>\n",
       "    </tr>\n",
       "    <tr>\n",
       "      <th>2017</th>\n",
       "      <td>NaN</td>\n",
       "      <td>NaN</td>\n",
       "    </tr>\n",
       "    <tr>\n",
       "      <th>2018</th>\n",
       "      <td>NaN</td>\n",
       "      <td>NaN</td>\n",
       "    </tr>\n",
       "    <tr>\n",
       "      <th>2019</th>\n",
       "      <td>NaN</td>\n",
       "      <td>NaN</td>\n",
       "    </tr>\n",
       "    <tr>\n",
       "      <th>2020</th>\n",
       "      <td>NaN</td>\n",
       "      <td>NaN</td>\n",
       "    </tr>\n",
       "  </tbody>\n",
       "</table>\n",
       "</div>"
      ],
      "text/plain": [
       "      Total waste (Tonne)       T_R_W\n",
       "2002                  NaN         NaN\n",
       "2003                  NaN         NaN\n",
       "2004          364021937.0  31333156.0\n",
       "2005                  NaN         NaN\n",
       "2006          363786069.0  30011978.0\n",
       "2007                  NaN         NaN\n",
       "2008          372796355.0  35341548.0\n",
       "2009                  NaN         NaN\n",
       "2010          363544995.0  34549788.0\n",
       "2011                  NaN         NaN\n",
       "2012          368022172.0  37283685.0\n",
       "2013                  NaN         NaN\n",
       "2014          387504241.0  38860736.0\n",
       "2015                  NaN         NaN\n",
       "2016          400071672.0  39380869.0\n",
       "2017                  NaN         NaN\n",
       "2018                  NaN         NaN\n",
       "2019                  NaN         NaN\n",
       "2020                  NaN         NaN"
      ]
     },
     "execution_count": 65,
     "metadata": {},
     "output_type": "execute_result"
    }
   ],
   "source": [
    "# getting two of columna wiche are useful\n",
    "\n",
    "gyw_q4=gyw.iloc[:,[4,5]]\n",
    "gyw_q4#_percent=gyw_q4.pct_change(axis='columns')"
   ]
  },
  {
   "cell_type": "code",
   "execution_count": 66,
   "metadata": {},
   "outputs": [
    {
     "name": "stderr",
     "output_type": "stream",
     "text": [
      "C:\\anacondra\\lib\\site-packages\\ipykernel_launcher.py:3: SettingWithCopyWarning: \n",
      "A value is trying to be set on a copy of a slice from a DataFrame.\n",
      "Try using .loc[row_indexer,col_indexer] = value instead\n",
      "\n",
      "See the caveats in the documentation: https://pandas.pydata.org/pandas-docs/stable/user_guide/indexing.html#returning-a-view-versus-a-copy\n",
      "  This is separate from the ipykernel package so we can avoid doing imports until\n"
     ]
    }
   ],
   "source": [
    "# Calculate the percent of recyclable waste and adding that as column to our DataFrame\n",
    "\n",
    "gyw_q4['percent of recyclable waste'] = (100*(gyw_q4.loc[:,'T_R_W'])/(gyw_q4.loc[:,'Total waste (Tonne)']))\n"
   ]
  },
  {
   "cell_type": "code",
   "execution_count": 67,
   "metadata": {},
   "outputs": [
    {
     "data": {
      "text/html": [
       "<div>\n",
       "<style scoped>\n",
       "    .dataframe tbody tr th:only-of-type {\n",
       "        vertical-align: middle;\n",
       "    }\n",
       "\n",
       "    .dataframe tbody tr th {\n",
       "        vertical-align: top;\n",
       "    }\n",
       "\n",
       "    .dataframe thead th {\n",
       "        text-align: right;\n",
       "    }\n",
       "</style>\n",
       "<table border=\"1\" class=\"dataframe\">\n",
       "  <thead>\n",
       "    <tr style=\"text-align: right;\">\n",
       "      <th></th>\n",
       "      <th>Total waste (Tonne)</th>\n",
       "      <th>T_R_W</th>\n",
       "      <th>percent of recyclable waste</th>\n",
       "    </tr>\n",
       "  </thead>\n",
       "  <tbody>\n",
       "    <tr>\n",
       "      <th>2002</th>\n",
       "      <td>NaN</td>\n",
       "      <td>NaN</td>\n",
       "      <td>NaN</td>\n",
       "    </tr>\n",
       "    <tr>\n",
       "      <th>2003</th>\n",
       "      <td>NaN</td>\n",
       "      <td>NaN</td>\n",
       "      <td>NaN</td>\n",
       "    </tr>\n",
       "    <tr>\n",
       "      <th>2004</th>\n",
       "      <td>364021937.0</td>\n",
       "      <td>31333156.0</td>\n",
       "      <td>8.607491</td>\n",
       "    </tr>\n",
       "    <tr>\n",
       "      <th>2005</th>\n",
       "      <td>NaN</td>\n",
       "      <td>NaN</td>\n",
       "      <td>NaN</td>\n",
       "    </tr>\n",
       "    <tr>\n",
       "      <th>2006</th>\n",
       "      <td>363786069.0</td>\n",
       "      <td>30011978.0</td>\n",
       "      <td>8.249898</td>\n",
       "    </tr>\n",
       "    <tr>\n",
       "      <th>2007</th>\n",
       "      <td>NaN</td>\n",
       "      <td>NaN</td>\n",
       "      <td>NaN</td>\n",
       "    </tr>\n",
       "    <tr>\n",
       "      <th>2008</th>\n",
       "      <td>372796355.0</td>\n",
       "      <td>35341548.0</td>\n",
       "      <td>9.480122</td>\n",
       "    </tr>\n",
       "    <tr>\n",
       "      <th>2009</th>\n",
       "      <td>NaN</td>\n",
       "      <td>NaN</td>\n",
       "      <td>NaN</td>\n",
       "    </tr>\n",
       "    <tr>\n",
       "      <th>2010</th>\n",
       "      <td>363544995.0</td>\n",
       "      <td>34549788.0</td>\n",
       "      <td>9.503580</td>\n",
       "    </tr>\n",
       "    <tr>\n",
       "      <th>2011</th>\n",
       "      <td>NaN</td>\n",
       "      <td>NaN</td>\n",
       "      <td>NaN</td>\n",
       "    </tr>\n",
       "    <tr>\n",
       "      <th>2012</th>\n",
       "      <td>368022172.0</td>\n",
       "      <td>37283685.0</td>\n",
       "      <td>10.130826</td>\n",
       "    </tr>\n",
       "    <tr>\n",
       "      <th>2013</th>\n",
       "      <td>NaN</td>\n",
       "      <td>NaN</td>\n",
       "      <td>NaN</td>\n",
       "    </tr>\n",
       "    <tr>\n",
       "      <th>2014</th>\n",
       "      <td>387504241.0</td>\n",
       "      <td>38860736.0</td>\n",
       "      <td>10.028467</td>\n",
       "    </tr>\n",
       "    <tr>\n",
       "      <th>2015</th>\n",
       "      <td>NaN</td>\n",
       "      <td>NaN</td>\n",
       "      <td>NaN</td>\n",
       "    </tr>\n",
       "    <tr>\n",
       "      <th>2016</th>\n",
       "      <td>400071672.0</td>\n",
       "      <td>39380869.0</td>\n",
       "      <td>9.843454</td>\n",
       "    </tr>\n",
       "    <tr>\n",
       "      <th>2017</th>\n",
       "      <td>NaN</td>\n",
       "      <td>NaN</td>\n",
       "      <td>NaN</td>\n",
       "    </tr>\n",
       "    <tr>\n",
       "      <th>2018</th>\n",
       "      <td>NaN</td>\n",
       "      <td>NaN</td>\n",
       "      <td>NaN</td>\n",
       "    </tr>\n",
       "    <tr>\n",
       "      <th>2019</th>\n",
       "      <td>NaN</td>\n",
       "      <td>NaN</td>\n",
       "      <td>NaN</td>\n",
       "    </tr>\n",
       "    <tr>\n",
       "      <th>2020</th>\n",
       "      <td>NaN</td>\n",
       "      <td>NaN</td>\n",
       "      <td>NaN</td>\n",
       "    </tr>\n",
       "  </tbody>\n",
       "</table>\n",
       "</div>"
      ],
      "text/plain": [
       "      Total waste (Tonne)       T_R_W  percent of recyclable waste\n",
       "2002                  NaN         NaN                          NaN\n",
       "2003                  NaN         NaN                          NaN\n",
       "2004          364021937.0  31333156.0                     8.607491\n",
       "2005                  NaN         NaN                          NaN\n",
       "2006          363786069.0  30011978.0                     8.249898\n",
       "2007                  NaN         NaN                          NaN\n",
       "2008          372796355.0  35341548.0                     9.480122\n",
       "2009                  NaN         NaN                          NaN\n",
       "2010          363544995.0  34549788.0                     9.503580\n",
       "2011                  NaN         NaN                          NaN\n",
       "2012          368022172.0  37283685.0                    10.130826\n",
       "2013                  NaN         NaN                          NaN\n",
       "2014          387504241.0  38860736.0                    10.028467\n",
       "2015                  NaN         NaN                          NaN\n",
       "2016          400071672.0  39380869.0                     9.843454\n",
       "2017                  NaN         NaN                          NaN\n",
       "2018                  NaN         NaN                          NaN\n",
       "2019                  NaN         NaN                          NaN\n",
       "2020                  NaN         NaN                          NaN"
      ]
     },
     "execution_count": 67,
     "metadata": {},
     "output_type": "execute_result"
    }
   ],
   "source": [
    "# Our result\n",
    "\n",
    "gyw_q4"
   ]
  },
  {
   "cell_type": "markdown",
   "metadata": {},
   "source": [
    "Q5) Using python, develop a model of your choice to predict the following:\n",
    "\n",
    "Q5a) Total Waste in Tonne for year 2020\n",
    "\n",
    "Q5b) Percent Recyclable Waste for year 2020\n",
    "\n",
    "Hint: percent of recyclable waste for year 2020 = 100*(Total Recyclable Waste for year 2020/Total Waste for year 2020)"
   ]
  },
  {
   "cell_type": "markdown",
   "metadata": {},
   "source": [
    "# Q5a) Total Waste in Tonne for year 2020"
   ]
  },
  {
   "cell_type": "code",
   "execution_count": 68,
   "metadata": {},
   "outputs": [
    {
     "data": {
      "text/html": [
       "<div>\n",
       "<style scoped>\n",
       "    .dataframe tbody tr th:only-of-type {\n",
       "        vertical-align: middle;\n",
       "    }\n",
       "\n",
       "    .dataframe tbody tr th {\n",
       "        vertical-align: top;\n",
       "    }\n",
       "\n",
       "    .dataframe thead th {\n",
       "        text-align: right;\n",
       "    }\n",
       "</style>\n",
       "<table border=\"1\" class=\"dataframe\">\n",
       "  <thead>\n",
       "    <tr style=\"text-align: right;\">\n",
       "      <th></th>\n",
       "      <th>Anteil der behandelten und stofflich verwerteten Siedlungsabfälle am gesamten Siedlungsabfallaufkommen (Percent share of processed and recycled municipal waste in the total amount of municipal waste)</th>\n",
       "      <th>Percent Municipal waste generation</th>\n",
       "      <th>Total Recyclable waste (Tonne) Hazardous</th>\n",
       "      <th>Total Recyclable waste (Tonne) Non-Hazardous</th>\n",
       "      <th>Total waste (Tonne)</th>\n",
       "      <th>T_R_W</th>\n",
       "    </tr>\n",
       "  </thead>\n",
       "  <tbody>\n",
       "    <tr>\n",
       "      <th>2002</th>\n",
       "      <td>56.100000</td>\n",
       "      <td>52.772</td>\n",
       "      <td>NaN</td>\n",
       "      <td>NaN</td>\n",
       "      <td>NaN</td>\n",
       "      <td>NaN</td>\n",
       "    </tr>\n",
       "    <tr>\n",
       "      <th>2003</th>\n",
       "      <td>57.800000</td>\n",
       "      <td>49.622</td>\n",
       "      <td>NaN</td>\n",
       "      <td>NaN</td>\n",
       "      <td>NaN</td>\n",
       "      <td>NaN</td>\n",
       "    </tr>\n",
       "    <tr>\n",
       "      <th>2004</th>\n",
       "      <td>56.700000</td>\n",
       "      <td>48.434</td>\n",
       "      <td>446313.0</td>\n",
       "      <td>30886843.0</td>\n",
       "      <td>364021937.0</td>\n",
       "      <td>31333156.0</td>\n",
       "    </tr>\n",
       "    <tr>\n",
       "      <th>2005</th>\n",
       "      <td>60.900000</td>\n",
       "      <td>46.555</td>\n",
       "      <td>NaN</td>\n",
       "      <td>NaN</td>\n",
       "      <td>NaN</td>\n",
       "      <td>NaN</td>\n",
       "    </tr>\n",
       "    <tr>\n",
       "      <th>2006</th>\n",
       "      <td>62.000000</td>\n",
       "      <td>46.426</td>\n",
       "      <td>586837.0</td>\n",
       "      <td>29425141.0</td>\n",
       "      <td>363786069.0</td>\n",
       "      <td>30011978.0</td>\n",
       "    </tr>\n",
       "    <tr>\n",
       "      <th>2007</th>\n",
       "      <td>63.200000</td>\n",
       "      <td>47.887</td>\n",
       "      <td>NaN</td>\n",
       "      <td>NaN</td>\n",
       "      <td>NaN</td>\n",
       "      <td>NaN</td>\n",
       "    </tr>\n",
       "    <tr>\n",
       "      <th>2008</th>\n",
       "      <td>63.750000</td>\n",
       "      <td>48.367</td>\n",
       "      <td>816544.0</td>\n",
       "      <td>34525004.0</td>\n",
       "      <td>372796355.0</td>\n",
       "      <td>35341548.0</td>\n",
       "    </tr>\n",
       "    <tr>\n",
       "      <th>2009</th>\n",
       "      <td>63.120000</td>\n",
       "      <td>48.466</td>\n",
       "      <td>NaN</td>\n",
       "      <td>NaN</td>\n",
       "      <td>NaN</td>\n",
       "      <td>NaN</td>\n",
       "    </tr>\n",
       "    <tr>\n",
       "      <th>2010</th>\n",
       "      <td>62.500000</td>\n",
       "      <td>49.237</td>\n",
       "      <td>1085701.0</td>\n",
       "      <td>33464087.0</td>\n",
       "      <td>363544995.0</td>\n",
       "      <td>34549788.0</td>\n",
       "    </tr>\n",
       "    <tr>\n",
       "      <th>2011</th>\n",
       "      <td>62.970000</td>\n",
       "      <td>50.237</td>\n",
       "      <td>NaN</td>\n",
       "      <td>NaN</td>\n",
       "      <td>NaN</td>\n",
       "      <td>NaN</td>\n",
       "    </tr>\n",
       "    <tr>\n",
       "      <th>2012</th>\n",
       "      <td>65.230000</td>\n",
       "      <td>49.759</td>\n",
       "      <td>1316111.0</td>\n",
       "      <td>35967574.0</td>\n",
       "      <td>368022172.0</td>\n",
       "      <td>37283685.0</td>\n",
       "    </tr>\n",
       "    <tr>\n",
       "      <th>2013</th>\n",
       "      <td>63.806738</td>\n",
       "      <td>49.570</td>\n",
       "      <td>NaN</td>\n",
       "      <td>NaN</td>\n",
       "      <td>NaN</td>\n",
       "      <td>NaN</td>\n",
       "    </tr>\n",
       "    <tr>\n",
       "      <th>2014</th>\n",
       "      <td>65.600000</td>\n",
       "      <td>51.102</td>\n",
       "      <td>1081826.0</td>\n",
       "      <td>37778910.0</td>\n",
       "      <td>387504241.0</td>\n",
       "      <td>38860736.0</td>\n",
       "    </tr>\n",
       "    <tr>\n",
       "      <th>2015</th>\n",
       "      <td>66.700000</td>\n",
       "      <td>51.600</td>\n",
       "      <td>NaN</td>\n",
       "      <td>NaN</td>\n",
       "      <td>NaN</td>\n",
       "      <td>NaN</td>\n",
       "    </tr>\n",
       "    <tr>\n",
       "      <th>2016</th>\n",
       "      <td>67.100000</td>\n",
       "      <td>52.100</td>\n",
       "      <td>1052041.0</td>\n",
       "      <td>38328828.0</td>\n",
       "      <td>400071672.0</td>\n",
       "      <td>39380869.0</td>\n",
       "    </tr>\n",
       "    <tr>\n",
       "      <th>2017</th>\n",
       "      <td>67.200000</td>\n",
       "      <td>51.790</td>\n",
       "      <td>NaN</td>\n",
       "      <td>NaN</td>\n",
       "      <td>NaN</td>\n",
       "      <td>NaN</td>\n",
       "    </tr>\n",
       "    <tr>\n",
       "      <th>2018</th>\n",
       "      <td>NaN</td>\n",
       "      <td>NaN</td>\n",
       "      <td>NaN</td>\n",
       "      <td>NaN</td>\n",
       "      <td>NaN</td>\n",
       "      <td>NaN</td>\n",
       "    </tr>\n",
       "    <tr>\n",
       "      <th>2019</th>\n",
       "      <td>NaN</td>\n",
       "      <td>NaN</td>\n",
       "      <td>NaN</td>\n",
       "      <td>NaN</td>\n",
       "      <td>NaN</td>\n",
       "      <td>NaN</td>\n",
       "    </tr>\n",
       "    <tr>\n",
       "      <th>2020</th>\n",
       "      <td>65.000000</td>\n",
       "      <td>NaN</td>\n",
       "      <td>NaN</td>\n",
       "      <td>NaN</td>\n",
       "      <td>NaN</td>\n",
       "      <td>NaN</td>\n",
       "    </tr>\n",
       "  </tbody>\n",
       "</table>\n",
       "</div>"
      ],
      "text/plain": [
       "      Anteil der behandelten und stofflich verwerteten Siedlungsabfälle am gesamten Siedlungsabfallaufkommen (Percent share of processed and recycled municipal waste in the total amount of municipal waste)  \\\n",
       "2002                                          56.100000                                                                                                                                                         \n",
       "2003                                          57.800000                                                                                                                                                         \n",
       "2004                                          56.700000                                                                                                                                                         \n",
       "2005                                          60.900000                                                                                                                                                         \n",
       "2006                                          62.000000                                                                                                                                                         \n",
       "2007                                          63.200000                                                                                                                                                         \n",
       "2008                                          63.750000                                                                                                                                                         \n",
       "2009                                          63.120000                                                                                                                                                         \n",
       "2010                                          62.500000                                                                                                                                                         \n",
       "2011                                          62.970000                                                                                                                                                         \n",
       "2012                                          65.230000                                                                                                                                                         \n",
       "2013                                          63.806738                                                                                                                                                         \n",
       "2014                                          65.600000                                                                                                                                                         \n",
       "2015                                          66.700000                                                                                                                                                         \n",
       "2016                                          67.100000                                                                                                                                                         \n",
       "2017                                          67.200000                                                                                                                                                         \n",
       "2018                                                NaN                                                                                                                                                         \n",
       "2019                                                NaN                                                                                                                                                         \n",
       "2020                                          65.000000                                                                                                                                                         \n",
       "\n",
       "      Percent Municipal waste generation  \\\n",
       "2002                              52.772   \n",
       "2003                              49.622   \n",
       "2004                              48.434   \n",
       "2005                              46.555   \n",
       "2006                              46.426   \n",
       "2007                              47.887   \n",
       "2008                              48.367   \n",
       "2009                              48.466   \n",
       "2010                              49.237   \n",
       "2011                              50.237   \n",
       "2012                              49.759   \n",
       "2013                              49.570   \n",
       "2014                              51.102   \n",
       "2015                              51.600   \n",
       "2016                              52.100   \n",
       "2017                              51.790   \n",
       "2018                                 NaN   \n",
       "2019                                 NaN   \n",
       "2020                                 NaN   \n",
       "\n",
       "      Total Recyclable waste (Tonne) Hazardous   \\\n",
       "2002                                        NaN   \n",
       "2003                                        NaN   \n",
       "2004                                   446313.0   \n",
       "2005                                        NaN   \n",
       "2006                                   586837.0   \n",
       "2007                                        NaN   \n",
       "2008                                   816544.0   \n",
       "2009                                        NaN   \n",
       "2010                                  1085701.0   \n",
       "2011                                        NaN   \n",
       "2012                                  1316111.0   \n",
       "2013                                        NaN   \n",
       "2014                                  1081826.0   \n",
       "2015                                        NaN   \n",
       "2016                                  1052041.0   \n",
       "2017                                        NaN   \n",
       "2018                                        NaN   \n",
       "2019                                        NaN   \n",
       "2020                                        NaN   \n",
       "\n",
       "      Total Recyclable waste (Tonne) Non-Hazardous  Total waste (Tonne)  \\\n",
       "2002                                           NaN                  NaN   \n",
       "2003                                           NaN                  NaN   \n",
       "2004                                    30886843.0          364021937.0   \n",
       "2005                                           NaN                  NaN   \n",
       "2006                                    29425141.0          363786069.0   \n",
       "2007                                           NaN                  NaN   \n",
       "2008                                    34525004.0          372796355.0   \n",
       "2009                                           NaN                  NaN   \n",
       "2010                                    33464087.0          363544995.0   \n",
       "2011                                           NaN                  NaN   \n",
       "2012                                    35967574.0          368022172.0   \n",
       "2013                                           NaN                  NaN   \n",
       "2014                                    37778910.0          387504241.0   \n",
       "2015                                           NaN                  NaN   \n",
       "2016                                    38328828.0          400071672.0   \n",
       "2017                                           NaN                  NaN   \n",
       "2018                                           NaN                  NaN   \n",
       "2019                                           NaN                  NaN   \n",
       "2020                                           NaN                  NaN   \n",
       "\n",
       "           T_R_W  \n",
       "2002         NaN  \n",
       "2003         NaN  \n",
       "2004  31333156.0  \n",
       "2005         NaN  \n",
       "2006  30011978.0  \n",
       "2007         NaN  \n",
       "2008  35341548.0  \n",
       "2009         NaN  \n",
       "2010  34549788.0  \n",
       "2011         NaN  \n",
       "2012  37283685.0  \n",
       "2013         NaN  \n",
       "2014  38860736.0  \n",
       "2015         NaN  \n",
       "2016  39380869.0  \n",
       "2017         NaN  \n",
       "2018         NaN  \n",
       "2019         NaN  \n",
       "2020         NaN  "
      ]
     },
     "execution_count": 68,
     "metadata": {},
     "output_type": "execute_result"
    }
   ],
   "source": [
    "gyw"
   ]
  },
  {
   "cell_type": "code",
   "execution_count": 69,
   "metadata": {},
   "outputs": [
    {
     "data": {
      "text/plain": [
       "2004    364021937.0\n",
       "2006    363786069.0\n",
       "2008    372796355.0\n",
       "2010    363544995.0\n",
       "2012    368022172.0\n",
       "2014    387504241.0\n",
       "2016    400071672.0\n",
       "Name: Total waste (Tonne), dtype: float64"
      ]
     },
     "execution_count": 69,
     "metadata": {},
     "output_type": "execute_result"
    }
   ],
   "source": [
    "totw=gyw.iloc[:,4]  # by totw i mean Total waste(Tonne)\n",
    "totw=totw.dropna()\n",
    "totw"
   ]
  },
  {
   "cell_type": "code",
   "execution_count": 70,
   "metadata": {},
   "outputs": [
    {
     "data": {
      "image/png": "[encoded data removed]",
      "text/plain": [
       "<Figure size 432x288 with 1 Axes>"
      ]
     },
     "metadata": {
      "needs_background": "light"
     },
     "output_type": "display_data"
    }
   ],
   "source": [
    "plt.plot(totw);"
   ]
  },
  {
   "cell_type": "code",
   "execution_count": 71,
   "metadata": {},
   "outputs": [
    {
     "data": {
      "image/png": "[encoded data removed]",
      "text/plain": [
       "<Figure size 432x288 with 1 Axes>"
      ]
     },
     "metadata": {
      "needs_background": "light"
     },
     "output_type": "display_data"
    }
   ],
   "source": [
    "rolling_mean = totw.rolling(window = 2).mean()\n",
    "rolling_std = totw.rolling(window = 2).std()\n",
    "\n",
    "plt.plot(totw, color = 'blue', label = 'Original')\n",
    "plt.plot(rolling_mean, color = 'red', label = 'Rolling Mean')\n",
    "plt.plot(rolling_std, color = 'black', label = 'Rolling Std')\n",
    "plt.legend(loc = 'best')\n",
    "plt.title('Rolling Mean & Rolling Standard Deviation')\n",
    "plt.show()"
   ]
  },
  {
   "cell_type": "code",
   "execution_count": 72,
   "metadata": {},
   "outputs": [
    {
     "data": {
      "image/png": "[encoded data removed]",
      "text/plain": [
       "<Figure size 432x288 with 1 Axes>"
      ]
     },
     "metadata": {
      "needs_background": "light"
     },
     "output_type": "display_data"
    }
   ],
   "source": [
    "totw_log = np.log(totw)\n",
    "plt.plot(totw_log);"
   ]
  },
  {
   "cell_type": "code",
   "execution_count": 73,
   "metadata": {},
   "outputs": [
    {
     "data": {
      "image/png": "[encoded data removed]",
      "text/plain": [
       "<Figure size 432x288 with 1 Axes>"
      ]
     },
     "metadata": {
      "needs_background": "light"
     },
     "output_type": "display_data"
    },
    {
     "name": "stdout",
     "output_type": "stream",
     "text": [
      "ADF Statistic: -2.0000000000000004\n",
      "p-value: 0.28657309916843143\n",
      "Critical Values:\n",
      "\t1%: -5.354256481481482\n",
      "\t5%: -3.6462381481481483\n",
      "\t10%: -2.901197777777778\n"
     ]
    }
   ],
   "source": [
    "rolling_mean = totw_log.rolling(window=3).mean()\n",
    "totw_log_minus_mean = totw_log - rolling_mean  # we will remove this increasing trend to make our time series stationary.\n",
    "totw_log_minus_mean.dropna(inplace=True)  #Since we took the average of 24 values, rolling mean is  \n",
    "get_stationarity(totw_log_minus_mean);    # not defined for the first 23 values. So let’s drop those null values."
   ]
  },
  {
   "cell_type": "code",
   "execution_count": 74,
   "metadata": {},
   "outputs": [
    {
     "name": "stderr",
     "output_type": "stream",
     "text": [
      "C:\\anacondra\\lib\\site-packages\\ipykernel_launcher.py:1: FutureWarning: the 'freq'' keyword is deprecated, use 'period' instead\n",
      "  \"\"\"Entry point for launching an IPython kernel.\n",
      "C:\\anacondra\\lib\\site-packages\\statsmodels\\tsa\\base\\tsa_model.py:214: ValueWarning: An unsupported index was provided and will be ignored when e.g. forecasting.\n",
      "  ' ignored when e.g. forecasting.', ValueWarning)\n"
     ]
    },
    {
     "data": {
      "image/png": "[encoded data removed]",
      "text/plain": [
       "<Figure size 432x288 with 1 Axes>"
      ]
     },
     "metadata": {
      "needs_background": "light"
     },
     "output_type": "display_data"
    }
   ],
   "source": [
    "decomposition = seasonal_decompose(totw_log,freq=2) \n",
    "\n",
    "model = ARIMA(totw_log, order=(2,0,0))\n",
    "results = model.fit(disp=-1)\n",
    "plt.plot(t_h_w_log)\n",
    "plt.plot(results.fittedvalues, color='red');"
   ]
  },
  {
   "cell_type": "code",
   "execution_count": 75,
   "metadata": {},
   "outputs": [
    {
     "data": {
      "image/png": "[encoded data removed]",
      "text/plain": [
       "<Figure size 432x288 with 1 Axes>"
      ]
     },
     "metadata": {
      "needs_background": "light"
     },
     "output_type": "display_data"
    }
   ],
   "source": [
    "predictions_ARIMA_diff = pd.Series(results.fittedvalues, copy=True)\n",
    "predictions_ARIMA_diff_cumsum = predictions_ARIMA_diff.cumsum()\n",
    "predictions_ARIMA_log = pd.Series(totw_log, index=totw_log.index)\n",
    "predictions_ARIMA_log = predictions_ARIMA_log.add(predictions_ARIMA_diff_cumsum, fill_value=0)\n",
    "predictions_ARIMA = np.exp(predictions_ARIMA_log)\n",
    "plt.plot(totw)\n",
    "plt.plot(predictions_ARIMA);"
   ]
  },
  {
   "cell_type": "code",
   "execution_count": 76,
   "metadata": {},
   "outputs": [
    {
     "name": "stderr",
     "output_type": "stream",
     "text": [
      "C:\\anacondra\\lib\\site-packages\\statsmodels\\tsa\\base\\tsa_model.py:583: ValueWarning: No supported index is available. Prediction results will be given with an integer index beginning at `start`.\n",
      "  ValueWarning)\n",
      "C:\\anacondra\\lib\\site-packages\\statsmodels\\tsa\\base\\tsa_model.py:583: ValueWarning: No supported index is available. Prediction results will be given with an integer index beginning at `start`.\n",
      "  ValueWarning)\n"
     ]
    },
    {
     "data": {
      "image/png": "[encoded data removed]",
      "text/plain": [
       "<Figure size 432x288 with 1 Axes>"
      ]
     },
     "execution_count": 76,
     "metadata": {},
     "output_type": "execute_result"
    },
    {
     "data": {
      "image/png": "[encoded data removed]",
      "text/plain": [
       "<Figure size 432x288 with 1 Axes>"
      ]
     },
     "metadata": {
      "needs_background": "light"
     },
     "output_type": "display_data"
    }
   ],
   "source": [
    "results.plot_predict(1,10)  "
   ]
  },
  {
   "cell_type": "code",
   "execution_count": 77,
   "metadata": {},
   "outputs": [
    {
     "data": {
      "text/plain": [
       "2004    19.743237\n",
       "2006    19.724280\n",
       "2008    19.729680\n",
       "2010    19.753125\n",
       "2012    19.716663\n",
       "2014    19.741296\n",
       "2016    19.783648\n",
       "dtype: float64"
      ]
     },
     "execution_count": 77,
     "metadata": {},
     "output_type": "execute_result"
    }
   ],
   "source": [
    "predictions_ARIMA_diff = pd.Series(results.fittedvalues)\n",
    "predictions_ARIMA_diff"
   ]
  },
  {
   "cell_type": "code",
   "execution_count": 78,
   "metadata": {},
   "outputs": [
    {
     "data": {
      "text/plain": [
       "array([3.92072825e+08, 3.78330918e+08, 3.69658032e+08])"
      ]
     },
     "execution_count": 78,
     "metadata": {},
     "output_type": "execute_result"
    }
   ],
   "source": [
    "totw_pred=np.exp(results.forecast(steps=3)[0])\n",
    "totw_pred"
   ]
  },
  {
   "cell_type": "code",
   "execution_count": 79,
   "metadata": {},
   "outputs": [
    {
     "data": {
      "text/plain": [
       "2004    3.640219e+08\n",
       "2006    3.637861e+08\n",
       "2008    3.727964e+08\n",
       "2010    3.635450e+08\n",
       "2012    3.680222e+08\n",
       "2014    3.875042e+08\n",
       "2016    4.000717e+08\n",
       "Name: Total waste (Tonne), dtype: float64"
      ]
     },
     "execution_count": 79,
     "metadata": {},
     "output_type": "execute_result"
    }
   ],
   "source": [
    "np.exp(totw_log)"
   ]
  },
  {
   "cell_type": "markdown",
   "metadata": {},
   "source": [
    "# Q5b) Percent Recyclable Waste for year 2020\n",
    "Hint: percent of recyclable waste for year 2020\n",
    "= 100*(Total Recyclable Waste for year 2020/Total Waste for year 2020)"
   ]
  },
  {
   "cell_type": "code",
   "execution_count": 80,
   "metadata": {},
   "outputs": [
    {
     "data": {
      "text/plain": [
       "43507271.14265574"
      ]
     },
     "execution_count": 80,
     "metadata": {},
     "output_type": "execute_result"
    }
   ],
   "source": [
    "t_R_w_2020=t_r_w_original[1]\n",
    "t_R_w_2020"
   ]
  },
  {
   "cell_type": "code",
   "execution_count": 81,
   "metadata": {},
   "outputs": [
    {
     "data": {
      "text/plain": [
       "378330918.0974142"
      ]
     },
     "execution_count": 81,
     "metadata": {},
     "output_type": "execute_result"
    }
   ],
   "source": [
    "totw_pred_2020=totw_pred[1]\n",
    "totw_pred_2020"
   ]
  },
  {
   "cell_type": "code",
   "execution_count": 82,
   "metadata": {},
   "outputs": [
    {
     "data": {
      "text/plain": [
       "11.499792658091271"
      ]
     },
     "execution_count": 82,
     "metadata": {},
     "output_type": "execute_result"
    }
   ],
   "source": [
    "p_rw2020=100*(t_R_w_2020/totw_pred_2020)\n",
    "p_rw2020"
   ]
  },
  {
   "cell_type": "markdown",
   "metadata": {},
   "source": [
    "# Q6) Using Python calculate\n",
    "\n",
    " Q6a) the Percent Hazardous Waste for each available year. Do this from 2004 till 2020.\n",
    " \n",
    " Q6b) the Percent Non-Hazardous Waste for each available year. Do this from 2004 till 2020.\n",
    " \n",
    " Q6c) the Percent Recyclable Waste for each available year. Do this from 2004 till 2020.\n"
   ]
  },
  {
   "cell_type": "code",
   "execution_count": 126,
   "metadata": {},
   "outputs": [
    {
     "data": {
      "text/html": [
       "<div>\n",
       "<style scoped>\n",
       "    .dataframe tbody tr th:only-of-type {\n",
       "        vertical-align: middle;\n",
       "    }\n",
       "\n",
       "    .dataframe tbody tr th {\n",
       "        vertical-align: top;\n",
       "    }\n",
       "\n",
       "    .dataframe thead th {\n",
       "        text-align: right;\n",
       "    }\n",
       "</style>\n",
       "<table border=\"1\" class=\"dataframe\">\n",
       "  <thead>\n",
       "    <tr style=\"text-align: right;\">\n",
       "      <th></th>\n",
       "      <th>Anteil der behandelten und stofflich verwerteten Siedlungsabfälle am gesamten Siedlungsabfallaufkommen (Percent share of processed and recycled municipal waste in the total amount of municipal waste)</th>\n",
       "      <th>Percent Municipal waste generation</th>\n",
       "      <th>Total Recyclable waste (Tonne) Hazardous</th>\n",
       "      <th>Total Recyclable waste (Tonne) Non-Hazardous</th>\n",
       "      <th>Total waste (Tonne)</th>\n",
       "      <th>T_R_W</th>\n",
       "    </tr>\n",
       "  </thead>\n",
       "  <tbody>\n",
       "    <tr>\n",
       "      <th>2002</th>\n",
       "      <td>56.100000</td>\n",
       "      <td>52.772</td>\n",
       "      <td>NaN</td>\n",
       "      <td>NaN</td>\n",
       "      <td>NaN</td>\n",
       "      <td>NaN</td>\n",
       "    </tr>\n",
       "    <tr>\n",
       "      <th>2003</th>\n",
       "      <td>57.800000</td>\n",
       "      <td>49.622</td>\n",
       "      <td>NaN</td>\n",
       "      <td>NaN</td>\n",
       "      <td>NaN</td>\n",
       "      <td>NaN</td>\n",
       "    </tr>\n",
       "    <tr>\n",
       "      <th>2004</th>\n",
       "      <td>56.700000</td>\n",
       "      <td>48.434</td>\n",
       "      <td>446313.0</td>\n",
       "      <td>30886843.0</td>\n",
       "      <td>364021937.0</td>\n",
       "      <td>31333156.0</td>\n",
       "    </tr>\n",
       "    <tr>\n",
       "      <th>2005</th>\n",
       "      <td>60.900000</td>\n",
       "      <td>46.555</td>\n",
       "      <td>NaN</td>\n",
       "      <td>NaN</td>\n",
       "      <td>NaN</td>\n",
       "      <td>NaN</td>\n",
       "    </tr>\n",
       "    <tr>\n",
       "      <th>2006</th>\n",
       "      <td>62.000000</td>\n",
       "      <td>46.426</td>\n",
       "      <td>586837.0</td>\n",
       "      <td>29425141.0</td>\n",
       "      <td>363786069.0</td>\n",
       "      <td>30011978.0</td>\n",
       "    </tr>\n",
       "    <tr>\n",
       "      <th>2007</th>\n",
       "      <td>63.200000</td>\n",
       "      <td>47.887</td>\n",
       "      <td>NaN</td>\n",
       "      <td>NaN</td>\n",
       "      <td>NaN</td>\n",
       "      <td>NaN</td>\n",
       "    </tr>\n",
       "    <tr>\n",
       "      <th>2008</th>\n",
       "      <td>63.750000</td>\n",
       "      <td>48.367</td>\n",
       "      <td>816544.0</td>\n",
       "      <td>34525004.0</td>\n",
       "      <td>372796355.0</td>\n",
       "      <td>35341548.0</td>\n",
       "    </tr>\n",
       "    <tr>\n",
       "      <th>2009</th>\n",
       "      <td>63.120000</td>\n",
       "      <td>48.466</td>\n",
       "      <td>NaN</td>\n",
       "      <td>NaN</td>\n",
       "      <td>NaN</td>\n",
       "      <td>NaN</td>\n",
       "    </tr>\n",
       "    <tr>\n",
       "      <th>2010</th>\n",
       "      <td>62.500000</td>\n",
       "      <td>49.237</td>\n",
       "      <td>1085701.0</td>\n",
       "      <td>33464087.0</td>\n",
       "      <td>363544995.0</td>\n",
       "      <td>34549788.0</td>\n",
       "    </tr>\n",
       "    <tr>\n",
       "      <th>2011</th>\n",
       "      <td>62.970000</td>\n",
       "      <td>50.237</td>\n",
       "      <td>NaN</td>\n",
       "      <td>NaN</td>\n",
       "      <td>NaN</td>\n",
       "      <td>NaN</td>\n",
       "    </tr>\n",
       "    <tr>\n",
       "      <th>2012</th>\n",
       "      <td>65.230000</td>\n",
       "      <td>49.759</td>\n",
       "      <td>1316111.0</td>\n",
       "      <td>35967574.0</td>\n",
       "      <td>368022172.0</td>\n",
       "      <td>37283685.0</td>\n",
       "    </tr>\n",
       "    <tr>\n",
       "      <th>2013</th>\n",
       "      <td>63.806738</td>\n",
       "      <td>49.570</td>\n",
       "      <td>NaN</td>\n",
       "      <td>NaN</td>\n",
       "      <td>NaN</td>\n",
       "      <td>NaN</td>\n",
       "    </tr>\n",
       "    <tr>\n",
       "      <th>2014</th>\n",
       "      <td>65.600000</td>\n",
       "      <td>51.102</td>\n",
       "      <td>1081826.0</td>\n",
       "      <td>37778910.0</td>\n",
       "      <td>387504241.0</td>\n",
       "      <td>38860736.0</td>\n",
       "    </tr>\n",
       "    <tr>\n",
       "      <th>2015</th>\n",
       "      <td>66.700000</td>\n",
       "      <td>51.600</td>\n",
       "      <td>NaN</td>\n",
       "      <td>NaN</td>\n",
       "      <td>NaN</td>\n",
       "      <td>NaN</td>\n",
       "    </tr>\n",
       "    <tr>\n",
       "      <th>2016</th>\n",
       "      <td>67.100000</td>\n",
       "      <td>52.100</td>\n",
       "      <td>1052041.0</td>\n",
       "      <td>38328828.0</td>\n",
       "      <td>400071672.0</td>\n",
       "      <td>39380869.0</td>\n",
       "    </tr>\n",
       "    <tr>\n",
       "      <th>2017</th>\n",
       "      <td>67.200000</td>\n",
       "      <td>51.790</td>\n",
       "      <td>NaN</td>\n",
       "      <td>NaN</td>\n",
       "      <td>NaN</td>\n",
       "      <td>NaN</td>\n",
       "    </tr>\n",
       "    <tr>\n",
       "      <th>2018</th>\n",
       "      <td>NaN</td>\n",
       "      <td>NaN</td>\n",
       "      <td>NaN</td>\n",
       "      <td>NaN</td>\n",
       "      <td>NaN</td>\n",
       "      <td>NaN</td>\n",
       "    </tr>\n",
       "    <tr>\n",
       "      <th>2019</th>\n",
       "      <td>NaN</td>\n",
       "      <td>NaN</td>\n",
       "      <td>NaN</td>\n",
       "      <td>NaN</td>\n",
       "      <td>NaN</td>\n",
       "      <td>NaN</td>\n",
       "    </tr>\n",
       "    <tr>\n",
       "      <th>2020</th>\n",
       "      <td>65.000000</td>\n",
       "      <td>NaN</td>\n",
       "      <td>NaN</td>\n",
       "      <td>NaN</td>\n",
       "      <td>NaN</td>\n",
       "      <td>NaN</td>\n",
       "    </tr>\n",
       "  </tbody>\n",
       "</table>\n",
       "</div>"
      ],
      "text/plain": [
       "      Anteil der behandelten und stofflich verwerteten Siedlungsabfälle am gesamten Siedlungsabfallaufkommen (Percent share of processed and recycled municipal waste in the total amount of municipal waste)  \\\n",
       "2002                                          56.100000                                                                                                                                                         \n",
       "2003                                          57.800000                                                                                                                                                         \n",
       "2004                                          56.700000                                                                                                                                                         \n",
       "2005                                          60.900000                                                                                                                                                         \n",
       "2006                                          62.000000                                                                                                                                                         \n",
       "2007                                          63.200000                                                                                                                                                         \n",
       "2008                                          63.750000                                                                                                                                                         \n",
       "2009                                          63.120000                                                                                                                                                         \n",
       "2010                                          62.500000                                                                                                                                                         \n",
       "2011                                          62.970000                                                                                                                                                         \n",
       "2012                                          65.230000                                                                                                                                                         \n",
       "2013                                          63.806738                                                                                                                                                         \n",
       "2014                                          65.600000                                                                                                                                                         \n",
       "2015                                          66.700000                                                                                                                                                         \n",
       "2016                                          67.100000                                                                                                                                                         \n",
       "2017                                          67.200000                                                                                                                                                         \n",
       "2018                                                NaN                                                                                                                                                         \n",
       "2019                                                NaN                                                                                                                                                         \n",
       "2020                                          65.000000                                                                                                                                                         \n",
       "\n",
       "      Percent Municipal waste generation  \\\n",
       "2002                              52.772   \n",
       "2003                              49.622   \n",
       "2004                              48.434   \n",
       "2005                              46.555   \n",
       "2006                              46.426   \n",
       "2007                              47.887   \n",
       "2008                              48.367   \n",
       "2009                              48.466   \n",
       "2010                              49.237   \n",
       "2011                              50.237   \n",
       "2012                              49.759   \n",
       "2013                              49.570   \n",
       "2014                              51.102   \n",
       "2015                              51.600   \n",
       "2016                              52.100   \n",
       "2017                              51.790   \n",
       "2018                                 NaN   \n",
       "2019                                 NaN   \n",
       "2020                                 NaN   \n",
       "\n",
       "      Total Recyclable waste (Tonne) Hazardous   \\\n",
       "2002                                        NaN   \n",
       "2003                                        NaN   \n",
       "2004                                   446313.0   \n",
       "2005                                        NaN   \n",
       "2006                                   586837.0   \n",
       "2007                                        NaN   \n",
       "2008                                   816544.0   \n",
       "2009                                        NaN   \n",
       "2010                                  1085701.0   \n",
       "2011                                        NaN   \n",
       "2012                                  1316111.0   \n",
       "2013                                        NaN   \n",
       "2014                                  1081826.0   \n",
       "2015                                        NaN   \n",
       "2016                                  1052041.0   \n",
       "2017                                        NaN   \n",
       "2018                                        NaN   \n",
       "2019                                        NaN   \n",
       "2020                                        NaN   \n",
       "\n",
       "      Total Recyclable waste (Tonne) Non-Hazardous  Total waste (Tonne)  \\\n",
       "2002                                           NaN                  NaN   \n",
       "2003                                           NaN                  NaN   \n",
       "2004                                    30886843.0          364021937.0   \n",
       "2005                                           NaN                  NaN   \n",
       "2006                                    29425141.0          363786069.0   \n",
       "2007                                           NaN                  NaN   \n",
       "2008                                    34525004.0          372796355.0   \n",
       "2009                                           NaN                  NaN   \n",
       "2010                                    33464087.0          363544995.0   \n",
       "2011                                           NaN                  NaN   \n",
       "2012                                    35967574.0          368022172.0   \n",
       "2013                                           NaN                  NaN   \n",
       "2014                                    37778910.0          387504241.0   \n",
       "2015                                           NaN                  NaN   \n",
       "2016                                    38328828.0          400071672.0   \n",
       "2017                                           NaN                  NaN   \n",
       "2018                                           NaN                  NaN   \n",
       "2019                                           NaN                  NaN   \n",
       "2020                                           NaN                  NaN   \n",
       "\n",
       "           T_R_W  \n",
       "2002         NaN  \n",
       "2003         NaN  \n",
       "2004  31333156.0  \n",
       "2005         NaN  \n",
       "2006  30011978.0  \n",
       "2007         NaN  \n",
       "2008  35341548.0  \n",
       "2009         NaN  \n",
       "2010  34549788.0  \n",
       "2011         NaN  \n",
       "2012  37283685.0  \n",
       "2013         NaN  \n",
       "2014  38860736.0  \n",
       "2015         NaN  \n",
       "2016  39380869.0  \n",
       "2017         NaN  \n",
       "2018         NaN  \n",
       "2019         NaN  \n",
       "2020         NaN  "
      ]
     },
     "execution_count": 126,
     "metadata": {},
     "output_type": "execute_result"
    }
   ],
   "source": [
    "gyw"
   ]
  },
  {
   "cell_type": "code",
   "execution_count": 127,
   "metadata": {},
   "outputs": [],
   "source": [
    "gyw_q5=gyw.iloc[:,[2,3,4,5]].dropna()"
   ]
  },
  {
   "cell_type": "code",
   "execution_count": 128,
   "metadata": {},
   "outputs": [
    {
     "data": {
      "text/html": [
       "<div>\n",
       "<style scoped>\n",
       "    .dataframe tbody tr th:only-of-type {\n",
       "        vertical-align: middle;\n",
       "    }\n",
       "\n",
       "    .dataframe tbody tr th {\n",
       "        vertical-align: top;\n",
       "    }\n",
       "\n",
       "    .dataframe thead th {\n",
       "        text-align: right;\n",
       "    }\n",
       "</style>\n",
       "<table border=\"1\" class=\"dataframe\">\n",
       "  <thead>\n",
       "    <tr style=\"text-align: right;\">\n",
       "      <th></th>\n",
       "      <th>Total Recyclable waste (Tonne) Hazardous</th>\n",
       "      <th>Total Recyclable waste (Tonne) Non-Hazardous</th>\n",
       "      <th>Total waste (Tonne)</th>\n",
       "      <th>T_R_W</th>\n",
       "    </tr>\n",
       "  </thead>\n",
       "  <tbody>\n",
       "    <tr>\n",
       "      <th>2004</th>\n",
       "      <td>446313.0</td>\n",
       "      <td>30886843.0</td>\n",
       "      <td>364021937.0</td>\n",
       "      <td>31333156.0</td>\n",
       "    </tr>\n",
       "    <tr>\n",
       "      <th>2006</th>\n",
       "      <td>586837.0</td>\n",
       "      <td>29425141.0</td>\n",
       "      <td>363786069.0</td>\n",
       "      <td>30011978.0</td>\n",
       "    </tr>\n",
       "    <tr>\n",
       "      <th>2008</th>\n",
       "      <td>816544.0</td>\n",
       "      <td>34525004.0</td>\n",
       "      <td>372796355.0</td>\n",
       "      <td>35341548.0</td>\n",
       "    </tr>\n",
       "    <tr>\n",
       "      <th>2010</th>\n",
       "      <td>1085701.0</td>\n",
       "      <td>33464087.0</td>\n",
       "      <td>363544995.0</td>\n",
       "      <td>34549788.0</td>\n",
       "    </tr>\n",
       "    <tr>\n",
       "      <th>2012</th>\n",
       "      <td>1316111.0</td>\n",
       "      <td>35967574.0</td>\n",
       "      <td>368022172.0</td>\n",
       "      <td>37283685.0</td>\n",
       "    </tr>\n",
       "    <tr>\n",
       "      <th>2014</th>\n",
       "      <td>1081826.0</td>\n",
       "      <td>37778910.0</td>\n",
       "      <td>387504241.0</td>\n",
       "      <td>38860736.0</td>\n",
       "    </tr>\n",
       "    <tr>\n",
       "      <th>2016</th>\n",
       "      <td>1052041.0</td>\n",
       "      <td>38328828.0</td>\n",
       "      <td>400071672.0</td>\n",
       "      <td>39380869.0</td>\n",
       "    </tr>\n",
       "  </tbody>\n",
       "</table>\n",
       "</div>"
      ],
      "text/plain": [
       "      Total Recyclable waste (Tonne) Hazardous   \\\n",
       "2004                                   446313.0   \n",
       "2006                                   586837.0   \n",
       "2008                                   816544.0   \n",
       "2010                                  1085701.0   \n",
       "2012                                  1316111.0   \n",
       "2014                                  1081826.0   \n",
       "2016                                  1052041.0   \n",
       "\n",
       "      Total Recyclable waste (Tonne) Non-Hazardous  Total waste (Tonne)  \\\n",
       "2004                                    30886843.0          364021937.0   \n",
       "2006                                    29425141.0          363786069.0   \n",
       "2008                                    34525004.0          372796355.0   \n",
       "2010                                    33464087.0          363544995.0   \n",
       "2012                                    35967574.0          368022172.0   \n",
       "2014                                    37778910.0          387504241.0   \n",
       "2016                                    38328828.0          400071672.0   \n",
       "\n",
       "           T_R_W  \n",
       "2004  31333156.0  \n",
       "2006  30011978.0  \n",
       "2008  35341548.0  \n",
       "2010  34549788.0  \n",
       "2012  37283685.0  \n",
       "2014  38860736.0  \n",
       "2016  39380869.0  "
      ]
     },
     "execution_count": 128,
     "metadata": {},
     "output_type": "execute_result"
    }
   ],
   "source": [
    "gyw_q5"
   ]
  },
  {
   "cell_type": "markdown",
   "metadata": {},
   "source": [
    "# Q6a) the Percent Hazardous Waste for each available year. Do this from 2004 till 2020."
   ]
  },
  {
   "cell_type": "code",
   "execution_count": 129,
   "metadata": {},
   "outputs": [
    {
     "data": {
      "text/html": [
       "<div>\n",
       "<style scoped>\n",
       "    .dataframe tbody tr th:only-of-type {\n",
       "        vertical-align: middle;\n",
       "    }\n",
       "\n",
       "    .dataframe tbody tr th {\n",
       "        vertical-align: top;\n",
       "    }\n",
       "\n",
       "    .dataframe thead th {\n",
       "        text-align: right;\n",
       "    }\n",
       "</style>\n",
       "<table border=\"1\" class=\"dataframe\">\n",
       "  <thead>\n",
       "    <tr style=\"text-align: right;\">\n",
       "      <th></th>\n",
       "      <th>Total Recyclable waste (Tonne) Hazardous</th>\n",
       "      <th>Total Recyclable waste (Tonne) Non-Hazardous</th>\n",
       "      <th>Total waste (Tonne)</th>\n",
       "      <th>T_R_W</th>\n",
       "    </tr>\n",
       "  </thead>\n",
       "  <tbody>\n",
       "    <tr>\n",
       "      <th>2020</th>\n",
       "      <td>818055.944476</td>\n",
       "      <td>4.214337e+07</td>\n",
       "      <td>378330918.0</td>\n",
       "      <td>4.350727e+07</td>\n",
       "    </tr>\n",
       "  </tbody>\n",
       "</table>\n",
       "</div>"
      ],
      "text/plain": [
       "      Total Recyclable waste (Tonne) Hazardous   \\\n",
       "2020                              818055.944476   \n",
       "\n",
       "      Total Recyclable waste (Tonne) Non-Hazardous  Total waste (Tonne)  \\\n",
       "2020                                  4.214337e+07          378330918.0   \n",
       "\n",
       "             T_R_W  \n",
       "2020  4.350727e+07  "
      ]
     },
     "execution_count": 129,
     "metadata": {},
     "output_type": "execute_result"
    }
   ],
   "source": [
    "pred2020={'2020':[818055.94447589,42143366.6359556,3.78330918e+08,43507271.14265574]}\n",
    "y_pred_2020=pd.DataFrame.from_dict(pred2020,orient='index',columns=gyw_q5.columns)\n",
    "y_pred_2020"
   ]
  },
  {
   "cell_type": "code",
   "execution_count": 130,
   "metadata": {},
   "outputs": [
    {
     "data": {
      "text/plain": [
       "Float64Index([2004.0, 2006.0, 2008.0, 2010.0, 2012.0, 2014.0, 2016.0, 2020.0], dtype='float64')"
      ]
     },
     "execution_count": 130,
     "metadata": {},
     "output_type": "execute_result"
    }
   ],
   "source": [
    "gyw_total=pd.concat([gyw_q5,y_pred_2020])\n",
    "\n",
    "gyw_total.index=gyw_total.index.astype(float)\n",
    "gyw_total.index"
   ]
  },
  {
   "cell_type": "code",
   "execution_count": 131,
   "metadata": {},
   "outputs": [
    {
     "data": {
      "text/plain": [
       "2004.0    0.122606\n",
       "2006.0    0.161314\n",
       "2008.0    0.219032\n",
       "2010.0    0.298643\n",
       "2012.0    0.357617\n",
       "2014.0    0.279178\n",
       "2016.0    0.262963\n",
       "2020.0    0.216228\n",
       "dtype: float64"
      ]
     },
     "execution_count": 131,
     "metadata": {},
     "output_type": "execute_result"
    }
   ],
   "source": [
    "phw=100*((gyw_total.iloc[:,0])/(gyw_total.iloc[:,2]))\n",
    "phw"
   ]
  },
  {
   "cell_type": "markdown",
   "metadata": {},
   "source": [
    "# Q6b) the Percent Non-Hazardous Waste for each available year. Do this from 2004 till 2020."
   ]
  },
  {
   "cell_type": "code",
   "execution_count": 132,
   "metadata": {},
   "outputs": [
    {
     "data": {
      "text/plain": [
       "2004.0     8.484885\n",
       "2006.0     8.088584\n",
       "2008.0     9.261089\n",
       "2010.0     9.204937\n",
       "2012.0     9.773208\n",
       "2014.0     9.749289\n",
       "2016.0     9.580490\n",
       "2020.0    11.139287\n",
       "dtype: float64"
      ]
     },
     "execution_count": 132,
     "metadata": {},
     "output_type": "execute_result"
    }
   ],
   "source": [
    "pnhw=100*((gyw_total.iloc[:,1])/(gyw_total.iloc[:,2]))\n",
    "pnhw"
   ]
  },
  {
   "cell_type": "markdown",
   "metadata": {},
   "source": [
    "# Q6c) the Percent Recyclable Waste for each available year. Do this from 2004 till 2020."
   ]
  },
  {
   "cell_type": "code",
   "execution_count": 133,
   "metadata": {},
   "outputs": [
    {
     "data": {
      "text/plain": [
       "2004.0     8.607491\n",
       "2006.0     8.249898\n",
       "2008.0     9.480122\n",
       "2010.0     9.503580\n",
       "2012.0    10.130826\n",
       "2014.0    10.028467\n",
       "2016.0     9.843454\n",
       "2020.0    11.499793\n",
       "dtype: float64"
      ]
     },
     "execution_count": 133,
     "metadata": {},
     "output_type": "execute_result"
    }
   ],
   "source": [
    "prw=100*((gyw_total.iloc[:,3])/(gyw_total.iloc[:,2]))\n",
    "prw"
   ]
  },
  {
   "cell_type": "markdown",
   "metadata": {},
   "source": [
    "# Q7 Make a separate bar plot similar to Q2 to visualize Q6a, Q6b, and Q6c."
   ]
  },
  {
   "cell_type": "code",
   "execution_count": 134,
   "metadata": {},
   "outputs": [
    {
     "data": {
      "image/png": "[encoded data removed]",
      "text/plain": [
       "<Figure size 1440x1080 with 1 Axes>"
      ]
     },
     "metadata": {
      "needs_background": "light"
     },
     "output_type": "display_data"
    }
   ],
   "source": [
    "#plotting our DataFrame\n",
    "\n",
    "plt.figure(figsize=(20,15))\n",
    "\n",
    "plt.bar(gyw_total.index-0.6,phw,width=0.6,color='r')\n",
    "plt.bar(gyw_total.index+0.0,pnhw,width=0.6,color='b')\n",
    "plt.bar(gyw_total.index+0.6,prw,width=0.6,color='g')\n",
    "\n",
    "\n",
    "plt.legend(['Total Hazardous in percent','Total Non-Hazardous in percent','Total Recyclable Waste in percent'],loc='best')\n",
    "plt.xlabel('Jear',color='black',fontsize=20)\n",
    "plt.ylabel('Tonn',color='black',fontsize=20)\n",
    "plt.title('Germany Yearly Waste',fontsize='25')\n",
    "plt.grid(which='major');"
   ]
  },
  {
   "cell_type": "code",
   "execution_count": 135,
   "metadata": {},
   "outputs": [
    {
     "data": {
      "text/html": [
       "<div>\n",
       "<style scoped>\n",
       "    .dataframe tbody tr th:only-of-type {\n",
       "        vertical-align: middle;\n",
       "    }\n",
       "\n",
       "    .dataframe tbody tr th {\n",
       "        vertical-align: top;\n",
       "    }\n",
       "\n",
       "    .dataframe thead th {\n",
       "        text-align: right;\n",
       "    }\n",
       "</style>\n",
       "<table border=\"1\" class=\"dataframe\">\n",
       "  <thead>\n",
       "    <tr style=\"text-align: right;\">\n",
       "      <th></th>\n",
       "      <th>Total Recyclable waste (Tonne) Hazardous</th>\n",
       "      <th>Total Recyclable waste (Tonne) Non-Hazardous</th>\n",
       "      <th>Total waste (Tonne)</th>\n",
       "      <th>T_R_W</th>\n",
       "    </tr>\n",
       "  </thead>\n",
       "  <tbody>\n",
       "    <tr>\n",
       "      <th>2004</th>\n",
       "      <td>446313.0</td>\n",
       "      <td>30886843.0</td>\n",
       "      <td>364021937.0</td>\n",
       "      <td>31333156.0</td>\n",
       "    </tr>\n",
       "    <tr>\n",
       "      <th>2006</th>\n",
       "      <td>586837.0</td>\n",
       "      <td>29425141.0</td>\n",
       "      <td>363786069.0</td>\n",
       "      <td>30011978.0</td>\n",
       "    </tr>\n",
       "    <tr>\n",
       "      <th>2008</th>\n",
       "      <td>816544.0</td>\n",
       "      <td>34525004.0</td>\n",
       "      <td>372796355.0</td>\n",
       "      <td>35341548.0</td>\n",
       "    </tr>\n",
       "    <tr>\n",
       "      <th>2010</th>\n",
       "      <td>1085701.0</td>\n",
       "      <td>33464087.0</td>\n",
       "      <td>363544995.0</td>\n",
       "      <td>34549788.0</td>\n",
       "    </tr>\n",
       "    <tr>\n",
       "      <th>2012</th>\n",
       "      <td>1316111.0</td>\n",
       "      <td>35967574.0</td>\n",
       "      <td>368022172.0</td>\n",
       "      <td>37283685.0</td>\n",
       "    </tr>\n",
       "    <tr>\n",
       "      <th>2014</th>\n",
       "      <td>1081826.0</td>\n",
       "      <td>37778910.0</td>\n",
       "      <td>387504241.0</td>\n",
       "      <td>38860736.0</td>\n",
       "    </tr>\n",
       "    <tr>\n",
       "      <th>2016</th>\n",
       "      <td>1052041.0</td>\n",
       "      <td>38328828.0</td>\n",
       "      <td>400071672.0</td>\n",
       "      <td>39380869.0</td>\n",
       "    </tr>\n",
       "  </tbody>\n",
       "</table>\n",
       "</div>"
      ],
      "text/plain": [
       "      Total Recyclable waste (Tonne) Hazardous   \\\n",
       "2004                                   446313.0   \n",
       "2006                                   586837.0   \n",
       "2008                                   816544.0   \n",
       "2010                                  1085701.0   \n",
       "2012                                  1316111.0   \n",
       "2014                                  1081826.0   \n",
       "2016                                  1052041.0   \n",
       "\n",
       "      Total Recyclable waste (Tonne) Non-Hazardous  Total waste (Tonne)  \\\n",
       "2004                                    30886843.0          364021937.0   \n",
       "2006                                    29425141.0          363786069.0   \n",
       "2008                                    34525004.0          372796355.0   \n",
       "2010                                    33464087.0          363544995.0   \n",
       "2012                                    35967574.0          368022172.0   \n",
       "2014                                    37778910.0          387504241.0   \n",
       "2016                                    38328828.0          400071672.0   \n",
       "\n",
       "           T_R_W  \n",
       "2004  31333156.0  \n",
       "2006  30011978.0  \n",
       "2008  35341548.0  \n",
       "2010  34549788.0  \n",
       "2012  37283685.0  \n",
       "2014  38860736.0  \n",
       "2016  39380869.0  "
      ]
     },
     "execution_count": 135,
     "metadata": {},
     "output_type": "execute_result"
    }
   ],
   "source": [
    "gyw_q5"
   ]
  },
  {
   "cell_type": "code",
   "execution_count": null,
   "metadata": {},
   "outputs": [],
   "source": []
  },
  {
   "cell_type": "code",
   "execution_count": null,
   "metadata": {},
   "outputs": [],
   "source": []
  },
  {
   "cell_type": "code",
   "execution_count": null,
   "metadata": {},
   "outputs": [],
   "source": []
  },
  {
   "cell_type": "code",
   "execution_count": null,
   "metadata": {},
   "outputs": [],
   "source": []
  }
 ],
 "metadata": {
  "kernelspec": {
   "display_name": "Python 3",
   "language": "python",
   "name": "python3"
  },
  "language_info": {
   "codemirror_mode": {
    "name": "ipython",
    "version": 3
   },
   "file_extension": ".py",
   "mimetype": "text/x-python",
   "name": "python",
   "nbconvert_exporter": "python",
   "pygments_lexer": "ipython3",
   "version": "3.7.7"
  }
 },
 "nbformat": 4,
 "nbformat_minor": 2
}
